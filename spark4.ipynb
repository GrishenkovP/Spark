{
  "nbformat": 4,
  "nbformat_minor": 0,
  "metadata": {
    "colab": {
      "name": "spark4.ipynb",
      "provenance": [],
      "collapsed_sections": []
    },
    "kernelspec": {
      "name": "python3",
      "display_name": "Python 3"
    }
  },
  "cells": [
    {
      "cell_type": "code",
      "metadata": {
        "id": "zH9NLWD13EjB"
      },
      "source": [
        "# Install the dependencies\n",
        "!apt-get install openjdk-8-jdk-headless -qq > /dev/null\n",
        "!wget -q https://archive.apache.org/dist/spark/spark-3.0.1/spark-3.0.1-bin-hadoop3.2.tgz\n",
        "!tar xf spark-3.0.1-bin-hadoop3.2.tgz\n",
        "!pip install -q findspark"
      ],
      "execution_count": null,
      "outputs": []
    },
    {
      "cell_type": "code",
      "metadata": {
        "id": "c6Cokct83h5R"
      },
      "source": [
        "# Set the environment variables for running PySpark in the collaboration environmentimport os\n",
        "import os\n",
        "os.environ[\"JAVA_HOME\"] = \"/usr/lib/jvm/java-8-openjdk-amd64\"\n",
        "os.environ[\"SPARK_HOME\"] = \"/content/spark-3.0.1-bin-hadoop3.2\""
      ],
      "execution_count": null,
      "outputs": []
    },
    {
      "cell_type": "code",
      "metadata": {
        "id": "WaccJdNb4hol"
      },
      "source": [
        "# Run the local session to test the installation\n",
        "import findspark\n",
        "findspark.init('spark-3.0.1-bin-hadoop3.2')\n",
        "from pyspark.sql import SparkSession\n",
        "spark = SparkSession.builder.master('local[*]').getOrCreate()"
      ],
      "execution_count": null,
      "outputs": []
    },
    {
      "cell_type": "code",
      "metadata": {
        "colab": {
          "base_uri": "https://localhost:8080/",
          "height": 216
        },
        "id": "Uq4KARAb0_AR",
        "outputId": "34ca97ea-b4b9-4fdf-a860-6c6117361232"
      },
      "source": [
        "spark"
      ],
      "execution_count": null,
      "outputs": [
        {
          "output_type": "execute_result",
          "data": {
            "text/html": [
              "\n",
              "            <div>\n",
              "                <p><b>SparkSession - in-memory</b></p>\n",
              "                \n",
              "        <div>\n",
              "            <p><b>SparkContext</b></p>\n",
              "\n",
              "            <p><a href=\"http://61d6eaa9ca48:4040\">Spark UI</a></p>\n",
              "\n",
              "            <dl>\n",
              "              <dt>Version</dt>\n",
              "                <dd><code>v3.0.1</code></dd>\n",
              "              <dt>Master</dt>\n",
              "                <dd><code>local[*]</code></dd>\n",
              "              <dt>AppName</dt>\n",
              "                <dd><code>pyspark-shell</code></dd>\n",
              "            </dl>\n",
              "        </div>\n",
              "        \n",
              "            </div>\n",
              "        "
            ],
            "text/plain": [
              "<pyspark.sql.session.SparkSession at 0x7f1105582be0>"
            ]
          },
          "metadata": {
            "tags": []
          },
          "execution_count": 4
        }
      ]
    },
    {
      "cell_type": "code",
      "metadata": {
        "id": "N6ymCYUi2kO_"
      },
      "source": [
        "df = (spark.read\r\n",
        "          .format(\"csv\")\r\n",
        "          .option('header', 'true')\r\n",
        "          .load(\"drive/MyDrive/db/iris_frame.csv\"))"
      ],
      "execution_count": 6,
      "outputs": []
    },
    {
      "cell_type": "code",
      "metadata": {
        "colab": {
          "base_uri": "https://localhost:8080/"
        },
        "id": "HD4TXz5f5XQG",
        "outputId": "ac8cb1bc-f59a-493b-e9af-c1e2438cd2ae"
      },
      "source": [
        "df.show(5)"
      ],
      "execution_count": 7,
      "outputs": [
        {
          "output_type": "stream",
          "text": [
            "+---+-----------------+----------------+-----------------+----------------+------+\n",
            "|_c0|sepal length (cm)|sepal width (cm)|petal length (cm)|petal width (cm)|target|\n",
            "+---+-----------------+----------------+-----------------+----------------+------+\n",
            "|  0|              5.1|             3.5|              1.4|             0.2|     0|\n",
            "|  1|              4.9|             3.0|              1.4|             0.2|     0|\n",
            "|  2|              4.7|             3.2|              1.3|             0.2|     0|\n",
            "|  3|              4.6|             3.1|              1.5|             0.2|     0|\n",
            "|  4|              5.0|             3.6|              1.4|             0.2|     0|\n",
            "+---+-----------------+----------------+-----------------+----------------+------+\n",
            "only showing top 5 rows\n",
            "\n"
          ],
          "name": "stdout"
        }
      ]
    },
    {
      "cell_type": "code",
      "metadata": {
        "colab": {
          "base_uri": "https://localhost:8080/",
          "height": 419
        },
        "id": "Z6fRlGq65ky2",
        "outputId": "b0c59f19-aa21-4bd2-85c1-125a664f669c"
      },
      "source": [
        "df.toPandas()"
      ],
      "execution_count": 8,
      "outputs": [
        {
          "output_type": "execute_result",
          "data": {
            "text/html": [
              "<div>\n",
              "<style scoped>\n",
              "    .dataframe tbody tr th:only-of-type {\n",
              "        vertical-align: middle;\n",
              "    }\n",
              "\n",
              "    .dataframe tbody tr th {\n",
              "        vertical-align: top;\n",
              "    }\n",
              "\n",
              "    .dataframe thead th {\n",
              "        text-align: right;\n",
              "    }\n",
              "</style>\n",
              "<table border=\"1\" class=\"dataframe\">\n",
              "  <thead>\n",
              "    <tr style=\"text-align: right;\">\n",
              "      <th></th>\n",
              "      <th>_c0</th>\n",
              "      <th>sepal length (cm)</th>\n",
              "      <th>sepal width (cm)</th>\n",
              "      <th>petal length (cm)</th>\n",
              "      <th>petal width (cm)</th>\n",
              "      <th>target</th>\n",
              "    </tr>\n",
              "  </thead>\n",
              "  <tbody>\n",
              "    <tr>\n",
              "      <th>0</th>\n",
              "      <td>0</td>\n",
              "      <td>5.1</td>\n",
              "      <td>3.5</td>\n",
              "      <td>1.4</td>\n",
              "      <td>0.2</td>\n",
              "      <td>0</td>\n",
              "    </tr>\n",
              "    <tr>\n",
              "      <th>1</th>\n",
              "      <td>1</td>\n",
              "      <td>4.9</td>\n",
              "      <td>3.0</td>\n",
              "      <td>1.4</td>\n",
              "      <td>0.2</td>\n",
              "      <td>0</td>\n",
              "    </tr>\n",
              "    <tr>\n",
              "      <th>2</th>\n",
              "      <td>2</td>\n",
              "      <td>4.7</td>\n",
              "      <td>3.2</td>\n",
              "      <td>1.3</td>\n",
              "      <td>0.2</td>\n",
              "      <td>0</td>\n",
              "    </tr>\n",
              "    <tr>\n",
              "      <th>3</th>\n",
              "      <td>3</td>\n",
              "      <td>4.6</td>\n",
              "      <td>3.1</td>\n",
              "      <td>1.5</td>\n",
              "      <td>0.2</td>\n",
              "      <td>0</td>\n",
              "    </tr>\n",
              "    <tr>\n",
              "      <th>4</th>\n",
              "      <td>4</td>\n",
              "      <td>5.0</td>\n",
              "      <td>3.6</td>\n",
              "      <td>1.4</td>\n",
              "      <td>0.2</td>\n",
              "      <td>0</td>\n",
              "    </tr>\n",
              "    <tr>\n",
              "      <th>...</th>\n",
              "      <td>...</td>\n",
              "      <td>...</td>\n",
              "      <td>...</td>\n",
              "      <td>...</td>\n",
              "      <td>...</td>\n",
              "      <td>...</td>\n",
              "    </tr>\n",
              "    <tr>\n",
              "      <th>145</th>\n",
              "      <td>145</td>\n",
              "      <td>6.7</td>\n",
              "      <td>3.0</td>\n",
              "      <td>5.2</td>\n",
              "      <td>2.3</td>\n",
              "      <td>2</td>\n",
              "    </tr>\n",
              "    <tr>\n",
              "      <th>146</th>\n",
              "      <td>146</td>\n",
              "      <td>6.3</td>\n",
              "      <td>2.5</td>\n",
              "      <td>5.0</td>\n",
              "      <td>1.9</td>\n",
              "      <td>2</td>\n",
              "    </tr>\n",
              "    <tr>\n",
              "      <th>147</th>\n",
              "      <td>147</td>\n",
              "      <td>6.5</td>\n",
              "      <td>3.0</td>\n",
              "      <td>5.2</td>\n",
              "      <td>2.0</td>\n",
              "      <td>2</td>\n",
              "    </tr>\n",
              "    <tr>\n",
              "      <th>148</th>\n",
              "      <td>148</td>\n",
              "      <td>6.2</td>\n",
              "      <td>3.4</td>\n",
              "      <td>5.4</td>\n",
              "      <td>2.3</td>\n",
              "      <td>2</td>\n",
              "    </tr>\n",
              "    <tr>\n",
              "      <th>149</th>\n",
              "      <td>149</td>\n",
              "      <td>5.9</td>\n",
              "      <td>3.0</td>\n",
              "      <td>5.1</td>\n",
              "      <td>1.8</td>\n",
              "      <td>2</td>\n",
              "    </tr>\n",
              "  </tbody>\n",
              "</table>\n",
              "<p>150 rows × 6 columns</p>\n",
              "</div>"
            ],
            "text/plain": [
              "     _c0 sepal length (cm)  ... petal width (cm) target\n",
              "0      0               5.1  ...              0.2      0\n",
              "1      1               4.9  ...              0.2      0\n",
              "2      2               4.7  ...              0.2      0\n",
              "3      3               4.6  ...              0.2      0\n",
              "4      4               5.0  ...              0.2      0\n",
              "..   ...               ...  ...              ...    ...\n",
              "145  145               6.7  ...              2.3      2\n",
              "146  146               6.3  ...              1.9      2\n",
              "147  147               6.5  ...              2.0      2\n",
              "148  148               6.2  ...              2.3      2\n",
              "149  149               5.9  ...              1.8      2\n",
              "\n",
              "[150 rows x 6 columns]"
            ]
          },
          "metadata": {
            "tags": []
          },
          "execution_count": 8
        }
      ]
    },
    {
      "cell_type": "code",
      "metadata": {
        "colab": {
          "base_uri": "https://localhost:8080/"
        },
        "id": "PdyoYZH_504N",
        "outputId": "ab8cd114-343f-4bad-c1e7-4077ce1b5df4"
      },
      "source": [
        "# How many rows we have\r\n",
        "df.count()"
      ],
      "execution_count": 9,
      "outputs": [
        {
          "output_type": "execute_result",
          "data": {
            "text/plain": [
              "150"
            ]
          },
          "metadata": {
            "tags": []
          },
          "execution_count": 9
        }
      ]
    },
    {
      "cell_type": "code",
      "metadata": {
        "colab": {
          "base_uri": "https://localhost:8080/"
        },
        "id": "RaiphMRh55sF",
        "outputId": "e4744f99-3b27-44e4-b790-d91d0a9f0bec"
      },
      "source": [
        "# The names of our columns\r\n",
        "df.columns"
      ],
      "execution_count": 10,
      "outputs": [
        {
          "output_type": "execute_result",
          "data": {
            "text/plain": [
              "['_c0',\n",
              " 'sepal length (cm)',\n",
              " 'sepal width (cm)',\n",
              " 'petal length (cm)',\n",
              " 'petal width (cm)',\n",
              " 'target']"
            ]
          },
          "metadata": {
            "tags": []
          },
          "execution_count": 10
        }
      ]
    },
    {
      "cell_type": "code",
      "metadata": {
        "colab": {
          "base_uri": "https://localhost:8080/"
        },
        "id": "pRthBq4y6Dki",
        "outputId": "d0aa39b8-5573-42da-b3cc-8f0c9ab66793"
      },
      "source": [
        "# Types of our columns\r\n",
        "df.dtypes"
      ],
      "execution_count": 11,
      "outputs": [
        {
          "output_type": "execute_result",
          "data": {
            "text/plain": [
              "[('_c0', 'string'),\n",
              " ('sepal length (cm)', 'string'),\n",
              " ('sepal width (cm)', 'string'),\n",
              " ('petal length (cm)', 'string'),\n",
              " ('petal width (cm)', 'string'),\n",
              " ('target', 'string')]"
            ]
          },
          "metadata": {
            "tags": []
          },
          "execution_count": 11
        }
      ]
    },
    {
      "cell_type": "code",
      "metadata": {
        "colab": {
          "base_uri": "https://localhost:8080/",
          "height": 204
        },
        "id": "TBUk7rJM6OAO",
        "outputId": "8ef04431-54f5-4f96-b25e-ca9fa123da15"
      },
      "source": [
        "# Basics stats from our columns\r\n",
        "df.describe().toPandas()"
      ],
      "execution_count": 12,
      "outputs": [
        {
          "output_type": "execute_result",
          "data": {
            "text/html": [
              "<div>\n",
              "<style scoped>\n",
              "    .dataframe tbody tr th:only-of-type {\n",
              "        vertical-align: middle;\n",
              "    }\n",
              "\n",
              "    .dataframe tbody tr th {\n",
              "        vertical-align: top;\n",
              "    }\n",
              "\n",
              "    .dataframe thead th {\n",
              "        text-align: right;\n",
              "    }\n",
              "</style>\n",
              "<table border=\"1\" class=\"dataframe\">\n",
              "  <thead>\n",
              "    <tr style=\"text-align: right;\">\n",
              "      <th></th>\n",
              "      <th>summary</th>\n",
              "      <th>_c0</th>\n",
              "      <th>sepal length (cm)</th>\n",
              "      <th>sepal width (cm)</th>\n",
              "      <th>petal length (cm)</th>\n",
              "      <th>petal width (cm)</th>\n",
              "      <th>target</th>\n",
              "    </tr>\n",
              "  </thead>\n",
              "  <tbody>\n",
              "    <tr>\n",
              "      <th>0</th>\n",
              "      <td>count</td>\n",
              "      <td>150</td>\n",
              "      <td>150</td>\n",
              "      <td>150</td>\n",
              "      <td>150</td>\n",
              "      <td>150</td>\n",
              "      <td>150</td>\n",
              "    </tr>\n",
              "    <tr>\n",
              "      <th>1</th>\n",
              "      <td>mean</td>\n",
              "      <td>74.5</td>\n",
              "      <td>5.843333333333335</td>\n",
              "      <td>3.057333333333334</td>\n",
              "      <td>3.7580000000000027</td>\n",
              "      <td>1.199333333333334</td>\n",
              "      <td>1.0</td>\n",
              "    </tr>\n",
              "    <tr>\n",
              "      <th>2</th>\n",
              "      <td>stddev</td>\n",
              "      <td>43.445367992456916</td>\n",
              "      <td>0.8280661279778637</td>\n",
              "      <td>0.43586628493669793</td>\n",
              "      <td>1.7652982332594662</td>\n",
              "      <td>0.7622376689603467</td>\n",
              "      <td>0.8192319205190406</td>\n",
              "    </tr>\n",
              "    <tr>\n",
              "      <th>3</th>\n",
              "      <td>min</td>\n",
              "      <td>0</td>\n",
              "      <td>4.3</td>\n",
              "      <td>2.0</td>\n",
              "      <td>1.0</td>\n",
              "      <td>0.1</td>\n",
              "      <td>0</td>\n",
              "    </tr>\n",
              "    <tr>\n",
              "      <th>4</th>\n",
              "      <td>max</td>\n",
              "      <td>99</td>\n",
              "      <td>7.9</td>\n",
              "      <td>4.4</td>\n",
              "      <td>6.9</td>\n",
              "      <td>2.5</td>\n",
              "      <td>2</td>\n",
              "    </tr>\n",
              "  </tbody>\n",
              "</table>\n",
              "</div>"
            ],
            "text/plain": [
              "  summary                 _c0  ...    petal width (cm)              target\n",
              "0   count                 150  ...                 150                 150\n",
              "1    mean                74.5  ...   1.199333333333334                 1.0\n",
              "2  stddev  43.445367992456916  ...  0.7622376689603467  0.8192319205190406\n",
              "3     min                   0  ...                 0.1                   0\n",
              "4     max                  99  ...                 2.5                   2\n",
              "\n",
              "[5 rows x 7 columns]"
            ]
          },
          "metadata": {
            "tags": []
          },
          "execution_count": 12
        }
      ]
    },
    {
      "cell_type": "code",
      "metadata": {
        "colab": {
          "base_uri": "https://localhost:8080/"
        },
        "id": "-O0ZCXh16S3W",
        "outputId": "3ec987f0-2ad7-47c1-d113-218e4d7527cf"
      },
      "source": [
        "from pyspark.sql.functions import col\r\n",
        "dataset = df.select(col('sepal length (cm)').cast('float'),\r\n",
        "                         col('sepal width (cm)').cast('float'),\r\n",
        "                         col('petal length (cm)').cast('float'),\r\n",
        "                         col('petal width (cm)').cast('float'),\r\n",
        "                         col('target').cast('integer')            \r\n",
        "                        )\r\n",
        "dataset.show()"
      ],
      "execution_count": 13,
      "outputs": [
        {
          "output_type": "stream",
          "text": [
            "+-----------------+----------------+-----------------+----------------+------+\n",
            "|sepal length (cm)|sepal width (cm)|petal length (cm)|petal width (cm)|target|\n",
            "+-----------------+----------------+-----------------+----------------+------+\n",
            "|              5.1|             3.5|              1.4|             0.2|     0|\n",
            "|              4.9|             3.0|              1.4|             0.2|     0|\n",
            "|              4.7|             3.2|              1.3|             0.2|     0|\n",
            "|              4.6|             3.1|              1.5|             0.2|     0|\n",
            "|              5.0|             3.6|              1.4|             0.2|     0|\n",
            "|              5.4|             3.9|              1.7|             0.4|     0|\n",
            "|              4.6|             3.4|              1.4|             0.3|     0|\n",
            "|              5.0|             3.4|              1.5|             0.2|     0|\n",
            "|              4.4|             2.9|              1.4|             0.2|     0|\n",
            "|              4.9|             3.1|              1.5|             0.1|     0|\n",
            "|              5.4|             3.7|              1.5|             0.2|     0|\n",
            "|              4.8|             3.4|              1.6|             0.2|     0|\n",
            "|              4.8|             3.0|              1.4|             0.1|     0|\n",
            "|              4.3|             3.0|              1.1|             0.1|     0|\n",
            "|              5.8|             4.0|              1.2|             0.2|     0|\n",
            "|              5.7|             4.4|              1.5|             0.4|     0|\n",
            "|              5.4|             3.9|              1.3|             0.4|     0|\n",
            "|              5.1|             3.5|              1.4|             0.3|     0|\n",
            "|              5.7|             3.8|              1.7|             0.3|     0|\n",
            "|              5.1|             3.8|              1.5|             0.3|     0|\n",
            "+-----------------+----------------+-----------------+----------------+------+\n",
            "only showing top 20 rows\n",
            "\n"
          ],
          "name": "stdout"
        }
      ]
    },
    {
      "cell_type": "code",
      "metadata": {
        "colab": {
          "base_uri": "https://localhost:8080/"
        },
        "id": "zJc0dsuD7U6u",
        "outputId": "ed0fed49-a69c-4879-8b56-33581758854a"
      },
      "source": [
        "dataset.dtypes"
      ],
      "execution_count": 14,
      "outputs": [
        {
          "output_type": "execute_result",
          "data": {
            "text/plain": [
              "[('sepal length (cm)', 'float'),\n",
              " ('sepal width (cm)', 'float'),\n",
              " ('petal length (cm)', 'float'),\n",
              " ('petal width (cm)', 'float'),\n",
              " ('target', 'int')]"
            ]
          },
          "metadata": {
            "tags": []
          },
          "execution_count": 14
        }
      ]
    },
    {
      "cell_type": "code",
      "metadata": {
        "id": "p3uVLZBa8PIl"
      },
      "source": [
        "# Assemble all the features with VectorAssembler\r\n",
        "required_features = ['sepal length (cm)',\r\n",
        "                    'sepal width (cm)',\r\n",
        "                    'petal length (cm)',\r\n",
        "                    'petal width (cm)'\r\n",
        "                   ]\r\n",
        "from pyspark.ml.feature import VectorAssembler\r\n",
        "assembler = VectorAssembler(inputCols=required_features, outputCol='features')\r\n",
        "transformed_data = assembler.transform(dataset)"
      ],
      "execution_count": 15,
      "outputs": []
    },
    {
      "cell_type": "code",
      "metadata": {
        "colab": {
          "base_uri": "https://localhost:8080/"
        },
        "id": "Hes21iNV82XW",
        "outputId": "4ea76411-3494-47a8-e0f7-30d99a22748e"
      },
      "source": [
        "transformed_data.show(10)"
      ],
      "execution_count": 17,
      "outputs": [
        {
          "output_type": "stream",
          "text": [
            "+-----------------+----------------+-----------------+----------------+------+--------------------+\n",
            "|sepal length (cm)|sepal width (cm)|petal length (cm)|petal width (cm)|target|            features|\n",
            "+-----------------+----------------+-----------------+----------------+------+--------------------+\n",
            "|              5.1|             3.5|              1.4|             0.2|     0|[5.09999990463256...|\n",
            "|              4.9|             3.0|              1.4|             0.2|     0|[4.90000009536743...|\n",
            "|              4.7|             3.2|              1.3|             0.2|     0|[4.69999980926513...|\n",
            "|              4.6|             3.1|              1.5|             0.2|     0|[4.59999990463256...|\n",
            "|              5.0|             3.6|              1.4|             0.2|     0|[5.0,3.5999999046...|\n",
            "|              5.4|             3.9|              1.7|             0.4|     0|[5.40000009536743...|\n",
            "|              4.6|             3.4|              1.4|             0.3|     0|[4.59999990463256...|\n",
            "|              5.0|             3.4|              1.5|             0.2|     0|[5.0,3.4000000953...|\n",
            "|              4.4|             2.9|              1.4|             0.2|     0|[4.40000009536743...|\n",
            "|              4.9|             3.1|              1.5|             0.1|     0|[4.90000009536743...|\n",
            "+-----------------+----------------+-----------------+----------------+------+--------------------+\n",
            "only showing top 10 rows\n",
            "\n"
          ],
          "name": "stdout"
        }
      ]
    },
    {
      "cell_type": "code",
      "metadata": {
        "id": "a49bETgf9Im1"
      },
      "source": [
        "# Modeling\r\n",
        "(training_data, test_data) = transformed_data.randomSplit([0.8,0.2])"
      ],
      "execution_count": 46,
      "outputs": []
    },
    {
      "cell_type": "code",
      "metadata": {
        "id": "FgIjr9dX9Yaz"
      },
      "source": [
        "from pyspark.ml.classification import RandomForestClassifier\r\n",
        "rf = RandomForestClassifier(labelCol='target', featuresCol='features', maxDepth=5)"
      ],
      "execution_count": 47,
      "outputs": []
    },
    {
      "cell_type": "code",
      "metadata": {
        "id": "CKf-wAM89iib"
      },
      "source": [
        "model = rf.fit(training_data)"
      ],
      "execution_count": 48,
      "outputs": []
    },
    {
      "cell_type": "code",
      "metadata": {
        "id": "qq43-X289nC8"
      },
      "source": [
        "predictions = model.transform(test_data)"
      ],
      "execution_count": 49,
      "outputs": []
    },
    {
      "cell_type": "code",
      "metadata": {
        "id": "TAmO5iSJ9xJf"
      },
      "source": [
        "# Evaluate our model\r\n",
        "from pyspark.ml.evaluation import MulticlassClassificationEvaluator\r\n",
        "evaluator_accuracy = MulticlassClassificationEvaluator(\r\n",
        "    labelCol='target', \r\n",
        "    predictionCol='prediction', \r\n",
        "    metricName='accuracy')"
      ],
      "execution_count": 50,
      "outputs": []
    },
    {
      "cell_type": "code",
      "metadata": {
        "colab": {
          "base_uri": "https://localhost:8080/"
        },
        "id": "pghaVdy493et",
        "outputId": "55a633dc-3dad-4736-a83b-d2cdce4ccf8e"
      },
      "source": [
        "accuracy = evaluator_accuracy.evaluate(predictions)\r\n",
        "print('Test Accuracy = ', accuracy)"
      ],
      "execution_count": 51,
      "outputs": [
        {
          "output_type": "stream",
          "text": [
            "Test Accuracy =  0.9615384615384616\n"
          ],
          "name": "stdout"
        }
      ]
    },
    {
      "cell_type": "code",
      "metadata": {
        "id": "adJn93diBoVr"
      },
      "source": [
        "evaluator_f1 = MulticlassClassificationEvaluator(\r\n",
        "    labelCol='target', \r\n",
        "    predictionCol='prediction', \r\n",
        "    metricName='f1')"
      ],
      "execution_count": 52,
      "outputs": []
    },
    {
      "cell_type": "code",
      "metadata": {
        "colab": {
          "base_uri": "https://localhost:8080/"
        },
        "id": "38028aHPCMKc",
        "outputId": "13a16cf6-9bde-4ad2-be2e-9a8760226b15"
      },
      "source": [
        "f1 = evaluator_f1.evaluate(predictions)\r\n",
        "print('Test f1 = ', f1)"
      ],
      "execution_count": 53,
      "outputs": [
        {
          "output_type": "stream",
          "text": [
            "Test f1 =  0.9626235833132386\n"
          ],
          "name": "stdout"
        }
      ]
    }
  ]
}