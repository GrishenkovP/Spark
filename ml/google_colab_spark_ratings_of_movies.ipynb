{
  "nbformat": 4,
  "nbformat_minor": 0,
  "metadata": {
    "colab": {
      "name": "google_colab_ratings_of_movies.ipynb",
      "provenance": [],
      "collapsed_sections": []
    },
    "kernelspec": {
      "name": "python3",
      "display_name": "Python 3"
    }
  },
  "cells": [
    {
      "cell_type": "code",
      "metadata": {
        "id": "tOS8lREkXknL"
      },
      "source": [
        "# Install the dependencies\n",
        "!apt-get install openjdk-8-jdk-headless -qq > /dev/null\n",
        "!wget -q https://archive.apache.org/dist/spark/spark-3.0.2/spark-3.0.2-bin-hadoop3.2.tgz\n",
        "!tar xf spark-3.0.2-bin-hadoop3.2.tgz\n",
        "!pip install -q findspark"
      ],
      "execution_count": 1,
      "outputs": []
    },
    {
      "cell_type": "code",
      "metadata": {
        "id": "WobQPWa5YH6U"
      },
      "source": [
        "# Set the environment variables for running PySpark in the collaboration environmentimport os\n",
        "import os\n",
        "os.environ[\"JAVA_HOME\"] = \"/usr/lib/jvm/java-8-openjdk-amd64\"\n",
        "os.environ[\"SPARK_HOME\"] = \"/content/spark-3.0.2-bin-hadoop3.2\""
      ],
      "execution_count": 2,
      "outputs": []
    },
    {
      "cell_type": "code",
      "metadata": {
        "id": "TIW4owX5YKG5"
      },
      "source": [
        "# Run the local session to test the installation\n",
        "import findspark\n",
        "findspark.init('spark-3.0.2-bin-hadoop3.2')\n",
        "from pyspark.sql import SparkSession\n",
        "from pyspark.sql.functions import avg\n",
        "spark = SparkSession.builder.master('local[*]').getOrCreate()"
      ],
      "execution_count": 399,
      "outputs": []
    },
    {
      "cell_type": "code",
      "metadata": {
        "id": "nH1IAmraYerb"
      },
      "source": [
        "# Create dataframes\n",
        "ratings = spark.read.csv('ratings.csv', header=True, inferSchema=True)\n",
        "movies = spark.read.csv('movies.csv', header=True, inferSchema=True)"
      ],
      "execution_count": 400,
      "outputs": []
    },
    {
      "cell_type": "code",
      "metadata": {
        "id": "BEKRPQcxaMGM"
      },
      "source": [
        "# Dataset transformations\n",
        "import pyspark.sql.functions as F\n",
        "from pyspark.sql.types import DateType\n",
        "\n",
        "ratings = ratings.select('userId','movieId','rating','timestamp')\n",
        "ratings = ratings.withColumnRenamed('userId','userid').withColumnRenamed('movieId','movieid')\n",
        "ratings = ratings.withColumn('date', F.from_unixtime('timestamp').cast(DateType()))\n",
        "ratings = ratings.drop('timestamp')"
      ],
      "execution_count": 401,
      "outputs": []
    },
    {
      "cell_type": "code",
      "metadata": {
        "id": "22NegqixgW59",
        "colab": {
          "base_uri": "https://localhost:8080/"
        },
        "outputId": "e565c582-e577-4e0c-87d7-f1df16b32684"
      },
      "source": [
        "# Show the results\n",
        "ratings.show(5)\n",
        "ratings.printSchema()"
      ],
      "execution_count": 402,
      "outputs": [
        {
          "output_type": "stream",
          "text": [
            "+------+-------+------+----------+\n",
            "|userid|movieid|rating|      date|\n",
            "+------+-------+------+----------+\n",
            "|     1|     31|   2.5|2009-12-14|\n",
            "|     1|   1029|   3.0|2009-12-14|\n",
            "|     1|   1061|   3.0|2009-12-14|\n",
            "|     1|   1129|   2.0|2009-12-14|\n",
            "|     1|   1172|   4.0|2009-12-14|\n",
            "+------+-------+------+----------+\n",
            "only showing top 5 rows\n",
            "\n",
            "root\n",
            " |-- userid: integer (nullable = true)\n",
            " |-- movieid: integer (nullable = true)\n",
            " |-- rating: double (nullable = true)\n",
            " |-- date: date (nullable = true)\n",
            "\n"
          ],
          "name": "stdout"
        }
      ]
    },
    {
      "cell_type": "code",
      "metadata": {
        "id": "xtXjSJIUg0Vr"
      },
      "source": [
        "# Dataset transformations\n",
        "from pyspark.sql.types import IntegerType\n",
        "movies = movies.select('id','original_title')\n",
        "movies = movies.withColumn('id', movies['id'].cast(IntegerType()))"
      ],
      "execution_count": 403,
      "outputs": []
    },
    {
      "cell_type": "code",
      "metadata": {
        "id": "1ZK7lDqeFRi4"
      },
      "source": [
        "# Error ALS\n",
        "ratings_movies_exist = ratings.select(ratings['movieid']).distinct()\n",
        "movies = movies.join(ratings_movies_exist, movies.id==ratings_movies_exist.movieid, how='left')\n",
        "movies = movies.filter(movies['movieid'].isNotNull()).drop(movies['movieid'])"
      ],
      "execution_count": 404,
      "outputs": []
    },
    {
      "cell_type": "code",
      "metadata": {
        "id": "NjeJl4dmgj6z",
        "colab": {
          "base_uri": "https://localhost:8080/"
        },
        "outputId": "4b79dbe8-8765-43dd-d6ac-4c1f59dd2d6a"
      },
      "source": [
        "# Show the results\n",
        "movies.show(5)\n",
        "movies.printSchema()"
      ],
      "execution_count": 405,
      "outputs": [
        {
          "output_type": "stream",
          "text": [
            "+----+--------------------+\n",
            "|  id|      original_title|\n",
            "+----+--------------------+\n",
            "| 949|                Heat|\n",
            "| 710|           GoldenEye|\n",
            "|1408|    Cutthroat Island|\n",
            "| 524|              Casino|\n",
            "|4584|Sense and Sensibi...|\n",
            "+----+--------------------+\n",
            "only showing top 5 rows\n",
            "\n",
            "root\n",
            " |-- id: integer (nullable = true)\n",
            " |-- original_title: string (nullable = true)\n",
            "\n"
          ],
          "name": "stdout"
        }
      ]
    },
    {
      "cell_type": "code",
      "metadata": {
        "id": "hGHmMv1ZlpX9"
      },
      "source": [
        "# Top rated movies with over 150 reviews \n",
        "from pyspark.sql.functions import  min, max, count, avg\n",
        "ratings_with_avg = ratings.groupBy('movieid').agg(count('rating').alias('count'), \\\n",
        "                                                  avg('rating').alias('avg'))"
      ],
      "execution_count": 406,
      "outputs": []
    },
    {
      "cell_type": "code",
      "metadata": {
        "id": "noVMB4FDqTBk",
        "colab": {
          "base_uri": "https://localhost:8080/"
        },
        "outputId": "1ea386f1-8659-481b-85ea-ad355c386cdc"
      },
      "source": [
        "# Show the results\n",
        "ratings_with_avg.show(5)"
      ],
      "execution_count": 407,
      "outputs": [
        {
          "output_type": "stream",
          "text": [
            "+-------+-----+------------------+\n",
            "|movieid|count|               avg|\n",
            "+-------+-----+------------------+\n",
            "|   1580|  190| 3.663157894736842|\n",
            "|   2659|    3|               4.0|\n",
            "|   3794|    5|               3.4|\n",
            "|   3175|   65|3.5076923076923077|\n",
            "|    471|   49| 3.877551020408163|\n",
            "+-------+-----+------------------+\n",
            "only showing top 5 rows\n",
            "\n"
          ],
          "name": "stdout"
        }
      ]
    },
    {
      "cell_type": "code",
      "metadata": {
        "id": "xy80TwpYrST7",
        "colab": {
          "base_uri": "https://localhost:8080/"
        },
        "outputId": "5aa2a15e-bcfd-4be4-9c99-1e7f2c9d9d13"
      },
      "source": [
        "# Join movies\n",
        "movies_rating = ratings_with_avg.join(movies,\n",
        "                                      ratings_with_avg.movieid == movies.id,\n",
        "                                      how='left'). \\\n",
        "                                      select('movieid','original_title','count','avg'). \\\n",
        "                                      withColumnRenamed('original_title','title')\n",
        "\n",
        "movies_rating.show(5)"
      ],
      "execution_count": 408,
      "outputs": [
        {
          "output_type": "stream",
          "text": [
            "+-------+--------------------+-----+------------------+\n",
            "|movieid|               title|count|               avg|\n",
            "+-------+--------------------+-----+------------------+\n",
            "|    148|The Secret Life o...|    1|               4.0|\n",
            "|    463|                null|    7|3.4285714285714284|\n",
            "|    471|             Bandyta|   49| 3.877551020408163|\n",
            "|    496|Borat: Cultural L...|    3|2.6666666666666665|\n",
            "|    833|          Umberto D.|    4|             2.625|\n",
            "+-------+--------------------+-----+------------------+\n",
            "only showing top 5 rows\n",
            "\n"
          ],
          "name": "stdout"
        }
      ]
    },
    {
      "cell_type": "code",
      "metadata": {
        "id": "ChgW1E2Iucw1",
        "colab": {
          "base_uri": "https://localhost:8080/"
        },
        "outputId": "1e90618e-c4ed-4adb-9a42-7ec8c1718c5b"
      },
      "source": [
        "# Filter and sort movies\n",
        "movies_rating_top = movies_rating.filter(movies_rating['count']>=150).sort('avg',ascending =False)\n",
        "movies_rating_top.show(10)"
      ],
      "execution_count": 409,
      "outputs": [
        {
          "output_type": "stream",
          "text": [
            "+-------+--------------------+-----+-----------------+\n",
            "|movieid|               title|count|              avg|\n",
            "+-------+--------------------+-----+-----------------+\n",
            "|    858|Sleepless in Seattle|  200|           4.4875|\n",
            "|    318|The Million Dolla...|  311|4.487138263665595|\n",
            "|     50|                null|  201|4.370646766169155|\n",
            "|    527|  Once Were Warriors|  244| 4.30327868852459|\n",
            "|    608|     Men in Black II|  224|4.256696428571429|\n",
            "|    296|Terminator 3: Ris...|  324|4.256172839506172|\n",
            "|   2858|                null|  220|4.236363636363636|\n",
            "|   1196|                null|  234|4.232905982905983|\n",
            "|    260|        The 39 Steps|  291|4.221649484536083|\n",
            "|   1197|                null|  163|4.208588957055214|\n",
            "+-------+--------------------+-----+-----------------+\n",
            "only showing top 10 rows\n",
            "\n"
          ],
          "name": "stdout"
        }
      ]
    },
    {
      "cell_type": "code",
      "metadata": {
        "id": "LWAuFw8Y4Hg9",
        "colab": {
          "base_uri": "https://localhost:8080/"
        },
        "outputId": "93f9dc31-845d-4916-d0f3-af7a1518724b"
      },
      "source": [
        "ratings = ratings.drop('date')\n",
        "ratings.show(5)\n",
        "print(ratings.count())"
      ],
      "execution_count": 410,
      "outputs": [
        {
          "output_type": "stream",
          "text": [
            "+------+-------+------+\n",
            "|userid|movieid|rating|\n",
            "+------+-------+------+\n",
            "|     1|     31|   2.5|\n",
            "|     1|   1029|   3.0|\n",
            "|     1|   1061|   3.0|\n",
            "|     1|   1129|   2.0|\n",
            "|     1|   1172|   4.0|\n",
            "+------+-------+------+\n",
            "only showing top 5 rows\n",
            "\n",
            "100004\n"
          ],
          "name": "stdout"
        }
      ]
    },
    {
      "cell_type": "markdown",
      "metadata": {
        "id": "uIuDGoh_9lzs"
      },
      "source": [
        "### ALS"
      ]
    },
    {
      "cell_type": "code",
      "metadata": {
        "id": "C06O_X5z4Y8E"
      },
      "source": [
        "from pyspark.mllib.recommendation import ALS\n",
        "import math"
      ],
      "execution_count": 411,
      "outputs": []
    },
    {
      "cell_type": "code",
      "metadata": {
        "id": "P5V8z-v84iME"
      },
      "source": [
        "ratings_train,ratings_test = ratings.randomSplit([0.8,0.2])"
      ],
      "execution_count": 412,
      "outputs": []
    },
    {
      "cell_type": "code",
      "metadata": {
        "colab": {
          "base_uri": "https://localhost:8080/"
        },
        "id": "g0m2T5WcBe0v",
        "outputId": "bf733446-9b7c-480e-b70e-a67221de2c48"
      },
      "source": [
        "ratings_train.show(5)\n",
        "ratings_test.show(5)"
      ],
      "execution_count": 413,
      "outputs": [
        {
          "output_type": "stream",
          "text": [
            "+------+-------+------+\n",
            "|userid|movieid|rating|\n",
            "+------+-------+------+\n",
            "|     1|     31|   2.5|\n",
            "|     1|   1029|   3.0|\n",
            "|     1|   1061|   3.0|\n",
            "|     1|   1129|   2.0|\n",
            "|     1|   1172|   4.0|\n",
            "+------+-------+------+\n",
            "only showing top 5 rows\n",
            "\n",
            "+------+-------+------+\n",
            "|userid|movieid|rating|\n",
            "+------+-------+------+\n",
            "|     1|   1263|   2.0|\n",
            "|     1|   1339|   3.5|\n",
            "|     1|   1371|   2.5|\n",
            "|     1|   1953|   4.0|\n",
            "|     1|   3671|   3.0|\n",
            "+------+-------+------+\n",
            "only showing top 5 rows\n",
            "\n"
          ],
          "name": "stdout"
        }
      ]
    },
    {
      "cell_type": "code",
      "metadata": {
        "id": "4TJFy9PC42pz",
        "colab": {
          "base_uri": "https://localhost:8080/"
        },
        "outputId": "239b11bf-39a9-4372-be54-c99de18ea36f"
      },
      "source": [
        "print(ratings_train.count())\n",
        "print(ratings_test.count())"
      ],
      "execution_count": 414,
      "outputs": [
        {
          "output_type": "stream",
          "text": [
            "79862\n",
            "20142\n"
          ],
          "name": "stdout"
        }
      ]
    },
    {
      "cell_type": "code",
      "metadata": {
        "id": "dXaoEa5W6BJt"
      },
      "source": [
        "iterations = 10\n",
        "rank = 8\n",
        "model = ALS.train(ratings_train, rank, iterations=iterations)"
      ],
      "execution_count": 415,
      "outputs": []
    },
    {
      "cell_type": "code",
      "metadata": {
        "id": "dqXP7CaP68tV"
      },
      "source": [
        "predictions = model.predictAll(ratings_test.select('userid','movieid').rdd)"
      ],
      "execution_count": 416,
      "outputs": []
    },
    {
      "cell_type": "code",
      "metadata": {
        "id": "aCU3EXf48RPT",
        "colab": {
          "base_uri": "https://localhost:8080/"
        },
        "outputId": "04f19511-3d0f-4785-8f33-dce62072a97c"
      },
      "source": [
        "predictions.take(5)"
      ],
      "execution_count": 417,
      "outputs": [
        {
          "output_type": "execute_result",
          "data": {
            "text/plain": [
              "[Rating(user=558, product=1084, rating=4.624983411825044),\n",
              " Rating(user=96, product=1084, rating=3.668198081724305),\n",
              " Rating(user=472, product=1084, rating=4.538569484953629),\n",
              " Rating(user=436, product=1084, rating=4.1819722428804225),\n",
              " Rating(user=242, product=1084, rating=4.808922054204748)]"
            ]
          },
          "metadata": {
            "tags": []
          },
          "execution_count": 417
        }
      ]
    },
    {
      "cell_type": "code",
      "metadata": {
        "id": "Pjgn0FRq8q9U"
      },
      "source": [
        "predictions_converted = predictions.map(lambda x: (x[0],x[1],x[2]))\n",
        "predictions_df = predictions_converted.toDF(['userid','movieid','rating_pred'])"
      ],
      "execution_count": 418,
      "outputs": []
    },
    {
      "cell_type": "code",
      "metadata": {
        "id": "Ys9-cBnb9aMk",
        "colab": {
          "base_uri": "https://localhost:8080/"
        },
        "outputId": "6b9115c6-5e84-4e4a-8669-7ccb5a071e8e"
      },
      "source": [
        "predictions_df.show()"
      ],
      "execution_count": 419,
      "outputs": [
        {
          "output_type": "stream",
          "text": [
            "+------+-------+------------------+\n",
            "|userid|movieid|       rating_pred|\n",
            "+------+-------+------------------+\n",
            "|   558|   1084| 4.624983411825044|\n",
            "|    96|   1084| 3.668198081724305|\n",
            "|   472|   1084| 4.538569484953629|\n",
            "|   436|   1084|4.1819722428804225|\n",
            "|   242|   1084| 4.808922054204748|\n",
            "|   311|   1084| 2.354858485898106|\n",
            "|   195|   1084| 3.450496481990385|\n",
            "|   605|   1084|3.6388471511325866|\n",
            "|   387|   1084| 4.136729381469211|\n",
            "|   551|   1084|2.1343503361412974|\n",
            "|   499|   1084|4.0360097538426984|\n",
            "|    65|   1084| 4.085830030580282|\n",
            "|    99|   1084|3.7008005984499848|\n",
            "|    67|   1084| 4.926155257333931|\n",
            "|    97|   1084|3.9782619485581643|\n",
            "|   468|   6400| 1.428061931337811|\n",
            "|    34|   3702| 4.000833278512062|\n",
            "|   220|   3702|3.4328240058791426|\n",
            "|   564|   3702| 4.416042666040399|\n",
            "|   139|   3702| 4.867633976334919|\n",
            "+------+-------+------------------+\n",
            "only showing top 20 rows\n",
            "\n"
          ],
          "name": "stdout"
        }
      ]
    },
    {
      "cell_type": "code",
      "metadata": {
        "id": "6y365G6196nk",
        "colab": {
          "base_uri": "https://localhost:8080/"
        },
        "outputId": "5a5a90d5-9a36-40ac-e7e2-cdf92e1e7628"
      },
      "source": [
        "result = ratings_test.join(predictions_df, on=['userid','movieid'])\n",
        "result.show()"
      ],
      "execution_count": 420,
      "outputs": [
        {
          "output_type": "stream",
          "text": [
            "+------+-------+------+------------------+\n",
            "|userid|movieid|rating|       rating_pred|\n",
            "+------+-------+------+------------------+\n",
            "|   558|   1084|   5.0| 4.624983411825044|\n",
            "|    96|   1084|   3.0| 3.668198081724305|\n",
            "|   472|   1084|   4.0| 4.538569484953629|\n",
            "|   436|   1084|   4.0|4.1819722428804225|\n",
            "|   242|   1084|   5.0| 4.808922054204748|\n",
            "|   311|   1084|   2.0| 2.354858485898106|\n",
            "|   195|   1084|   4.0| 3.450496481990385|\n",
            "|   605|   1084|   4.0|3.6388471511325866|\n",
            "|   387|   1084|   5.0| 4.136729381469211|\n",
            "|   551|   1084|   4.0|2.1343503361412974|\n",
            "|   499|   1084|   5.0|4.0360097538426984|\n",
            "|    65|   1084|   5.0| 4.085830030580282|\n",
            "|    99|   1084|   4.0|3.7008005984499848|\n",
            "|    67|   1084|   4.0| 4.926155257333931|\n",
            "|    97|   1084|   2.5|3.9782619485581643|\n",
            "|   468|   6400|   3.5| 1.428061931337811|\n",
            "|    34|   3702|   5.0| 4.000833278512062|\n",
            "|   220|   3702|   3.0|3.4328240058791426|\n",
            "|   564|   3702|   3.0| 4.416042666040399|\n",
            "|   139|   3702|   3.0| 4.867633976334919|\n",
            "+------+-------+------+------------------+\n",
            "only showing top 20 rows\n",
            "\n"
          ],
          "name": "stdout"
        }
      ]
    },
    {
      "cell_type": "code",
      "metadata": {
        "id": "LsOMQe1b_Gd1",
        "colab": {
          "base_uri": "https://localhost:8080/"
        },
        "outputId": "96244b51-e4f1-4dbb-9735-1bd24ff63134"
      },
      "source": [
        "result = result.withColumn('delta', F.abs(result.rating - result.rating_pred))\n",
        "result.show()"
      ],
      "execution_count": 421,
      "outputs": [
        {
          "output_type": "stream",
          "text": [
            "+------+-------+------+------------------+-------------------+\n",
            "|userid|movieid|rating|       rating_pred|              delta|\n",
            "+------+-------+------+------------------+-------------------+\n",
            "|   558|   1084|   5.0| 4.624983411825044| 0.3750165881749563|\n",
            "|    96|   1084|   3.0| 3.668198081724305|  0.668198081724305|\n",
            "|   472|   1084|   4.0| 4.538569484953629| 0.5385694849536291|\n",
            "|   436|   1084|   4.0|4.1819722428804225|0.18197224288042246|\n",
            "|   242|   1084|   5.0| 4.808922054204748|0.19107794579525184|\n",
            "|   311|   1084|   2.0| 2.354858485898106|0.35485848589810587|\n",
            "|   195|   1084|   4.0| 3.450496481990385| 0.5495035180096148|\n",
            "|   605|   1084|   4.0|3.6388471511325866| 0.3611528488674134|\n",
            "|   387|   1084|   5.0| 4.136729381469211| 0.8632706185307892|\n",
            "|   551|   1084|   4.0|2.1343503361412974| 1.8656496638587026|\n",
            "|   499|   1084|   5.0|4.0360097538426984| 0.9639902461573016|\n",
            "|    65|   1084|   5.0| 4.085830030580282| 0.9141699694197181|\n",
            "|    99|   1084|   4.0|3.7008005984499848|0.29919940155001523|\n",
            "|    67|   1084|   4.0| 4.926155257333931| 0.9261552573339307|\n",
            "|    97|   1084|   2.5|3.9782619485581643| 1.4782619485581643|\n",
            "|   468|   6400|   3.5| 1.428061931337811|  2.071938068662189|\n",
            "|    34|   3702|   5.0| 4.000833278512062| 0.9991667214879376|\n",
            "|   220|   3702|   3.0|3.4328240058791426| 0.4328240058791426|\n",
            "|   564|   3702|   3.0| 4.416042666040399| 1.4160426660403989|\n",
            "|   139|   3702|   3.0| 4.867633976334919| 1.8676339763349192|\n",
            "+------+-------+------+------------------+-------------------+\n",
            "only showing top 20 rows\n",
            "\n"
          ],
          "name": "stdout"
        }
      ]
    },
    {
      "cell_type": "code",
      "metadata": {
        "id": "wzWfbXgJ_8Vk",
        "colab": {
          "base_uri": "https://localhost:8080/"
        },
        "outputId": "ab9a3d59-80d4-4353-9a0f-530a4f15f18a"
      },
      "source": [
        "result.agg({'delta':'mean'}).show()"
      ],
      "execution_count": 422,
      "outputs": [
        {
          "output_type": "stream",
          "text": [
            "+------------------+\n",
            "|        avg(delta)|\n",
            "+------------------+\n",
            "|0.8317105338008836|\n",
            "+------------------+\n",
            "\n"
          ],
          "name": "stdout"
        }
      ]
    },
    {
      "cell_type": "markdown",
      "metadata": {
        "id": "_zvwzPIBJ8Xn"
      },
      "source": [
        "### ALS USER"
      ]
    },
    {
      "cell_type": "code",
      "metadata": {
        "id": "qQiRQONRKAH1",
        "colab": {
          "base_uri": "https://localhost:8080/"
        },
        "outputId": "b74414cd-00f3-47c1-9533-d4c9d301a2af"
      },
      "source": [
        "user_id = 320\n",
        "data_for_pred = ratings_train[ratings_train.userid==user_id]\n",
        "data_for_pred.show()"
      ],
      "execution_count": 423,
      "outputs": [
        {
          "output_type": "stream",
          "text": [
            "+------+-------+------+\n",
            "|userid|movieid|rating|\n",
            "+------+-------+------+\n",
            "|   320|    296|   4.5|\n",
            "|   320|    318|   4.0|\n",
            "|   320|    527|   4.0|\n",
            "|   320|    541|   5.0|\n",
            "|   320|    904|   4.5|\n",
            "|   320|    908|   4.0|\n",
            "|   320|    912|   5.0|\n",
            "|   320|   1172|   5.0|\n",
            "|   320|   1206|   4.5|\n",
            "|   320|   1704|   4.0|\n",
            "|   320|   2010|   4.0|\n",
            "|   320|   2324|   3.5|\n",
            "|   320|   2571|   4.5|\n",
            "|   320|   2858|   3.0|\n",
            "|   320|   3147|   3.5|\n",
            "|   320|   3578|   3.5|\n",
            "|   320|   4226|   4.0|\n",
            "|   320|   4643|   3.5|\n",
            "|   320|   4886|   3.5|\n",
            "|   320|   4973|   3.5|\n",
            "+------+-------+------+\n",
            "only showing top 20 rows\n",
            "\n"
          ],
          "name": "stdout"
        }
      ]
    },
    {
      "cell_type": "code",
      "metadata": {
        "id": "LvzN_DG4Kj1k",
        "colab": {
          "base_uri": "https://localhost:8080/"
        },
        "outputId": "9d9a81c5-5f30-40f7-b886-e117aaa6b48d"
      },
      "source": [
        "movie_id = data_for_pred.rdd.map(lambda x:x[1])\n",
        "movie_id.take(20)"
      ],
      "execution_count": 424,
      "outputs": [
        {
          "output_type": "execute_result",
          "data": {
            "text/plain": [
              "[296,\n",
              " 318,\n",
              " 527,\n",
              " 541,\n",
              " 904,\n",
              " 908,\n",
              " 912,\n",
              " 1172,\n",
              " 1206,\n",
              " 1704,\n",
              " 2010,\n",
              " 2324,\n",
              " 2571,\n",
              " 2858,\n",
              " 3147,\n",
              " 3578,\n",
              " 4226,\n",
              " 4643,\n",
              " 4886,\n",
              " 4973]"
            ]
          },
          "metadata": {
            "tags": []
          },
          "execution_count": 424
        }
      ]
    },
    {
      "cell_type": "code",
      "metadata": {
        "id": "wffGCYW949k3"
      },
      "source": [
        "movie_id = movie_id.take(200)"
      ],
      "execution_count": 425,
      "outputs": []
    },
    {
      "cell_type": "code",
      "metadata": {
        "id": "FXEK-4knMF7u",
        "colab": {
          "base_uri": "https://localhost:8080/"
        },
        "outputId": "e048cea2-a082-4604-b738-d01946ab3ffb"
      },
      "source": [
        "user_movies = movies.rdd.filter(lambda x:x[0] not in movie_id).map(lambda y:(user_id,y[0]))\n",
        "user_movies.take(10)"
      ],
      "execution_count": 426,
      "outputs": [
        {
          "output_type": "execute_result",
          "data": {
            "text/plain": [
              "[(320, 949),\n",
              " (320, 710),\n",
              " (320, 1408),\n",
              " (320, 524),\n",
              " (320, 4584),\n",
              " (320, 5),\n",
              " (320, 8012),\n",
              " (320, 451),\n",
              " (320, 902),\n",
              " (320, 63)]"
            ]
          },
          "metadata": {
            "tags": []
          },
          "execution_count": 426
        }
      ]
    },
    {
      "cell_type": "code",
      "metadata": {
        "id": "79xLkK1gNqtl",
        "colab": {
          "base_uri": "https://localhost:8080/"
        },
        "outputId": "70a9dce8-818a-42f0-b36f-f4012cca9d0b"
      },
      "source": [
        "predictions_user = model.predictAll(user_movies)\n",
        "predictions_user.take(10)"
      ],
      "execution_count": 427,
      "outputs": [
        {
          "output_type": "execute_result",
          "data": {
            "text/plain": [
              "[Rating(user=320, product=7942, rating=2.049725852074794),\n",
              " Rating(user=320, product=5618, rating=4.476136537358549),\n",
              " Rating(user=320, product=1894, rating=1.3724223121207628),\n",
              " Rating(user=320, product=8906, rating=2.0235389425803625),\n",
              " Rating(user=320, product=140, rating=2.5355357082408965),\n",
              " Rating(user=320, product=33838, rating=2.1512940468125317),\n",
              " Rating(user=320, product=204, rating=2.084065118851246),\n",
              " Rating(user=320, product=956, rating=2.8257597816777187),\n",
              " Rating(user=320, product=4992, rating=0.569832751674737),\n",
              " Rating(user=320, product=2334, rating=3.561926202632327)]"
            ]
          },
          "metadata": {
            "tags": []
          },
          "execution_count": 427
        }
      ]
    },
    {
      "cell_type": "code",
      "metadata": {
        "colab": {
          "base_uri": "https://localhost:8080/"
        },
        "id": "wnlxN96s1t2G",
        "outputId": "904e610a-3c16-4df2-d8b3-449ea8a5db55"
      },
      "source": [
        "predictions_user = predictions_user.toDF(['userid','movieid','rating_pred'])\n",
        "predictions_user = predictions_user.sort('rating_pred',ascending =False)\n",
        "predictions_user.show()"
      ],
      "execution_count": 428,
      "outputs": [
        {
          "output_type": "stream",
          "text": [
            "+------+-------+------------------+\n",
            "|userid|movieid|       rating_pred|\n",
            "+------+-------+------------------+\n",
            "|   320|   2186| 5.727415016428609|\n",
            "|   320|   2067| 5.573484296309421|\n",
            "|   320|   2973| 5.555050284792588|\n",
            "|   320|   2132| 5.554109862720418|\n",
            "|   320|  25771|5.5331995482565866|\n",
            "|   320|   2071| 5.498725113970246|\n",
            "|   320|  94466| 5.488018753726225|\n",
            "|   320|  85510| 5.421726568017368|\n",
            "|   320|   3598| 5.375793936783239|\n",
            "|   320|    680| 5.349823112761724|\n",
            "|   320|   4326| 5.340106653221984|\n",
            "|   320|    905|5.3283424977805645|\n",
            "|   320|  84844| 5.291465138241649|\n",
            "|   320|    363| 5.213062120012488|\n",
            "|   320|   3011| 5.126686736831805|\n",
            "|   320|   3686|  5.11990975565433|\n",
            "|   320|   6978| 5.099135272321616|\n",
            "|   320|   2731| 5.083483278314562|\n",
            "|   320|   3989| 5.080804485843196|\n",
            "|   320|    599| 5.075761328274296|\n",
            "+------+-------+------------------+\n",
            "only showing top 20 rows\n",
            "\n"
          ],
          "name": "stdout"
        }
      ]
    }
  ]
}
