{
  "nbformat": 4,
  "nbformat_minor": 0,
  "metadata": {
    "colab": {
      "name": "google_colab_pyspark_ml_random_forest_classifier.ipynb",
      "provenance": [],
      "collapsed_sections": []
    },
    "kernelspec": {
      "name": "python3",
      "display_name": "Python 3"
    },
    "language_info": {
      "name": "python"
    }
  },
  "cells": [
    {
      "cell_type": "code",
      "metadata": {
        "id": "agtSdmRuhjmW"
      },
      "source": [
        "# Install the dependencies\n",
        "!apt-get install openjdk-8-jdk-headless -qq > /dev/null\n",
        "!wget -q https://archive.apache.org/dist/spark/spark-3.0.1/spark-3.0.1-bin-hadoop3.2.tgz\n",
        "!tar xf spark-3.0.1-bin-hadoop3.2.tgz\n",
        "!pip install -q findspark"
      ],
      "execution_count": null,
      "outputs": []
    },
    {
      "cell_type": "code",
      "metadata": {
        "id": "UAt6emZth1Mk"
      },
      "source": [
        "# Set the environment variables for running PySpark in the collaboration environmentimport os\n",
        "import os\n",
        "os.environ[\"JAVA_HOME\"] = \"/usr/lib/jvm/java-8-openjdk-amd64\"\n",
        "os.environ[\"SPARK_HOME\"] = \"/content/spark-3.0.1-bin-hadoop3.2\""
      ],
      "execution_count": null,
      "outputs": []
    },
    {
      "cell_type": "code",
      "metadata": {
        "id": "o_GU9vych3Ms"
      },
      "source": [
        "# Run the local session to test the installation\n",
        "import findspark\n",
        "findspark.init('spark-3.0.1-bin-hadoop3.2')\n",
        "from pyspark.sql import SparkSession\n",
        "spark = SparkSession.builder.master('local[*]').getOrCreate()"
      ],
      "execution_count": null,
      "outputs": []
    },
    {
      "cell_type": "markdown",
      "metadata": {
        "id": "2po3snJwjJeV"
      },
      "source": [
        "#Dataset Iris"
      ]
    },
    {
      "cell_type": "code",
      "metadata": {
        "id": "VgMFbYx9lV2T"
      },
      "source": [
        "import pandas as pd\n",
        "import numpy as np"
      ],
      "execution_count": null,
      "outputs": []
    },
    {
      "cell_type": "code",
      "metadata": {
        "id": "WC2auzZjjNrT"
      },
      "source": [
        "from sklearn import datasets"
      ],
      "execution_count": null,
      "outputs": []
    },
    {
      "cell_type": "code",
      "metadata": {
        "id": "Nb0O0cIAkjvD"
      },
      "source": [
        "iris = datasets.load_iris()"
      ],
      "execution_count": null,
      "outputs": []
    },
    {
      "cell_type": "code",
      "metadata": {
        "id": "6UiE0t6ckoIz"
      },
      "source": [
        "X = iris.data[:,:4]"
      ],
      "execution_count": null,
      "outputs": []
    },
    {
      "cell_type": "code",
      "metadata": {
        "id": "Q5m0-sDIkqgy"
      },
      "source": [
        "y = iris.target"
      ],
      "execution_count": null,
      "outputs": []
    },
    {
      "cell_type": "code",
      "metadata": {
        "id": "wUR3o1WslR1k"
      },
      "source": [
        "df = pd.DataFrame(X,columns=iris.feature_names)\n",
        "df['target'] = y\n",
        "df.columns = ['sepal_length','sepal_width','petal_length','petal_width','target']\n",
        "df['name_iris'] = df['target'].apply(lambda _:iris.target_names[_])"
      ],
      "execution_count": null,
      "outputs": []
    },
    {
      "cell_type": "code",
      "metadata": {
        "colab": {
          "base_uri": "https://localhost:8080/"
        },
        "id": "I25rRChHml3j",
        "outputId": "a0e0a8a7-245f-4c07-9c65-0e4115556cf0"
      },
      "source": [
        "print(df.head())\n",
        "print('---------------------------------------')\n",
        "print(df.info())\n",
        "print('---------------------------------------')\n",
        "print(df.name_iris.value_counts(normalize=True))"
      ],
      "execution_count": null,
      "outputs": [
        {
          "output_type": "stream",
          "text": [
            "   sepal_length  sepal_width  petal_length  petal_width  target name_iris\n",
            "0           5.1          3.5           1.4          0.2       0    setosa\n",
            "1           4.9          3.0           1.4          0.2       0    setosa\n",
            "2           4.7          3.2           1.3          0.2       0    setosa\n",
            "3           4.6          3.1           1.5          0.2       0    setosa\n",
            "4           5.0          3.6           1.4          0.2       0    setosa\n",
            "---------------------------------------\n",
            "<class 'pandas.core.frame.DataFrame'>\n",
            "RangeIndex: 150 entries, 0 to 149\n",
            "Data columns (total 6 columns):\n",
            " #   Column        Non-Null Count  Dtype  \n",
            "---  ------        --------------  -----  \n",
            " 0   sepal_length  150 non-null    float64\n",
            " 1   sepal_width   150 non-null    float64\n",
            " 2   petal_length  150 non-null    float64\n",
            " 3   petal_width   150 non-null    float64\n",
            " 4   target        150 non-null    int64  \n",
            " 5   name_iris     150 non-null    object \n",
            "dtypes: float64(4), int64(1), object(1)\n",
            "memory usage: 7.2+ KB\n",
            "None\n",
            "---------------------------------------\n",
            "versicolor    0.333333\n",
            "setosa        0.333333\n",
            "virginica     0.333333\n",
            "Name: name_iris, dtype: float64\n"
          ],
          "name": "stdout"
        }
      ]
    },
    {
      "cell_type": "code",
      "metadata": {
        "id": "ggD1uuN_opFT"
      },
      "source": [
        "df.to_csv('data.csv', index=False)"
      ],
      "execution_count": null,
      "outputs": []
    },
    {
      "cell_type": "markdown",
      "metadata": {
        "id": "RVyrOdsbqypC"
      },
      "source": [
        "#Building a Classification Model"
      ]
    },
    {
      "cell_type": "code",
      "metadata": {
        "id": "xGIiNZZ1q6B7"
      },
      "source": [
        "df = spark.read.csv('data.csv',inferSchema=True,header=True)"
      ],
      "execution_count": null,
      "outputs": []
    },
    {
      "cell_type": "code",
      "metadata": {
        "colab": {
          "base_uri": "https://localhost:8080/"
        },
        "id": "uy7Cn5g0rKmy",
        "outputId": "1668a359-96cc-45af-83da-a9bb0184aaef"
      },
      "source": [
        "df.show(5)"
      ],
      "execution_count": null,
      "outputs": [
        {
          "output_type": "stream",
          "text": [
            "+------------+-----------+------------+-----------+------+---------+\n",
            "|sepal_length|sepal_width|petal_length|petal_width|target|name_iris|\n",
            "+------------+-----------+------------+-----------+------+---------+\n",
            "|         5.1|        3.5|         1.4|        0.2|     0|   setosa|\n",
            "|         4.9|        3.0|         1.4|        0.2|     0|   setosa|\n",
            "|         4.7|        3.2|         1.3|        0.2|     0|   setosa|\n",
            "|         4.6|        3.1|         1.5|        0.2|     0|   setosa|\n",
            "|         5.0|        3.6|         1.4|        0.2|     0|   setosa|\n",
            "+------------+-----------+------------+-----------+------+---------+\n",
            "only showing top 5 rows\n",
            "\n"
          ],
          "name": "stdout"
        }
      ]
    },
    {
      "cell_type": "code",
      "metadata": {
        "colab": {
          "base_uri": "https://localhost:8080/"
        },
        "id": "V7Wb6ocdsFYw",
        "outputId": "d9921efb-ddc5-48d9-b037-70c999f98e5b"
      },
      "source": [
        "df.printSchema()"
      ],
      "execution_count": null,
      "outputs": [
        {
          "output_type": "stream",
          "text": [
            "root\n",
            " |-- sepal_length: double (nullable = true)\n",
            " |-- sepal_width: double (nullable = true)\n",
            " |-- petal_length: double (nullable = true)\n",
            " |-- petal_width: double (nullable = true)\n",
            " |-- target: integer (nullable = true)\n",
            " |-- name_iris: string (nullable = true)\n",
            "\n"
          ],
          "name": "stdout"
        }
      ]
    },
    {
      "cell_type": "code",
      "metadata": {
        "id": "4HJJ2Vu0sLgZ"
      },
      "source": [
        "from pyspark.ml.feature import VectorAssembler"
      ],
      "execution_count": null,
      "outputs": []
    },
    {
      "cell_type": "code",
      "metadata": {
        "id": "NXoOFgo3yPRY"
      },
      "source": [
        "df_assembler = VectorAssembler(inputCols=['sepal_length','sepal_width','petal_length','petal_width'],outputCol='features')"
      ],
      "execution_count": null,
      "outputs": []
    },
    {
      "cell_type": "code",
      "metadata": {
        "id": "K4ZrAqiQzDvn"
      },
      "source": [
        "df = df_assembler.transform(df)"
      ],
      "execution_count": null,
      "outputs": []
    },
    {
      "cell_type": "code",
      "metadata": {
        "colab": {
          "base_uri": "https://localhost:8080/"
        },
        "id": "fS3Vwdb_yoW2",
        "outputId": "f79816ae-85ea-4bae-94c4-1e7f3335efd6"
      },
      "source": [
        "df.select(['features','target']).show(5,False)"
      ],
      "execution_count": null,
      "outputs": [
        {
          "output_type": "stream",
          "text": [
            "+-----------------+------+\n",
            "|features         |target|\n",
            "+-----------------+------+\n",
            "|[5.1,3.5,1.4,0.2]|0     |\n",
            "|[4.9,3.0,1.4,0.2]|0     |\n",
            "|[4.7,3.2,1.3,0.2]|0     |\n",
            "|[4.6,3.1,1.5,0.2]|0     |\n",
            "|[5.0,3.6,1.4,0.2]|0     |\n",
            "+-----------------+------+\n",
            "only showing top 5 rows\n",
            "\n"
          ],
          "name": "stdout"
        }
      ]
    },
    {
      "cell_type": "code",
      "metadata": {
        "id": "MfLWdIvizSMZ"
      },
      "source": [
        "model_df = df.select(['features','target'])"
      ],
      "execution_count": null,
      "outputs": []
    },
    {
      "cell_type": "code",
      "metadata": {
        "id": "fJxI3wj_zcS4"
      },
      "source": [
        "training_df, test_df = model_df.randomSplit([0.75,0.25])"
      ],
      "execution_count": 120,
      "outputs": []
    },
    {
      "cell_type": "code",
      "metadata": {
        "id": "QzB_t2rW0WAG"
      },
      "source": [
        "from pyspark.ml.classification import RandomForestClassifier"
      ],
      "execution_count": 121,
      "outputs": []
    },
    {
      "cell_type": "code",
      "metadata": {
        "id": "w5HXdos91Vcj"
      },
      "source": [
        "rf = RandomForestClassifier(labelCol='target',featuresCol='features', maxDepth=5)"
      ],
      "execution_count": 122,
      "outputs": []
    },
    {
      "cell_type": "code",
      "metadata": {
        "id": "I7Z66tQG5D0-"
      },
      "source": [
        "model_rf = rf.fit(training_df)"
      ],
      "execution_count": 123,
      "outputs": []
    },
    {
      "cell_type": "code",
      "metadata": {
        "colab": {
          "base_uri": "https://localhost:8080/"
        },
        "id": "6x_8IMbzOGKn",
        "outputId": "5ae72bd1-1384-444e-9ebe-b1dbcff25cb8"
      },
      "source": [
        "model_rf.featureImportances"
      ],
      "execution_count": 153,
      "outputs": [
        {
          "output_type": "execute_result",
          "data": {
            "text/plain": [
              "SparseVector(4, {0: 0.1297, 1: 0.0088, 2: 0.4721, 3: 0.3894})"
            ]
          },
          "metadata": {
            "tags": []
          },
          "execution_count": 153
        }
      ]
    },
    {
      "cell_type": "code",
      "metadata": {
        "id": "PZgWvuoq5jPD"
      },
      "source": [
        "predictions = model_rf.transform(test_df)"
      ],
      "execution_count": 124,
      "outputs": []
    },
    {
      "cell_type": "code",
      "metadata": {
        "colab": {
          "base_uri": "https://localhost:8080/"
        },
        "id": "C_SNBUhxN-nJ",
        "outputId": "723d42b0-5d90-4b2a-9fb2-fdd4979d64d7"
      },
      "source": [
        "predictions.show(5)"
      ],
      "execution_count": 149,
      "outputs": [
        {
          "output_type": "stream",
          "text": [
            "+-----------------+------+--------------+-------------+----------+\n",
            "|         features|target| rawPrediction|  probability|prediction|\n",
            "+-----------------+------+--------------+-------------+----------+\n",
            "|[4.6,3.2,1.4,0.2]|     0|[20.0,0.0,0.0]|[1.0,0.0,0.0]|       0.0|\n",
            "|[4.6,3.4,1.4,0.3]|     0|[20.0,0.0,0.0]|[1.0,0.0,0.0]|       0.0|\n",
            "|[4.8,3.0,1.4,0.1]|     0|[20.0,0.0,0.0]|[1.0,0.0,0.0]|       0.0|\n",
            "|[4.9,3.0,1.4,0.2]|     0|[20.0,0.0,0.0]|[1.0,0.0,0.0]|       0.0|\n",
            "|[4.9,3.6,1.4,0.1]|     0|[20.0,0.0,0.0]|[1.0,0.0,0.0]|       0.0|\n",
            "+-----------------+------+--------------+-------------+----------+\n",
            "only showing top 5 rows\n",
            "\n"
          ],
          "name": "stdout"
        }
      ]
    },
    {
      "cell_type": "code",
      "metadata": {
        "id": "ojtWwn8f66wt"
      },
      "source": [
        "from pyspark.ml.evaluation import MulticlassClassificationEvaluator\n",
        "evaluator_accuracy = MulticlassClassificationEvaluator(\n",
        "    labelCol='target', \n",
        "    predictionCol='prediction', \n",
        "    metricName='accuracy')"
      ],
      "execution_count": 125,
      "outputs": []
    },
    {
      "cell_type": "code",
      "metadata": {
        "colab": {
          "base_uri": "https://localhost:8080/"
        },
        "id": "ATLZHeEw69uU",
        "outputId": "343ca59c-8d16-4d3d-a2a4-8e651b83b723"
      },
      "source": [
        "accuracy = evaluator_accuracy.evaluate(predictions)\n",
        "print('Test Accuracy = ', accuracy)"
      ],
      "execution_count": 126,
      "outputs": [
        {
          "output_type": "stream",
          "text": [
            "Test Accuracy =  0.967741935483871\n"
          ],
          "name": "stdout"
        }
      ]
    },
    {
      "cell_type": "code",
      "metadata": {
        "id": "WcsRokiT7AhM"
      },
      "source": [
        "evaluator_f1 = MulticlassClassificationEvaluator(\n",
        "    labelCol='target', \n",
        "    predictionCol='prediction', \n",
        "    metricName='f1')"
      ],
      "execution_count": 127,
      "outputs": []
    },
    {
      "cell_type": "code",
      "metadata": {
        "colab": {
          "base_uri": "https://localhost:8080/"
        },
        "id": "hL00wuAG7DCs",
        "outputId": "db5ce161-9659-467b-beb8-b31480e910f9"
      },
      "source": [
        "f1 = evaluator_f1.evaluate(predictions)\n",
        "print('Test f1 = ', f1)"
      ],
      "execution_count": 128,
      "outputs": [
        {
          "output_type": "stream",
          "text": [
            "Test f1 =  0.9675382003395587\n"
          ],
          "name": "stdout"
        }
      ]
    },
    {
      "cell_type": "markdown",
      "metadata": {
        "id": "smKsJTgU8Dbl"
      },
      "source": [
        "# Hyperparameter Tuning"
      ]
    },
    {
      "cell_type": "code",
      "metadata": {
        "id": "c5HSzwFk8M3V"
      },
      "source": [
        "from pyspark.ml.classification import RandomForestClassifier"
      ],
      "execution_count": 129,
      "outputs": []
    },
    {
      "cell_type": "code",
      "metadata": {
        "id": "09D19tzO9uxL"
      },
      "source": [
        "from pyspark.ml.tuning import ParamGridBuilder,CrossValidator"
      ],
      "execution_count": 130,
      "outputs": []
    },
    {
      "cell_type": "code",
      "metadata": {
        "id": "w2UO-R7-93Wu"
      },
      "source": [
        "from pyspark.ml.evaluation import MulticlassClassificationEvaluator"
      ],
      "execution_count": 131,
      "outputs": []
    },
    {
      "cell_type": "code",
      "metadata": {
        "id": "_KGQHj9S-EbW"
      },
      "source": [
        "evaluator = MulticlassClassificationEvaluator(    \n",
        "    labelCol='target', \n",
        "    predictionCol='prediction', \n",
        "    metricName='accuracy')"
      ],
      "execution_count": 132,
      "outputs": []
    },
    {
      "cell_type": "code",
      "metadata": {
        "id": "TL3b3y_4-JSE"
      },
      "source": [
        "rf = RandomForestClassifier(labelCol='target',featuresCol='features')"
      ],
      "execution_count": 133,
      "outputs": []
    },
    {
      "cell_type": "code",
      "metadata": {
        "id": "3U9106Tb-UMb"
      },
      "source": [
        "paramGrid = (ParamGridBuilder(). \\\n",
        "             addGrid(rf.maxDepth,[5,10,20,25,30]). \\\n",
        "             addGrid(rf.maxBins,[20,30,40]). \\\n",
        "             addGrid(rf.numTrees,[5,20,50]). \\\n",
        "             build())"
      ],
      "execution_count": 134,
      "outputs": []
    },
    {
      "cell_type": "code",
      "metadata": {
        "id": "HI7sgTOK_Fkb"
      },
      "source": [
        "cv = CrossValidator(estimator=rf, estimatorParamMaps=paramGrid, evaluator=evaluator, numFolds=5)"
      ],
      "execution_count": 135,
      "outputs": []
    },
    {
      "cell_type": "code",
      "metadata": {
        "id": "xaKobA9p_SS4"
      },
      "source": [
        "cv_model = cv.fit(training_df)"
      ],
      "execution_count": 136,
      "outputs": []
    },
    {
      "cell_type": "code",
      "metadata": {
        "id": "pFVI-9DCAasN"
      },
      "source": [
        "best_model_rf = cv_model.bestModel"
      ],
      "execution_count": 137,
      "outputs": []
    },
    {
      "cell_type": "code",
      "metadata": {
        "id": "gO5UZ37ZAlZx"
      },
      "source": [
        "best_predictions = best_model_rf.transform(test_df)"
      ],
      "execution_count": 139,
      "outputs": []
    },
    {
      "cell_type": "code",
      "metadata": {
        "id": "U6TjA7uCA8K_"
      },
      "source": [
        "from pyspark.ml.evaluation import MulticlassClassificationEvaluator\n",
        "evaluator_accuracy = MulticlassClassificationEvaluator(\n",
        "    labelCol='target', \n",
        "    predictionCol='prediction', \n",
        "    metricName='accuracy')"
      ],
      "execution_count": 140,
      "outputs": []
    },
    {
      "cell_type": "code",
      "metadata": {
        "colab": {
          "base_uri": "https://localhost:8080/"
        },
        "id": "1PHl29hMA_fR",
        "outputId": "84bc4b88-7137-49d3-9b71-a0646b231688"
      },
      "source": [
        "accuracy = evaluator_accuracy.evaluate(best_predictions)\n",
        "print('Test Accuracy = ', accuracy)"
      ],
      "execution_count": 141,
      "outputs": [
        {
          "output_type": "stream",
          "text": [
            "Test Accuracy =  0.967741935483871\n"
          ],
          "name": "stdout"
        }
      ]
    },
    {
      "cell_type": "code",
      "metadata": {
        "id": "XS7nkVyFBTNy"
      },
      "source": [
        "evaluator_f1 = MulticlassClassificationEvaluator(\n",
        "    labelCol='target', \n",
        "    predictionCol='prediction', \n",
        "    metricName='f1')"
      ],
      "execution_count": 142,
      "outputs": []
    },
    {
      "cell_type": "code",
      "metadata": {
        "colab": {
          "base_uri": "https://localhost:8080/"
        },
        "id": "cnMV9GB-BcTN",
        "outputId": "72fa965d-cdcd-437d-dc07-3910bbf65fbf"
      },
      "source": [
        "f1 = evaluator_f1.evaluate(best_predictions)\n",
        "print('Test f1 = ', f1)"
      ],
      "execution_count": 143,
      "outputs": [
        {
          "output_type": "stream",
          "text": [
            "Test f1 =  0.9675382003395587\n"
          ],
          "name": "stdout"
        }
      ]
    },
    {
      "cell_type": "code",
      "metadata": {
        "id": "YyubPDxwJP_i"
      },
      "source": [
        "evaluator_weightedPrecision = MulticlassClassificationEvaluator(\n",
        "    labelCol='target', \n",
        "    predictionCol='prediction', \n",
        "    metricName='weightedPrecision')"
      ],
      "execution_count": 144,
      "outputs": []
    },
    {
      "cell_type": "code",
      "metadata": {
        "colab": {
          "base_uri": "https://localhost:8080/"
        },
        "id": "zoYFOFhtJuQw",
        "outputId": "44012cd7-c829-4195-b0dc-f345f0e8a51d"
      },
      "source": [
        "precision = evaluator_weightedPrecision.evaluate(best_predictions)\n",
        "print('Test precision = ', precision)"
      ],
      "execution_count": 146,
      "outputs": [
        {
          "output_type": "stream",
          "text": [
            "Test precision =  0.9702233250620347\n"
          ],
          "name": "stdout"
        }
      ]
    },
    {
      "cell_type": "code",
      "metadata": {
        "id": "t--TilUVKFyn"
      },
      "source": [
        "evaluator_weightedRecall = MulticlassClassificationEvaluator(\n",
        "    labelCol='target', \n",
        "    predictionCol='prediction', \n",
        "    metricName='weightedRecall')"
      ],
      "execution_count": 147,
      "outputs": []
    },
    {
      "cell_type": "code",
      "metadata": {
        "colab": {
          "base_uri": "https://localhost:8080/"
        },
        "id": "rdVRNtUpKNFn",
        "outputId": "2fe0bc73-25aa-4045-8dbc-8f07cb83aeda"
      },
      "source": [
        "recall = evaluator_weightedRecall.evaluate(best_predictions)\n",
        "print('Test recall = ', recall)"
      ],
      "execution_count": 148,
      "outputs": [
        {
          "output_type": "stream",
          "text": [
            "Test recall =  0.967741935483871\n"
          ],
          "name": "stdout"
        }
      ]
    }
  ]
}