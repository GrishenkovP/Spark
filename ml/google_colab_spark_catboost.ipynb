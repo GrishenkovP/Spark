{
  "nbformat": 4,
  "nbformat_minor": 0,
  "metadata": {
    "colab": {
      "name": "google_colab_spark_catboost.ipynb",
      "provenance": [],
      "collapsed_sections": []
    },
    "kernelspec": {
      "name": "python3",
      "display_name": "Python 3"
    },
    "language_info": {
      "name": "python"
    }
  },
  "cells": [
    {
      "cell_type": "markdown",
      "metadata": {
        "id": "cXRB-OSA-hR3"
      },
      "source": [
        "# **CatBoost**"
      ]
    },
    {
      "cell_type": "markdown",
      "metadata": {
        "id": "bMPVov8_-lTE"
      },
      "source": [
        "### За основу взят ноутбук из вебинара \"CatBoost на больших данных\", канал Karpov.Courses, ведущий вебинара Александр Савченко"
      ]
    },
    {
      "cell_type": "markdown",
      "metadata": {
        "id": "q0CPO4nIRlVZ"
      },
      "source": [
        "Репозиторий с исходником: https://github.com/AlexKbit/pyspark-catboost-example"
      ]
    },
    {
      "cell_type": "code",
      "metadata": {
        "id": "TXdf2HZU510Y"
      },
      "source": [
        "%%capture\n",
        "!pip install pyspark==3.0.3"
      ],
      "execution_count": null,
      "outputs": []
    },
    {
      "cell_type": "code",
      "metadata": {
        "id": "lzRwBTG96OLH"
      },
      "source": [
        "from pyspark.ml import Pipeline\n",
        "from pyspark.ml.feature import VectorAssembler, StringIndexer\n",
        "from pyspark.ml.evaluation import MulticlassClassificationEvaluator\n",
        "from pyspark.sql import SparkSession\n",
        "from pyspark.sql import DataFrame\n",
        "from pyspark.sql.functions import col\n",
        "from pyspark.sql.types import StructField, StructType"
      ],
      "execution_count": null,
      "outputs": []
    },
    {
      "cell_type": "code",
      "metadata": {
        "id": "CuzXO0o-6Tq9"
      },
      "source": [
        "spark = SparkSession.builder\\\n",
        "    .master('local[*]')\\\n",
        "    .appName('CatBoostWithSpark')\\\n",
        "    .config(\"spark.jars.packages\", \"ai.catboost:catboost-spark_3.0_2.12:1.0.3\")\\\n",
        "    .config(\"spark.executor.cores\", \"2\")\\\n",
        "    .config(\"spark.task.cpus\", \"2\")\\\n",
        "    .config(\"spark.driver.memory\", \"2g\")\\\n",
        "    .config(\"spark.driver.memoryOverhead\", \"2g\")\\\n",
        "    .config(\"spark.executor.memory\", \"2g\")\\\n",
        "    .config(\"spark.executor.memoryOverhead\", \"2g\")\\\n",
        "    .getOrCreate()"
      ],
      "execution_count": null,
      "outputs": []
    },
    {
      "cell_type": "code",
      "metadata": {
        "colab": {
          "base_uri": "https://localhost:8080/",
          "height": 216
        },
        "id": "eBTuHmiL_Oy9",
        "outputId": "68012adb-5335-4bdf-d783-72539678e0e5"
      },
      "source": [
        "spark"
      ],
      "execution_count": null,
      "outputs": [
        {
          "output_type": "execute_result",
          "data": {
            "text/html": [
              "\n",
              "            <div>\n",
              "                <p><b>SparkSession - in-memory</b></p>\n",
              "                \n",
              "        <div>\n",
              "            <p><b>SparkContext</b></p>\n",
              "\n",
              "            <p><a href=\"http://cb62af9f7894:4040\">Spark UI</a></p>\n",
              "\n",
              "            <dl>\n",
              "              <dt>Version</dt>\n",
              "                <dd><code>v3.0.3</code></dd>\n",
              "              <dt>Master</dt>\n",
              "                <dd><code>local[*]</code></dd>\n",
              "              <dt>AppName</dt>\n",
              "                <dd><code>CatBoostWithSpark</code></dd>\n",
              "            </dl>\n",
              "        </div>\n",
              "        \n",
              "            </div>\n",
              "        "
            ],
            "text/plain": [
              "<pyspark.sql.session.SparkSession at 0x7f8d18281690>"
            ]
          },
          "metadata": {},
          "execution_count": 4
        }
      ]
    },
    {
      "cell_type": "code",
      "metadata": {
        "id": "sBKWGtdt_Vns"
      },
      "source": [
        "import catboost_spark"
      ],
      "execution_count": null,
      "outputs": []
    },
    {
      "cell_type": "code",
      "metadata": {
        "id": "Y6fD5pfjEcfj"
      },
      "source": [
        "schema_dataset = \"col1 String, col2 String, col3 Double, col4 Double, col5 Double, target Integer\"\n",
        "df = spark.read.csv('/content/data.csv',sep=',',header=True,schema = schema_dataset)"
      ],
      "execution_count": null,
      "outputs": []
    },
    {
      "cell_type": "code",
      "metadata": {
        "colab": {
          "base_uri": "https://localhost:8080/"
        },
        "id": "d4t61SzCF5Hz",
        "outputId": "6ce95343-cef3-4f7e-ac73-1b84b80931dc"
      },
      "source": [
        "df.printSchema()"
      ],
      "execution_count": null,
      "outputs": [
        {
          "output_type": "stream",
          "name": "stdout",
          "text": [
            "root\n",
            " |-- col1: string (nullable = true)\n",
            " |-- col2: string (nullable = true)\n",
            " |-- col3: double (nullable = true)\n",
            " |-- col4: double (nullable = true)\n",
            " |-- col5: double (nullable = true)\n",
            " |-- target: integer (nullable = true)\n",
            "\n"
          ]
        }
      ]
    },
    {
      "cell_type": "code",
      "metadata": {
        "colab": {
          "base_uri": "https://localhost:8080/"
        },
        "id": "LWiJOsyRFTM1",
        "outputId": "f086d853-0012-4e93-cb53-b374255fe79c"
      },
      "source": [
        "print(df.describe().show())"
      ],
      "execution_count": null,
      "outputs": [
        {
          "output_type": "stream",
          "name": "stdout",
          "text": [
            "+-------+----+----+------------------+------------------+-----------------+------------------+\n",
            "|summary|col1|col2|              col3|              col4|             col5|            target|\n",
            "+-------+----+----+------------------+------------------+-----------------+------------------+\n",
            "|  count| 999| 999|               999|               999|              999|               999|\n",
            "|   mean|null|null| 6.126728018535534|3091.0939393577505| 315.711484855864|0.4954954954954955|\n",
            "| stddev|null|null|0.5898659455919512| 6063.724047846411|248.0598507266117|0.5002301371468432|\n",
            "|    min|   a|   a|       4.605170186|       2.718281828|      0.010761534|                 0|\n",
            "|    max|   z|   z|       6.907755279|       22026.46579|      984.2199136|                 1|\n",
            "+-------+----+----+------------------+------------------+-----------------+------------------+\n",
            "\n",
            "None\n"
          ]
        }
      ]
    },
    {
      "cell_type": "code",
      "metadata": {
        "colab": {
          "base_uri": "https://localhost:8080/"
        },
        "id": "EMXKJPHjJlYB",
        "outputId": "3a46ddad-45d9-40d9-f707-ebb788e06278"
      },
      "source": [
        "print(df.show(7))"
      ],
      "execution_count": null,
      "outputs": [
        {
          "output_type": "stream",
          "name": "stdout",
          "text": [
            "+----+----+-----------+-----------+-----------+------+\n",
            "|col1|col2|       col3|       col4|       col5|target|\n",
            "+----+----+-----------+-----------+-----------+------+\n",
            "|   o|   r|6.084499413|2980.957987|   1.737842|     0|\n",
            "|   z|   x|6.553933404|8103.083928|2.884142703|     0|\n",
            "|   w|   w|4.779123493|22026.46579|0.035646382|     0|\n",
            "|   t|   w|6.663132696|148.4131591|4.600071127|     0|\n",
            "|   p|   s|6.508769137|7.389056099|1.625782932|     1|\n",
            "|   u|   r|5.860786223|54.59815003|6.712529775|     1|\n",
            "|   r|   a|6.708084084|2980.957987|7.360113804|     0|\n",
            "+----+----+-----------+-----------+-----------+------+\n",
            "only showing top 7 rows\n",
            "\n",
            "None\n"
          ]
        }
      ]
    },
    {
      "cell_type": "code",
      "metadata": {
        "id": "-7sgXh1JJrhS"
      },
      "source": [
        "TARGET_LABEL = 'target'"
      ],
      "execution_count": null,
      "outputs": []
    },
    {
      "cell_type": "code",
      "metadata": {
        "id": "9QPPmPO4J4CA"
      },
      "source": [
        "evaluator = MulticlassClassificationEvaluator(\n",
        "    labelCol=TARGET_LABEL, \n",
        "    predictionCol=\"prediction\", \n",
        "    metricName='f1')"
      ],
      "execution_count": null,
      "outputs": []
    },
    {
      "cell_type": "code",
      "metadata": {
        "id": "XdgGxOndJ_a3"
      },
      "source": [
        "train_df, test_df = df.randomSplit([0.75, 0.25])"
      ],
      "execution_count": null,
      "outputs": []
    },
    {
      "cell_type": "markdown",
      "metadata": {
        "id": "5Owh1-Z3KEwE"
      },
      "source": [
        "### Train CatBoost with Pool"
      ]
    },
    {
      "cell_type": "code",
      "metadata": {
        "id": "JS08UBKJKH9b"
      },
      "source": [
        "col1_indexer = StringIndexer(inputCol='col1', outputCol=\"col1_index\")\n",
        "col2_indexer = StringIndexer(inputCol='col2', outputCol=\"col2_index\")\n",
        "features = [\"col1_index\", \"col2_index\", \"col3\", \"col4\", \"col5\"]\n",
        "assembler = VectorAssembler(inputCols=features, outputCol='features')"
      ],
      "execution_count": null,
      "outputs": []
    },
    {
      "cell_type": "code",
      "metadata": {
        "id": "j8soCSg6Kzga"
      },
      "source": [
        "def prepare_vector(df: DataFrame)-> DataFrame:\n",
        "  result_df = col1_indexer.fit(df).transform(df)\n",
        "  result_df = col2_indexer.fit(result_df).transform(result_df)\n",
        "  result_df = assembler.transform(result_df)\n",
        "  return result_df"
      ],
      "execution_count": null,
      "outputs": []
    },
    {
      "cell_type": "code",
      "metadata": {
        "id": "EsO-tUcwLgVa"
      },
      "source": [
        "train = prepare_vector(train_df)\n",
        "test = prepare_vector(test_df)"
      ],
      "execution_count": null,
      "outputs": []
    },
    {
      "cell_type": "code",
      "metadata": {
        "colab": {
          "base_uri": "https://localhost:8080/"
        },
        "id": "SpboTF4gLijZ",
        "outputId": "4fad234d-43b6-4086-e662-b6974e36d332"
      },
      "source": [
        "print(train.show(7))"
      ],
      "execution_count": null,
      "outputs": [
        {
          "output_type": "stream",
          "name": "stdout",
          "text": [
            "+----+----+-----------+-----------+-----------+------+----------+----------+--------------------+\n",
            "|col1|col2|       col3|       col4|       col5|target|col1_index|col2_index|            features|\n",
            "+----+----+-----------+-----------+-----------+------+----------+----------+--------------------+\n",
            "|   a|   a|5.129898715|20.08553692|272.5829356|     1|       8.0|      23.0|[8.0,23.0,5.12989...|\n",
            "|   a|   b|4.804021045|403.4287935| 888.578495|     0|       8.0|       4.0|[8.0,4.0,4.804021...|\n",
            "|   a|   b|5.446737372|54.59815003|537.8494671|     0|       8.0|       4.0|[8.0,4.0,5.446737...|\n",
            "|   a|   b|6.401917197|148.4131591|101.2690374|     0|       8.0|       4.0|[8.0,4.0,6.401917...|\n",
            "|   a|   b|6.883462586|1096.633158|670.3254037|     0|       8.0|       4.0|[8.0,4.0,6.883462...|\n",
            "|   a|   e| 6.03787092|20.08553692|464.8122752|     0|       8.0|      12.0|[8.0,12.0,6.03787...|\n",
            "|   a|   f|5.407171771|20.08553692|390.9714078|     1|       8.0|       2.0|[8.0,2.0,5.407171...|\n",
            "+----+----+-----------+-----------+-----------+------+----------+----------+--------------------+\n",
            "only showing top 7 rows\n",
            "\n",
            "None\n"
          ]
        }
      ]
    },
    {
      "cell_type": "code",
      "metadata": {
        "colab": {
          "base_uri": "https://localhost:8080/"
        },
        "id": "D1TNI61kLm_q",
        "outputId": "86471c5c-911a-41d2-998d-feafdf4bbdbb"
      },
      "source": [
        "train_pool = catboost_spark.Pool(train.select(['features', TARGET_LABEL]))\n",
        "train_pool.setLabelCol(TARGET_LABEL)\n",
        "train_pool.setFeaturesCol('features')"
      ],
      "execution_count": null,
      "outputs": [
        {
          "output_type": "execute_result",
          "data": {
            "text/plain": [
              "Pool_602a442374ff"
            ]
          },
          "metadata": {},
          "execution_count": 30
        }
      ]
    },
    {
      "cell_type": "code",
      "metadata": {
        "colab": {
          "base_uri": "https://localhost:8080/"
        },
        "id": "Pq5VQ6iDLs4B",
        "outputId": "aa7f42ca-f597-4e1c-bebc-cdb3077fa0c5"
      },
      "source": [
        "classifier = catboost_spark.CatBoostClassifier(featuresCol='features', labelCol=TARGET_LABEL)\n",
        "classifier.setIterations(50)\n",
        "classifier.setDepth(5)"
      ],
      "execution_count": null,
      "outputs": [
        {
          "output_type": "execute_result",
          "data": {
            "text/plain": [
              "CatBoostClassifier_2d1eab184387"
            ]
          },
          "metadata": {},
          "execution_count": 31
        }
      ]
    },
    {
      "cell_type": "code",
      "metadata": {
        "colab": {
          "base_uri": "https://localhost:8080/"
        },
        "id": "gcdXcjNtLwHp",
        "outputId": "3111e3d7-e235-41a3-b5c2-9a747ba2f314"
      },
      "source": [
        "model = classifier.fit(train_pool)\n",
        "predict = model.transform(test)\n",
        "print(f'Model F1 = {evaluator.evaluate(predict)}')"
      ],
      "execution_count": null,
      "outputs": [
        {
          "output_type": "stream",
          "name": "stdout",
          "text": [
            "Model F1 = 0.5133384417477316\n"
          ]
        }
      ]
    },
    {
      "cell_type": "code",
      "metadata": {
        "colab": {
          "base_uri": "https://localhost:8080/"
        },
        "id": "389gmLHNL9yK",
        "outputId": "261caa79-e535-402a-9126-d61a51e3c4c5"
      },
      "source": [
        "print(predict.show(7))"
      ],
      "execution_count": null,
      "outputs": [
        {
          "output_type": "stream",
          "name": "stdout",
          "text": [
            "+----+----+-----------+-----------+-----------+------+----------+----------+--------------------+--------------------+--------------------+----------+\n",
            "|col1|col2|       col3|       col4|       col5|target|col1_index|col2_index|            features|       rawPrediction|         probability|prediction|\n",
            "+----+----+-----------+-----------+-----------+------+----------+----------+--------------------+--------------------+--------------------+----------+\n",
            "|   a|   a|6.646390515|148.4131591|157.7424017|     1|       4.0|       2.0|[4.0,2.0,6.646390...|[-0.0039150571071...|[0.49804248144779...|       1.0|\n",
            "|   a|   c|5.950642553|54.59815003| 6.21892211|     1|       4.0|       4.0|[4.0,4.0,5.950642...|[0.04040159315686...|[0.52018981257247...|       0.0|\n",
            "|   a|   g|6.436150368|148.4131591|56.60413081|     0|       4.0|      18.0|[4.0,18.0,6.43615...|[0.01749729007042...|[0.50874775233026...|       0.0|\n",
            "|   a|   g|6.864847778|2980.957987|389.8896251|     1|       4.0|      18.0|[4.0,18.0,6.86484...|[-0.1194541418324...|[0.44055540457489...|       1.0|\n",
            "|   a|   o|6.364750757|20.08553692|0.010761534|     1|       4.0|      11.0|[4.0,11.0,6.36475...|[0.05392532673939...|[0.52693655845702...|       0.0|\n",
            "|   a|   p|5.505331536|7.389056099| 307.215333|     0|       4.0|       6.0|[4.0,6.0,5.505331...|[-0.0414205705856...|[0.47930155054604...|       1.0|\n",
            "|   a|   q|6.440946541|403.4287935|167.3800662|     0|       4.0|      22.0|[4.0,22.0,6.44094...|[0.09141613676747...|[0.54558116649773...|       0.0|\n",
            "+----+----+-----------+-----------+-----------+------+----------+----------+--------------------+--------------------+--------------------+----------+\n",
            "only showing top 7 rows\n",
            "\n",
            "None\n"
          ]
        }
      ]
    },
    {
      "cell_type": "code",
      "metadata": {
        "id": "6niFcUwOMJQq"
      },
      "source": [
        "model.saveNativeModel('catboost_native')"
      ],
      "execution_count": null,
      "outputs": []
    },
    {
      "cell_type": "code",
      "metadata": {
        "id": "a4Tt7YJsNviS"
      },
      "source": [
        "model.write().overwrite().save('catboost_spark')"
      ],
      "execution_count": null,
      "outputs": []
    },
    {
      "cell_type": "markdown",
      "metadata": {
        "id": "eOHlKtMbOF5K"
      },
      "source": [
        "### Pipeline model with CatBoost"
      ]
    },
    {
      "cell_type": "code",
      "metadata": {
        "id": "7vBWZLa4OHP6"
      },
      "source": [
        "col1_indexer = StringIndexer(inputCol='col1', outputCol=\"col1_index\")\n",
        "col2_indexer = StringIndexer(inputCol='col2', outputCol=\"col2_index\")\n",
        "features = [\"col1_index\", \"col2_index\", \"col3\", \"col4\", \"col5\"]\n",
        "assembler = VectorAssembler(inputCols=features, outputCol='features')"
      ],
      "execution_count": null,
      "outputs": []
    },
    {
      "cell_type": "code",
      "metadata": {
        "colab": {
          "base_uri": "https://localhost:8080/"
        },
        "id": "BtklSirxOM46",
        "outputId": "ff0b63c3-1091-4e4f-b98d-8da23361722e"
      },
      "source": [
        "classifier = catboost_spark.CatBoostClassifier(featuresCol='features', labelCol=TARGET_LABEL)\n",
        "classifier.setIterations(50)\n",
        "classifier.setDepth(5)"
      ],
      "execution_count": null,
      "outputs": [
        {
          "output_type": "execute_result",
          "data": {
            "text/plain": [
              "CatBoostClassifier_59e51d0fc42a"
            ]
          },
          "metadata": {},
          "execution_count": 46
        }
      ]
    },
    {
      "cell_type": "code",
      "metadata": {
        "id": "Ay1xVs6sOPrS"
      },
      "source": [
        "pipeline = Pipeline(stages=[col1_indexer, col2_indexer, assembler, classifier])"
      ],
      "execution_count": null,
      "outputs": []
    },
    {
      "cell_type": "code",
      "metadata": {
        "id": "CMtltLH7OWI6"
      },
      "source": [
        "p_model = pipeline.fit(train_df)"
      ],
      "execution_count": null,
      "outputs": []
    },
    {
      "cell_type": "code",
      "metadata": {
        "colab": {
          "base_uri": "https://localhost:8080/"
        },
        "id": "CjeV3WwzOWyx",
        "outputId": "1a5ce636-8f58-4056-c7bb-449329d4ef81"
      },
      "source": [
        "print(test_df.show(7))"
      ],
      "execution_count": null,
      "outputs": [
        {
          "output_type": "stream",
          "name": "stdout",
          "text": [
            "+----+----+-----------+-----------+-----------+------+\n",
            "|col1|col2|       col3|       col4|       col5|target|\n",
            "+----+----+-----------+-----------+-----------+------+\n",
            "|   a|   a|6.646390515|148.4131591|157.7424017|     1|\n",
            "|   a|   c|5.950642553|54.59815003| 6.21892211|     1|\n",
            "|   a|   g|6.436150368|148.4131591|56.60413081|     0|\n",
            "|   a|   g|6.864847778|2980.957987|389.8896251|     1|\n",
            "|   a|   o|6.364750757|20.08553692|0.010761534|     1|\n",
            "|   a|   p|5.505331536|7.389056099| 307.215333|     0|\n",
            "|   a|   q|6.440946541|403.4287935|167.3800662|     0|\n",
            "+----+----+-----------+-----------+-----------+------+\n",
            "only showing top 7 rows\n",
            "\n",
            "None\n"
          ]
        }
      ]
    },
    {
      "cell_type": "code",
      "metadata": {
        "id": "2rVJsuYEOqjx"
      },
      "source": [
        "predictions = p_model.transform(test_df)"
      ],
      "execution_count": null,
      "outputs": []
    },
    {
      "cell_type": "code",
      "metadata": {
        "colab": {
          "base_uri": "https://localhost:8080/"
        },
        "id": "w-sbUV0vOuwR",
        "outputId": "9da50dc1-c93c-4a40-ef8c-29bef31a4955"
      },
      "source": [
        "print(predictions.show(7))"
      ],
      "execution_count": null,
      "outputs": [
        {
          "output_type": "stream",
          "name": "stdout",
          "text": [
            "+----+----+-----------+-----------+-----------+------+----------+----------+--------------------+--------------------+--------------------+----------+\n",
            "|col1|col2|       col3|       col4|       col5|target|col1_index|col2_index|            features|       rawPrediction|         probability|prediction|\n",
            "+----+----+-----------+-----------+-----------+------+----------+----------+--------------------+--------------------+--------------------+----------+\n",
            "|   a|   a|6.646390515|148.4131591|157.7424017|     1|       8.0|      23.0|[8.0,23.0,6.64639...|[0.22310705457457...|[0.60973872836073...|       0.0|\n",
            "|   a|   c|5.950642553|54.59815003| 6.21892211|     1|       8.0|       5.0|[8.0,5.0,5.950642...|[0.28321941745872...|[0.63794104949937...|       0.0|\n",
            "|   a|   g|6.436150368|148.4131591|56.60413081|     0|       8.0|      13.0|[8.0,13.0,6.43615...|[0.26712929527296...|[0.63047581171129...|       0.0|\n",
            "|   a|   g|6.864847778|2980.957987|389.8896251|     1|       8.0|      13.0|[8.0,13.0,6.86484...|[-0.0924605930198...|[0.45390099488431...|       1.0|\n",
            "|   a|   o|6.364750757|20.08553692|0.010761534|     1|       8.0|       1.0|[8.0,1.0,6.364750...|[0.23582041567198...|[0.61577204556464...|       0.0|\n",
            "|   a|   p|5.505331536|7.389056099| 307.215333|     0|       8.0|      16.0|[8.0,16.0,5.50533...|[0.16208223154408...|[0.58033882709176...|       0.0|\n",
            "|   a|   q|6.440946541|403.4287935|167.3800662|     0|       8.0|      21.0|[8.0,21.0,6.44094...|[0.20460077252328...|[0.60089640888479...|       0.0|\n",
            "+----+----+-----------+-----------+-----------+------+----------+----------+--------------------+--------------------+--------------------+----------+\n",
            "only showing top 7 rows\n",
            "\n",
            "None\n"
          ]
        }
      ]
    },
    {
      "cell_type": "code",
      "metadata": {
        "colab": {
          "base_uri": "https://localhost:8080/"
        },
        "id": "xIqEIt0KO-uZ",
        "outputId": "4219fd83-261d-44c5-8cf4-3087b9814055"
      },
      "source": [
        "print(f'Model F1 = {evaluator.evaluate(predictions)}')"
      ],
      "execution_count": null,
      "outputs": [
        {
          "output_type": "stream",
          "name": "stdout",
          "text": [
            "Model F1 = 0.521987688164286\n"
          ]
        }
      ]
    },
    {
      "cell_type": "code",
      "metadata": {
        "colab": {
          "base_uri": "https://localhost:8080/"
        },
        "id": "Mdw69TzKO_yC",
        "outputId": "38ac8bf8-44df-4015-b876-8d31808986aa"
      },
      "source": [
        "type(p_model)"
      ],
      "execution_count": null,
      "outputs": [
        {
          "output_type": "execute_result",
          "data": {
            "text/plain": [
              "pyspark.ml.pipeline.PipelineModel"
            ]
          },
          "metadata": {},
          "execution_count": 54
        }
      ]
    },
    {
      "cell_type": "code",
      "metadata": {
        "id": "82wleklpPBwh"
      },
      "source": [
        "p_model.write().overwrite().save('catboost_pipeline')"
      ],
      "execution_count": null,
      "outputs": []
    }
  ]
}