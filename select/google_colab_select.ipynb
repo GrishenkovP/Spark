{
  "nbformat": 4,
  "nbformat_minor": 0,
  "metadata": {
    "colab": {
      "name": "spark2.ipynb",
      "provenance": [],
      "collapsed_sections": []
    },
    "kernelspec": {
      "name": "python3",
      "display_name": "Python 3"
    }
  },
  "cells": [
    {
      "cell_type": "code",
      "metadata": {
        "id": "zH9NLWD13EjB"
      },
      "source": [
        "# Install the dependencies\n",
        "!apt-get install openjdk-8-jdk-headless -qq > /dev/null\n",
        "!wget -q https://archive.apache.org/dist/spark/spark-3.0.1/spark-3.0.1-bin-hadoop3.2.tgz\n",
        "!tar xf spark-3.0.1-bin-hadoop3.2.tgz\n",
        "!pip install -q findspark"
      ],
      "execution_count": null,
      "outputs": []
    },
    {
      "cell_type": "code",
      "metadata": {
        "id": "c6Cokct83h5R"
      },
      "source": [
        "# Set the environment variables for running PySpark in the collaboration environmentimport os\n",
        "import os\n",
        "os.environ[\"JAVA_HOME\"] = \"/usr/lib/jvm/java-8-openjdk-amd64\"\n",
        "os.environ[\"SPARK_HOME\"] = \"/content/spark-3.0.1-bin-hadoop3.2\""
      ],
      "execution_count": null,
      "outputs": []
    },
    {
      "cell_type": "code",
      "metadata": {
        "id": "WaccJdNb4hol"
      },
      "source": [
        "# Run the local session to test the installation\n",
        "import findspark\n",
        "findspark.init('spark-3.0.1-bin-hadoop3.2')\n",
        "from pyspark.sql import SparkSession\n",
        "spark = SparkSession.builder.master('local[*]').getOrCreate()"
      ],
      "execution_count": null,
      "outputs": []
    },
    {
      "cell_type": "code",
      "metadata": {
        "id": "cEYQkq_9ix9s"
      },
      "source": [
        "# Define schema for out data\r\n",
        "schema_sales = \"date STRING, region STRING, manager STRING, product STRING, amount INT\""
      ],
      "execution_count": null,
      "outputs": []
    },
    {
      "cell_type": "code",
      "metadata": {
        "id": "4AK9VVVGlTzi"
      },
      "source": [
        "# Connect Google Drive!!! (files section)\r\n",
        "data = spark.read.csv(\"/content/drive/MyDrive/db/sales.csv\", schema = schema_sales, header = True, sep=\";\")"
      ],
      "execution_count": null,
      "outputs": []
    },
    {
      "cell_type": "code",
      "metadata": {
        "colab": {
          "base_uri": "https://localhost:8080/"
        },
        "id": "4zMUPI1LGwTY",
        "outputId": "4cf7e8f5-46fe-4394-bff9-8cfc0155e5f9"
      },
      "source": [
        "data.show(10)"
      ],
      "execution_count": null,
      "outputs": [
        {
          "output_type": "stream",
          "text": [
            "+----------+------+-------+-------+------+\n",
            "|      date|region|manager|product|amount|\n",
            "+----------+------+-------+-------+------+\n",
            "|01.01.2020| north|   Mark|  metal|  3899|\n",
            "|02.01.2020| south|  David|   wood|  2283|\n",
            "|03.01.2020|  west|   John|  metal|  4812|\n",
            "|04.01.2020|  east|William|   wood|  5452|\n",
            "|05.01.2020| north|   Mark|  metal|  9855|\n",
            "|06.01.2020| south|  David|   wood|  5040|\n",
            "|07.01.2020|  west|   John|  metal|  4801|\n",
            "|08.01.2020|  east|William|   wood|  5752|\n",
            "|09.01.2020| north|   Mark|  metal|  8721|\n",
            "|10.01.2020| south|  David|   wood|  8020|\n",
            "+----------+------+-------+-------+------+\n",
            "only showing top 10 rows\n",
            "\n"
          ],
          "name": "stdout"
        }
      ]
    },
    {
      "cell_type": "code",
      "metadata": {
        "colab": {
          "base_uri": "https://localhost:8080/"
        },
        "id": "dz1_5zfDHCKf",
        "outputId": "42dbd2f5-cf08-48ca-d8c9-69f03969094f"
      },
      "source": [
        "data.printSchema()"
      ],
      "execution_count": null,
      "outputs": [
        {
          "output_type": "stream",
          "text": [
            "root\n",
            " |-- date: string (nullable = true)\n",
            " |-- region: string (nullable = true)\n",
            " |-- manager: string (nullable = true)\n",
            " |-- product: string (nullable = true)\n",
            " |-- amount: integer (nullable = true)\n",
            "\n"
          ],
          "name": "stdout"
        }
      ]
    },
    {
      "cell_type": "code",
      "metadata": {
        "id": "bCib1MPhHugv"
      },
      "source": [
        "# Change column type from string to date\r\n",
        "from datetime import datetime\r\n",
        "from pyspark.sql.functions import col, udf\r\n",
        "from pyspark.sql.types import *\r\n",
        "udf_date = udf(lambda x:datetime.strptime(x, \"%d.%m.%Y\"),DateType())\r\n",
        "df = data.withColumn('date',udf_date(col('date')))"
      ],
      "execution_count": null,
      "outputs": []
    },
    {
      "cell_type": "code",
      "metadata": {
        "colab": {
          "base_uri": "https://localhost:8080/"
        },
        "id": "IkLYC51yQd_r",
        "outputId": "4ad4cff8-1966-4982-a876-8a098f9cebcf"
      },
      "source": [
        "df.show(10)"
      ],
      "execution_count": null,
      "outputs": [
        {
          "output_type": "stream",
          "text": [
            "+----------+------+-------+-------+------+\n",
            "|      date|region|manager|product|amount|\n",
            "+----------+------+-------+-------+------+\n",
            "|2020-01-01| north|   Mark|  metal|  3899|\n",
            "|2020-01-02| south|  David|   wood|  2283|\n",
            "|2020-01-03|  west|   John|  metal|  4812|\n",
            "|2020-01-04|  east|William|   wood|  5452|\n",
            "|2020-01-05| north|   Mark|  metal|  9855|\n",
            "|2020-01-06| south|  David|   wood|  5040|\n",
            "|2020-01-07|  west|   John|  metal|  4801|\n",
            "|2020-01-08|  east|William|   wood|  5752|\n",
            "|2020-01-09| north|   Mark|  metal|  8721|\n",
            "|2020-01-10| south|  David|   wood|  8020|\n",
            "+----------+------+-------+-------+------+\n",
            "only showing top 10 rows\n",
            "\n"
          ],
          "name": "stdout"
        }
      ]
    },
    {
      "cell_type": "code",
      "metadata": {
        "colab": {
          "base_uri": "https://localhost:8080/"
        },
        "id": "67YgJyIvYVjw",
        "outputId": "d79d149f-5d32-4f15-855b-bfdb5feb78b4"
      },
      "source": [
        "df.printSchema()"
      ],
      "execution_count": null,
      "outputs": [
        {
          "output_type": "stream",
          "text": [
            "root\n",
            " |-- date: date (nullable = true)\n",
            " |-- region: string (nullable = true)\n",
            " |-- manager: string (nullable = true)\n",
            " |-- product: string (nullable = true)\n",
            " |-- amount: integer (nullable = true)\n",
            "\n"
          ],
          "name": "stdout"
        }
      ]
    },
    {
      "cell_type": "code",
      "metadata": {
        "colab": {
          "base_uri": "https://localhost:8080/"
        },
        "id": "6TqiSV2adkoV",
        "outputId": "f16ef025-ea76-4dd9-b61f-45607b2a2e32"
      },
      "source": [
        "# List of column names\r\n",
        "df.columns"
      ],
      "execution_count": null,
      "outputs": [
        {
          "output_type": "execute_result",
          "data": {
            "text/plain": [
              "['date', 'region', 'manager', 'product', 'amount']"
            ]
          },
          "metadata": {
            "tags": []
          },
          "execution_count": 75
        }
      ]
    },
    {
      "cell_type": "code",
      "metadata": {
        "id": "a2UnREz8d6Qm"
      },
      "source": [
        ""
      ],
      "execution_count": null,
      "outputs": []
    },
    {
      "cell_type": "code",
      "metadata": {
        "colab": {
          "base_uri": "https://localhost:8080/"
        },
        "id": "bYkVAoXGd6KV",
        "outputId": "90833db2-d755-46a7-8532-5c036d6ecd09"
      },
      "source": [
        "# Function countDistinct\r\n",
        "from pyspark.sql.functions import *\r\n",
        "df.select(\"manager\").where(col(\"manager\").isNotNull()).agg(countDistinct(\"manager\").alias(\"DistintManager\")).show()"
      ],
      "execution_count": null,
      "outputs": [
        {
          "output_type": "stream",
          "text": [
            "+--------------+\n",
            "|DistintManager|\n",
            "+--------------+\n",
            "|             4|\n",
            "+--------------+\n",
            "\n"
          ],
          "name": "stdout"
        }
      ]
    },
    {
      "cell_type": "code",
      "metadata": {
        "colab": {
          "base_uri": "https://localhost:8080/"
        },
        "id": "9ALAG8DLf9OV",
        "outputId": "f8a294cb-9542-49b0-e989-fb016bdffdae"
      },
      "source": [
        "df.select(\"manager\").where(col(\"manager\").isNotNull()).distinct().show()"
      ],
      "execution_count": null,
      "outputs": [
        {
          "output_type": "stream",
          "text": [
            "+-------+\n",
            "|manager|\n",
            "+-------+\n",
            "|   Mark|\n",
            "|   John|\n",
            "|  David|\n",
            "|William|\n",
            "+-------+\n",
            "\n"
          ],
          "name": "stdout"
        }
      ]
    },
    {
      "cell_type": "code",
      "metadata": {
        "colab": {
          "base_uri": "https://localhost:8080/"
        },
        "id": "o43UssY8gSZ9",
        "outputId": "4dc9d3c7-77fe-4bd0-f0c1-774fa2ef4d7e"
      },
      "source": [
        "# Selection\r\n",
        "df.select(_).where(col(\"manager\")==\"Mark\").show(5)"
      ],
      "execution_count": null,
      "outputs": [
        {
          "output_type": "stream",
          "text": [
            "+----------+------+-------+-------+------+\n",
            "|      date|region|manager|product|amount|\n",
            "+----------+------+-------+-------+------+\n",
            "|2020-01-01| north|   Mark|  metal|  3899|\n",
            "|2020-01-05| north|   Mark|  metal|  9855|\n",
            "|2020-01-09| north|   Mark|  metal|  8721|\n",
            "|2020-01-13| north|   Mark|  metal|  3283|\n",
            "|2020-01-17| north|   Mark|  metal|  6467|\n",
            "+----------+------+-------+-------+------+\n",
            "only showing top 5 rows\n",
            "\n"
          ],
          "name": "stdout"
        }
      ]
    },
    {
      "cell_type": "code",
      "metadata": {
        "colab": {
          "base_uri": "https://localhost:8080/"
        },
        "id": "-79gNxPvhXFM",
        "outputId": "744ffd5e-bf11-415e-913c-1123620b2036"
      },
      "source": [
        "# Count of records by manager\r\n",
        "df.select(\"manager\").where(col(\"manager\").isNotNull()).groupBy(\"manager\").count().orderBy(\"count\",ascending=False).show()"
      ],
      "execution_count": null,
      "outputs": [
        {
          "output_type": "stream",
          "text": [
            "+-------+-----+\n",
            "|manager|count|\n",
            "+-------+-----+\n",
            "|   Mark|   15|\n",
            "|   John|   15|\n",
            "|  David|   15|\n",
            "|William|   15|\n",
            "+-------+-----+\n",
            "\n"
          ],
          "name": "stdout"
        }
      ]
    }
  ]
}
