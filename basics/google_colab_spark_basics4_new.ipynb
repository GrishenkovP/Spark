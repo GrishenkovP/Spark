{
  "nbformat": 4,
  "nbformat_minor": 0,
  "metadata": {
    "colab": {
      "name": "google_colab_install_and_basics _new.ipynb",
      "provenance": [],
      "collapsed_sections": []
    },
    "kernelspec": {
      "name": "python3",
      "display_name": "Python 3"
    },
    "language_info": {
      "name": "python"
    }
  },
  "cells": [
    {
      "cell_type": "code",
      "metadata": {
        "id": "dd5CPmwirTx5"
      },
      "source": [
        "%%capture\n",
        "!pip install pyspark"
      ],
      "execution_count": 1,
      "outputs": []
    },
    {
      "cell_type": "code",
      "metadata": {
        "id": "CCB_hmy1sEhc"
      },
      "source": [
        "from pyspark.sql import SparkSession\n",
        "from pyspark.sql.types import StructType,StructField, StringType, IntegerType,ArrayType\n",
        "from pyspark.sql.functions import col,lit,array_contains\n",
        "from pyspark.sql.functions import sum,avg,max,min,mean,count\n",
        "from pyspark.sql.functions import udf"
      ],
      "execution_count": 2,
      "outputs": []
    },
    {
      "cell_type": "code",
      "metadata": {
        "id": "gi9SdEHRrgAd"
      },
      "source": [
        "spark = SparkSession.builder.master('local[*]').appName(\"SparkTest\").getOrCreate()"
      ],
      "execution_count": 3,
      "outputs": []
    },
    {
      "cell_type": "markdown",
      "metadata": {
        "id": "qszmBpfJyFse"
      },
      "source": [
        "### Create DataFrame"
      ]
    },
    {
      "cell_type": "code",
      "metadata": {
        "colab": {
          "base_uri": "https://localhost:8080/"
        },
        "id": "dnsCuqG8wUKS",
        "outputId": "65bbc836-0161-460b-f64d-ad170f837769"
      },
      "source": [
        "data = [(\"James\",\"\",\"Smith\",\"36636\",\"M\",3000),\n",
        "    (\"Michael\",\"Rose\",\"\",\"40288\",\"M\",4000),\n",
        "    (\"Robert\",\"\",\"Williams\",\"42114\",\"M\",4000),\n",
        "    (\"Maria\",\"Anne\",\"Jones\",\"39192\",\"F\",4000),\n",
        "    (\"Jen\",\"Mary\",\"Brown\",\"\",\"F\",-1)\n",
        "  ]\n",
        "\n",
        "schema = StructType([ \\\n",
        "    StructField(\"firstname\",StringType(),True), \\\n",
        "    StructField(\"middlename\",StringType(),True), \\\n",
        "    StructField(\"lastname\",StringType(),True), \\\n",
        "    StructField(\"id\", StringType(), True), \\\n",
        "    StructField(\"gender\", StringType(), True), \\\n",
        "    StructField(\"salary\", IntegerType(), True) \\\n",
        "  ])\n",
        " \n",
        "df = spark.createDataFrame(data=data,schema=schema)\n",
        "df.printSchema()\n",
        "df.show(truncate=False)"
      ],
      "execution_count": 4,
      "outputs": [
        {
          "output_type": "stream",
          "name": "stdout",
          "text": [
            "root\n",
            " |-- firstname: string (nullable = true)\n",
            " |-- middlename: string (nullable = true)\n",
            " |-- lastname: string (nullable = true)\n",
            " |-- id: string (nullable = true)\n",
            " |-- gender: string (nullable = true)\n",
            " |-- salary: integer (nullable = true)\n",
            "\n",
            "+---------+----------+--------+-----+------+------+\n",
            "|firstname|middlename|lastname|id   |gender|salary|\n",
            "+---------+----------+--------+-----+------+------+\n",
            "|James    |          |Smith   |36636|M     |3000  |\n",
            "|Michael  |Rose      |        |40288|M     |4000  |\n",
            "|Robert   |          |Williams|42114|M     |4000  |\n",
            "|Maria    |Anne      |Jones   |39192|F     |4000  |\n",
            "|Jen      |Mary      |Brown   |     |F     |-1    |\n",
            "+---------+----------+--------+-----+------+------+\n",
            "\n"
          ]
        }
      ]
    },
    {
      "cell_type": "code",
      "metadata": {
        "colab": {
          "base_uri": "https://localhost:8080/"
        },
        "id": "bUv9owPswkZU",
        "outputId": "33d79602-53b3-4927-a7eb-62962f4e4425"
      },
      "source": [
        "pandasDF = df.toPandas()\n",
        "print(pandasDF)"
      ],
      "execution_count": 5,
      "outputs": [
        {
          "output_type": "stream",
          "name": "stdout",
          "text": [
            "  firstname middlename  lastname     id gender  salary\n",
            "0     James                Smith  36636      M    3000\n",
            "1   Michael       Rose            40288      M    4000\n",
            "2    Robert             Williams  42114      M    4000\n",
            "3     Maria       Anne     Jones  39192      F    4000\n",
            "4       Jen       Mary     Brown             F      -1\n"
          ]
        }
      ]
    },
    {
      "cell_type": "markdown",
      "metadata": {
        "id": "huEFpY9DyNg8"
      },
      "source": [
        "### Select columns from PySpark"
      ]
    },
    {
      "cell_type": "code",
      "metadata": {
        "colab": {
          "base_uri": "https://localhost:8080/"
        },
        "id": "BgPyUYUMx33F",
        "outputId": "ccda1a31-c45c-4c92-f875-a4187d3b2a46"
      },
      "source": [
        "df.select(col(\"firstname\"),col(\"lastname\")).show()"
      ],
      "execution_count": 6,
      "outputs": [
        {
          "output_type": "stream",
          "name": "stdout",
          "text": [
            "+---------+--------+\n",
            "|firstname|lastname|\n",
            "+---------+--------+\n",
            "|    James|   Smith|\n",
            "|  Michael|        |\n",
            "|   Robert|Williams|\n",
            "|    Maria|   Jones|\n",
            "|      Jen|   Brown|\n",
            "+---------+--------+\n",
            "\n"
          ]
        }
      ]
    },
    {
      "cell_type": "code",
      "metadata": {
        "colab": {
          "base_uri": "https://localhost:8080/"
        },
        "id": "6xyiZg0WybhS",
        "outputId": "0db26c0d-c0ec-4e71-ef82-72ec46e29347"
      },
      "source": [
        "df.select(df.colRegex(\"`^.*name*`\")).show()"
      ],
      "execution_count": 7,
      "outputs": [
        {
          "output_type": "stream",
          "name": "stdout",
          "text": [
            "+---------+----------+--------+\n",
            "|firstname|middlename|lastname|\n",
            "+---------+----------+--------+\n",
            "|    James|          |   Smith|\n",
            "|  Michael|      Rose|        |\n",
            "|   Robert|          |Williams|\n",
            "|    Maria|      Anne|   Jones|\n",
            "|      Jen|      Mary|   Brown|\n",
            "+---------+----------+--------+\n",
            "\n"
          ]
        }
      ]
    },
    {
      "cell_type": "markdown",
      "metadata": {
        "id": "wz1Oo1DHzCL4"
      },
      "source": [
        "### Create new column"
      ]
    },
    {
      "cell_type": "code",
      "metadata": {
        "colab": {
          "base_uri": "https://localhost:8080/"
        },
        "id": "etscbLCCzFWt",
        "outputId": "3ed43de9-5373-410f-ba34-21c67bc74cd6"
      },
      "source": [
        "df = df.withColumn(\"percent\",col(\"salary\")/100*10)\n",
        "df.show()"
      ],
      "execution_count": 8,
      "outputs": [
        {
          "output_type": "stream",
          "name": "stdout",
          "text": [
            "+---------+----------+--------+-----+------+------+-------+\n",
            "|firstname|middlename|lastname|   id|gender|salary|percent|\n",
            "+---------+----------+--------+-----+------+------+-------+\n",
            "|    James|          |   Smith|36636|     M|  3000|  300.0|\n",
            "|  Michael|      Rose|        |40288|     M|  4000|  400.0|\n",
            "|   Robert|          |Williams|42114|     M|  4000|  400.0|\n",
            "|    Maria|      Anne|   Jones|39192|     F|  4000|  400.0|\n",
            "|      Jen|      Mary|   Brown|     |     F|    -1|   -0.1|\n",
            "+---------+----------+--------+-----+------+------+-------+\n",
            "\n"
          ]
        }
      ]
    },
    {
      "cell_type": "markdown",
      "metadata": {
        "id": "7_0pB3JizpCr"
      },
      "source": [
        "### Add new column"
      ]
    },
    {
      "cell_type": "code",
      "metadata": {
        "colab": {
          "base_uri": "https://localhost:8080/"
        },
        "id": "BV4PWJTLzorb",
        "outputId": "1e2dbd74-8754-4830-e327-befc7ac9c52d"
      },
      "source": [
        "df = df.withColumn(\"Country\", lit(\"USA\"))\n",
        "df.show()"
      ],
      "execution_count": 9,
      "outputs": [
        {
          "output_type": "stream",
          "name": "stdout",
          "text": [
            "+---------+----------+--------+-----+------+------+-------+-------+\n",
            "|firstname|middlename|lastname|   id|gender|salary|percent|Country|\n",
            "+---------+----------+--------+-----+------+------+-------+-------+\n",
            "|    James|          |   Smith|36636|     M|  3000|  300.0|    USA|\n",
            "|  Michael|      Rose|        |40288|     M|  4000|  400.0|    USA|\n",
            "|   Robert|          |Williams|42114|     M|  4000|  400.0|    USA|\n",
            "|    Maria|      Anne|   Jones|39192|     F|  4000|  400.0|    USA|\n",
            "|      Jen|      Mary|   Brown|     |     F|    -1|   -0.1|    USA|\n",
            "+---------+----------+--------+-----+------+------+-------+-------+\n",
            "\n"
          ]
        }
      ]
    },
    {
      "cell_type": "markdown",
      "metadata": {
        "id": "4fijXNdq3ww1"
      },
      "source": [
        "### Rename column name"
      ]
    },
    {
      "cell_type": "code",
      "metadata": {
        "colab": {
          "base_uri": "https://localhost:8080/"
        },
        "id": "mR2KyCVJ3zsF",
        "outputId": "3d332fad-8951-4520-fde7-f4b15c3fb26a"
      },
      "source": [
        "df = df.withColumnRenamed(\"Country\",\"country\")\n",
        "df.show(truncate=False) "
      ],
      "execution_count": 10,
      "outputs": [
        {
          "output_type": "stream",
          "name": "stdout",
          "text": [
            "+---------+----------+--------+-----+------+------+-------+-------+\n",
            "|firstname|middlename|lastname|id   |gender|salary|percent|country|\n",
            "+---------+----------+--------+-----+------+------+-------+-------+\n",
            "|James    |          |Smith   |36636|M     |3000  |300.0  |USA    |\n",
            "|Michael  |Rose      |        |40288|M     |4000  |400.0  |USA    |\n",
            "|Robert   |          |Williams|42114|M     |4000  |400.0  |USA    |\n",
            "|Maria    |Anne      |Jones   |39192|F     |4000  |400.0  |USA    |\n",
            "|Jen      |Mary      |Brown   |     |F     |-1    |-0.1   |USA    |\n",
            "+---------+----------+--------+-----+------+------+-------+-------+\n",
            "\n"
          ]
        }
      ]
    },
    {
      "cell_type": "markdown",
      "metadata": {
        "id": "HoM9Ar1b4DIu"
      },
      "source": [
        "### Drop column from dataframe"
      ]
    },
    {
      "cell_type": "code",
      "metadata": {
        "colab": {
          "base_uri": "https://localhost:8080/"
        },
        "id": "vO2l0DnO4J-F",
        "outputId": "dedcb1e0-a5a6-412e-f7d0-4dcb729afb22"
      },
      "source": [
        "df = df.drop(\"country\")\n",
        "df.show()"
      ],
      "execution_count": 11,
      "outputs": [
        {
          "output_type": "stream",
          "name": "stdout",
          "text": [
            "+---------+----------+--------+-----+------+------+-------+\n",
            "|firstname|middlename|lastname|   id|gender|salary|percent|\n",
            "+---------+----------+--------+-----+------+------+-------+\n",
            "|    James|          |   Smith|36636|     M|  3000|  300.0|\n",
            "|  Michael|      Rose|        |40288|     M|  4000|  400.0|\n",
            "|   Robert|          |Williams|42114|     M|  4000|  400.0|\n",
            "|    Maria|      Anne|   Jones|39192|     F|  4000|  400.0|\n",
            "|      Jen|      Mary|   Brown|     |     F|    -1|   -0.1|\n",
            "+---------+----------+--------+-----+------+------+-------+\n",
            "\n"
          ]
        }
      ]
    },
    {
      "cell_type": "markdown",
      "metadata": {
        "id": "zjoHSll147Fu"
      },
      "source": [
        "### Dataframe filter"
      ]
    },
    {
      "cell_type": "code",
      "metadata": {
        "colab": {
          "base_uri": "https://localhost:8080/"
        },
        "id": "6zwlXn7q4-C9",
        "outputId": "ff231121-1ae2-489c-bd42-0b56c794ba80"
      },
      "source": [
        "data2 = [\n",
        "    ((\"James\",\"\",\"Smith\"),[\"Java\",\"Scala\",\"C++\"],\"OH\",\"M\"),\n",
        "    ((\"Anna\",\"Rose\",\"\"),[\"Spark\",\"Java\",\"C++\"],\"NY\",\"F\"),\n",
        "    ((\"Julia\",\"\",\"Williams\"),[\"CSharp\",\"VB\"],\"OH\",\"F\"),\n",
        "    ((\"Maria\",\"Anne\",\"Jones\"),[\"CSharp\",\"VB\"],\"NY\",\"M\"),\n",
        "    ((\"Jen\",\"Mary\",\"Brown\"),[\"CSharp\",\"VB\"],\"NY\",\"M\"),\n",
        "    ((\"Mike\",\"Mary\",\"Williams\"),[\"Python\",\"VB\"],\"OH\",\"M\")\n",
        " ]\n",
        "        \n",
        "schema2 = StructType([\n",
        "     StructField('name', StructType([\n",
        "        StructField('firstname', StringType(), True),\n",
        "        StructField('middlename', StringType(), True),\n",
        "         StructField('lastname', StringType(), True)\n",
        "     ])),\n",
        "     StructField('languages', ArrayType(StringType()), True),\n",
        "     StructField('state', StringType(), True),\n",
        "     StructField('gender', StringType(), True)\n",
        " ])\n",
        "\n",
        "df2 = spark.createDataFrame(data = data2, schema = schema2)\n",
        "df2.printSchema()\n",
        "df2.show(truncate=False)"
      ],
      "execution_count": 12,
      "outputs": [
        {
          "output_type": "stream",
          "name": "stdout",
          "text": [
            "root\n",
            " |-- name: struct (nullable = true)\n",
            " |    |-- firstname: string (nullable = true)\n",
            " |    |-- middlename: string (nullable = true)\n",
            " |    |-- lastname: string (nullable = true)\n",
            " |-- languages: array (nullable = true)\n",
            " |    |-- element: string (containsNull = true)\n",
            " |-- state: string (nullable = true)\n",
            " |-- gender: string (nullable = true)\n",
            "\n",
            "+----------------------+------------------+-----+------+\n",
            "|name                  |languages         |state|gender|\n",
            "+----------------------+------------------+-----+------+\n",
            "|{James, , Smith}      |[Java, Scala, C++]|OH   |M     |\n",
            "|{Anna, Rose, }        |[Spark, Java, C++]|NY   |F     |\n",
            "|{Julia, , Williams}   |[CSharp, VB]      |OH   |F     |\n",
            "|{Maria, Anne, Jones}  |[CSharp, VB]      |NY   |M     |\n",
            "|{Jen, Mary, Brown}    |[CSharp, VB]      |NY   |M     |\n",
            "|{Mike, Mary, Williams}|[Python, VB]      |OH   |M     |\n",
            "+----------------------+------------------+-----+------+\n",
            "\n"
          ]
        }
      ]
    },
    {
      "cell_type": "code",
      "metadata": {
        "colab": {
          "base_uri": "https://localhost:8080/"
        },
        "id": "PI8DRAMS5X-O",
        "outputId": "a393c1b5-13da-42f2-cc97-4533d364c5ed"
      },
      "source": [
        "df2.filter(df2.state == \"OH\").show(truncate=False)"
      ],
      "execution_count": 13,
      "outputs": [
        {
          "output_type": "stream",
          "name": "stdout",
          "text": [
            "+----------------------+------------------+-----+------+\n",
            "|name                  |languages         |state|gender|\n",
            "+----------------------+------------------+-----+------+\n",
            "|{James, , Smith}      |[Java, Scala, C++]|OH   |M     |\n",
            "|{Julia, , Williams}   |[CSharp, VB]      |OH   |F     |\n",
            "|{Mike, Mary, Williams}|[Python, VB]      |OH   |M     |\n",
            "+----------------------+------------------+-----+------+\n",
            "\n"
          ]
        }
      ]
    },
    {
      "cell_type": "code",
      "metadata": {
        "colab": {
          "base_uri": "https://localhost:8080/"
        },
        "id": "F_e91_vh5lAt",
        "outputId": "71e05ac7-0377-410c-8b96-4b5dee03bfb9"
      },
      "source": [
        "df2.filter(\"gender == 'M'\").show()"
      ],
      "execution_count": 14,
      "outputs": [
        {
          "output_type": "stream",
          "name": "stdout",
          "text": [
            "+--------------------+------------------+-----+------+\n",
            "|                name|         languages|state|gender|\n",
            "+--------------------+------------------+-----+------+\n",
            "|    {James, , Smith}|[Java, Scala, C++]|   OH|     M|\n",
            "|{Maria, Anne, Jones}|      [CSharp, VB]|   NY|     M|\n",
            "|  {Jen, Mary, Brown}|      [CSharp, VB]|   NY|     M|\n",
            "|{Mike, Mary, Will...|      [Python, VB]|   OH|     M|\n",
            "+--------------------+------------------+-----+------+\n",
            "\n"
          ]
        }
      ]
    },
    {
      "cell_type": "code",
      "metadata": {
        "colab": {
          "base_uri": "https://localhost:8080/"
        },
        "id": "mOTFzSqN55pH",
        "outputId": "eade197d-55bd-4c8d-d174-c74935aad70e"
      },
      "source": [
        "li=[\"OH\",\"CA\",\"DE\"]\n",
        "df2.filter(df2.state.isin(li)).show()"
      ],
      "execution_count": 15,
      "outputs": [
        {
          "output_type": "stream",
          "name": "stdout",
          "text": [
            "+--------------------+------------------+-----+------+\n",
            "|                name|         languages|state|gender|\n",
            "+--------------------+------------------+-----+------+\n",
            "|    {James, , Smith}|[Java, Scala, C++]|   OH|     M|\n",
            "| {Julia, , Williams}|      [CSharp, VB]|   OH|     F|\n",
            "|{Mike, Mary, Will...|      [Python, VB]|   OH|     M|\n",
            "+--------------------+------------------+-----+------+\n",
            "\n"
          ]
        }
      ]
    },
    {
      "cell_type": "code",
      "metadata": {
        "colab": {
          "base_uri": "https://localhost:8080/"
        },
        "id": "9TC4MGTn6M59",
        "outputId": "15fc83a9-c620-455e-c3cb-f5cbe73d3b0e"
      },
      "source": [
        "df2.filter(array_contains(df2.languages,\"Java\")).show(truncate=False)"
      ],
      "execution_count": 16,
      "outputs": [
        {
          "output_type": "stream",
          "name": "stdout",
          "text": [
            "+----------------+------------------+-----+------+\n",
            "|name            |languages         |state|gender|\n",
            "+----------------+------------------+-----+------+\n",
            "|{James, , Smith}|[Java, Scala, C++]|OH   |M     |\n",
            "|{Anna, Rose, }  |[Spark, Java, C++]|NY   |F     |\n",
            "+----------------+------------------+-----+------+\n",
            "\n"
          ]
        }
      ]
    },
    {
      "cell_type": "markdown",
      "metadata": {
        "id": "xUr99n7k63Bg"
      },
      "source": [
        "### Distinct / Drop Duplicate Rows"
      ]
    },
    {
      "cell_type": "code",
      "metadata": {
        "colab": {
          "base_uri": "https://localhost:8080/"
        },
        "id": "3WkxD8kI6-s8",
        "outputId": "692068cc-f798-4876-d328-15fd0ae0cb47"
      },
      "source": [
        "data3 = [(\"James\", \"Sales\", 3000), \\\n",
        "    (\"Michael\", \"Sales\", 4600), \\\n",
        "    (\"Robert\", \"Sales\", 4100), \\\n",
        "    (\"Maria\", \"Finance\", 3000), \\\n",
        "    (\"James\", \"Sales\", 3000), \\\n",
        "    (\"Scott\", \"Finance\", 3300), \\\n",
        "    (\"Jen\", \"Finance\", 3900), \\\n",
        "    (\"Jeff\", \"Marketing\", 3000), \\\n",
        "    (\"Kumar\", \"Marketing\", 2000), \\\n",
        "    (\"Saif\", \"Sales\", 4100) \\\n",
        "  ]\n",
        "columns3= [\"employee_name\", \"department\", \"salary\"]\n",
        "df3 = spark.createDataFrame(data = data3, schema = columns3)\n",
        "df3.printSchema()\n",
        "df3.show(truncate=False)"
      ],
      "execution_count": 17,
      "outputs": [
        {
          "output_type": "stream",
          "name": "stdout",
          "text": [
            "root\n",
            " |-- employee_name: string (nullable = true)\n",
            " |-- department: string (nullable = true)\n",
            " |-- salary: long (nullable = true)\n",
            "\n",
            "+-------------+----------+------+\n",
            "|employee_name|department|salary|\n",
            "+-------------+----------+------+\n",
            "|James        |Sales     |3000  |\n",
            "|Michael      |Sales     |4600  |\n",
            "|Robert       |Sales     |4100  |\n",
            "|Maria        |Finance   |3000  |\n",
            "|James        |Sales     |3000  |\n",
            "|Scott        |Finance   |3300  |\n",
            "|Jen          |Finance   |3900  |\n",
            "|Jeff         |Marketing |3000  |\n",
            "|Kumar        |Marketing |2000  |\n",
            "|Saif         |Sales     |4100  |\n",
            "+-------------+----------+------+\n",
            "\n"
          ]
        }
      ]
    },
    {
      "cell_type": "code",
      "metadata": {
        "colab": {
          "base_uri": "https://localhost:8080/"
        },
        "id": "nrgNpGN_7HT2",
        "outputId": "2a7df076-06fa-42cc-bcbb-f56c5c1a7554"
      },
      "source": [
        "distinctDF = df3.distinct()\n",
        "print(\"Distinct count: \"+str(distinctDF.count()))\n",
        "distinctDF.show(truncate=False)"
      ],
      "execution_count": 18,
      "outputs": [
        {
          "output_type": "stream",
          "name": "stdout",
          "text": [
            "Distinct count: 9\n",
            "+-------------+----------+------+\n",
            "|employee_name|department|salary|\n",
            "+-------------+----------+------+\n",
            "|Michael      |Sales     |4600  |\n",
            "|James        |Sales     |3000  |\n",
            "|Robert       |Sales     |4100  |\n",
            "|Maria        |Finance   |3000  |\n",
            "|Jen          |Finance   |3900  |\n",
            "|Scott        |Finance   |3300  |\n",
            "|Kumar        |Marketing |2000  |\n",
            "|Jeff         |Marketing |3000  |\n",
            "|Saif         |Sales     |4100  |\n",
            "+-------------+----------+------+\n",
            "\n"
          ]
        }
      ]
    },
    {
      "cell_type": "code",
      "metadata": {
        "colab": {
          "base_uri": "https://localhost:8080/"
        },
        "id": "kFYD7ywb7Q49",
        "outputId": "9b55bed0-be0f-4795-c3ae-a8ac4607ecf9"
      },
      "source": [
        "distinctDF_ = df3.dropDuplicates()\n",
        "print(\"Distinct count: \"+str(distinctDF_.count()))\n",
        "distinctDF_.show(truncate=False)"
      ],
      "execution_count": 19,
      "outputs": [
        {
          "output_type": "stream",
          "name": "stdout",
          "text": [
            "Distinct count: 9\n",
            "+-------------+----------+------+\n",
            "|employee_name|department|salary|\n",
            "+-------------+----------+------+\n",
            "|Michael      |Sales     |4600  |\n",
            "|James        |Sales     |3000  |\n",
            "|Robert       |Sales     |4100  |\n",
            "|Maria        |Finance   |3000  |\n",
            "|Jen          |Finance   |3900  |\n",
            "|Scott        |Finance   |3300  |\n",
            "|Kumar        |Marketing |2000  |\n",
            "|Jeff         |Marketing |3000  |\n",
            "|Saif         |Sales     |4100  |\n",
            "+-------------+----------+------+\n",
            "\n"
          ]
        }
      ]
    },
    {
      "cell_type": "markdown",
      "metadata": {
        "id": "2TXtlpIl75n9"
      },
      "source": [
        "### Dataframe orderBy and sort"
      ]
    },
    {
      "cell_type": "code",
      "metadata": {
        "colab": {
          "base_uri": "https://localhost:8080/"
        },
        "id": "4WKVXAAR7-Cu",
        "outputId": "2c1e958d-15f7-40cd-c754-306a6c98c402"
      },
      "source": [
        "data4 = [(\"James\",\"Sales\",\"NY\",90000,34,10000), \\\n",
        "    (\"Michael\",\"Sales\",\"NY\",86000,56,20000), \\\n",
        "    (\"Robert\",\"Sales\",\"CA\",81000,30,23000), \\\n",
        "    (\"Maria\",\"Finance\",\"CA\",90000,24,23000), \\\n",
        "    (\"Raman\",\"Finance\",\"CA\",99000,40,24000), \\\n",
        "    (\"Scott\",\"Finance\",\"NY\",83000,36,19000), \\\n",
        "    (\"Jen\",\"Finance\",\"NY\",79000,53,15000), \\\n",
        "    (\"Jeff\",\"Marketing\",\"CA\",80000,25,18000), \\\n",
        "    (\"Kumar\",\"Marketing\",\"NY\",91000,50,21000) \\\n",
        "  ]\n",
        "columns4= [\"employee_name\",\"department\",\"state\",\"salary\",\"age\",\"bonus\"]\n",
        "df4 = spark.createDataFrame(data = data4, schema = columns4)\n",
        "df4.printSchema()\n",
        "df4.show(truncate=False)"
      ],
      "execution_count": 20,
      "outputs": [
        {
          "output_type": "stream",
          "name": "stdout",
          "text": [
            "root\n",
            " |-- employee_name: string (nullable = true)\n",
            " |-- department: string (nullable = true)\n",
            " |-- state: string (nullable = true)\n",
            " |-- salary: long (nullable = true)\n",
            " |-- age: long (nullable = true)\n",
            " |-- bonus: long (nullable = true)\n",
            "\n",
            "+-------------+----------+-----+------+---+-----+\n",
            "|employee_name|department|state|salary|age|bonus|\n",
            "+-------------+----------+-----+------+---+-----+\n",
            "|James        |Sales     |NY   |90000 |34 |10000|\n",
            "|Michael      |Sales     |NY   |86000 |56 |20000|\n",
            "|Robert       |Sales     |CA   |81000 |30 |23000|\n",
            "|Maria        |Finance   |CA   |90000 |24 |23000|\n",
            "|Raman        |Finance   |CA   |99000 |40 |24000|\n",
            "|Scott        |Finance   |NY   |83000 |36 |19000|\n",
            "|Jen          |Finance   |NY   |79000 |53 |15000|\n",
            "|Jeff         |Marketing |CA   |80000 |25 |18000|\n",
            "|Kumar        |Marketing |NY   |91000 |50 |21000|\n",
            "+-------------+----------+-----+------+---+-----+\n",
            "\n"
          ]
        }
      ]
    },
    {
      "cell_type": "code",
      "metadata": {
        "colab": {
          "base_uri": "https://localhost:8080/"
        },
        "id": "MtCSN81I8Gzf",
        "outputId": "8428e55a-a6b2-4a8f-a7ae-3fc35c198988"
      },
      "source": [
        "df4.sort(col(\"department\").asc(),col(\"state\").desc()).show(truncate=False)"
      ],
      "execution_count": 21,
      "outputs": [
        {
          "output_type": "stream",
          "name": "stdout",
          "text": [
            "+-------------+----------+-----+------+---+-----+\n",
            "|employee_name|department|state|salary|age|bonus|\n",
            "+-------------+----------+-----+------+---+-----+\n",
            "|Scott        |Finance   |NY   |83000 |36 |19000|\n",
            "|Jen          |Finance   |NY   |79000 |53 |15000|\n",
            "|Raman        |Finance   |CA   |99000 |40 |24000|\n",
            "|Maria        |Finance   |CA   |90000 |24 |23000|\n",
            "|Kumar        |Marketing |NY   |91000 |50 |21000|\n",
            "|Jeff         |Marketing |CA   |80000 |25 |18000|\n",
            "|Michael      |Sales     |NY   |86000 |56 |20000|\n",
            "|James        |Sales     |NY   |90000 |34 |10000|\n",
            "|Robert       |Sales     |CA   |81000 |30 |23000|\n",
            "+-------------+----------+-----+------+---+-----+\n",
            "\n"
          ]
        }
      ]
    },
    {
      "cell_type": "code",
      "metadata": {
        "colab": {
          "base_uri": "https://localhost:8080/"
        },
        "id": "RDDteHyI8Y5k",
        "outputId": "6de15f3d-6f2c-457e-c528-eb52ef6de376"
      },
      "source": [
        "df4.orderBy(col(\"department\").asc(),col(\"state\").asc()).show(truncate=False)"
      ],
      "execution_count": 22,
      "outputs": [
        {
          "output_type": "stream",
          "name": "stdout",
          "text": [
            "+-------------+----------+-----+------+---+-----+\n",
            "|employee_name|department|state|salary|age|bonus|\n",
            "+-------------+----------+-----+------+---+-----+\n",
            "|Raman        |Finance   |CA   |99000 |40 |24000|\n",
            "|Maria        |Finance   |CA   |90000 |24 |23000|\n",
            "|Scott        |Finance   |NY   |83000 |36 |19000|\n",
            "|Jen          |Finance   |NY   |79000 |53 |15000|\n",
            "|Jeff         |Marketing |CA   |80000 |25 |18000|\n",
            "|Kumar        |Marketing |NY   |91000 |50 |21000|\n",
            "|Robert       |Sales     |CA   |81000 |30 |23000|\n",
            "|James        |Sales     |NY   |90000 |34 |10000|\n",
            "|Michael      |Sales     |NY   |86000 |56 |20000|\n",
            "+-------------+----------+-----+------+---+-----+\n",
            "\n"
          ]
        }
      ]
    },
    {
      "cell_type": "markdown",
      "metadata": {
        "id": "wz_7ArE981fu"
      },
      "source": [
        "### Dataframe groupby "
      ]
    },
    {
      "cell_type": "code",
      "metadata": {
        "colab": {
          "base_uri": "https://localhost:8080/"
        },
        "id": "nswKvAFy9ALG",
        "outputId": "43aca543-a92d-47bb-8f2a-fed650a6675a"
      },
      "source": [
        "data5 = [(\"James\",\"Sales\",\"NY\",90000,34,10000),\n",
        "    (\"Michael\",\"Sales\",\"NY\",86000,56,20000),\n",
        "    (\"Robert\",\"Sales\",\"CA\",81000,30,23000),\n",
        "    (\"Maria\",\"Finance\",\"CA\",90000,24,23000),\n",
        "    (\"Raman\",\"Finance\",\"CA\",99000,40,24000),\n",
        "    (\"Scott\",\"Finance\",\"NY\",83000,36,19000),\n",
        "    (\"Jen\",\"Finance\",\"NY\",79000,53,15000),\n",
        "    (\"Jeff\",\"Marketing\",\"CA\",80000,25,18000),\n",
        "    (\"Kumar\",\"Marketing\",\"NY\",91000,50,21000)\n",
        "  ]\n",
        "\n",
        "columns5 = [\"employee_name\",\"department\",\"state\",\"salary\",\"age\",\"bonus\"]\n",
        "df5 = spark.createDataFrame(data=data5, schema = columns5)\n",
        "df5.printSchema()\n",
        "df5.show(truncate=False)"
      ],
      "execution_count": 23,
      "outputs": [
        {
          "output_type": "stream",
          "name": "stdout",
          "text": [
            "root\n",
            " |-- employee_name: string (nullable = true)\n",
            " |-- department: string (nullable = true)\n",
            " |-- state: string (nullable = true)\n",
            " |-- salary: long (nullable = true)\n",
            " |-- age: long (nullable = true)\n",
            " |-- bonus: long (nullable = true)\n",
            "\n",
            "+-------------+----------+-----+------+---+-----+\n",
            "|employee_name|department|state|salary|age|bonus|\n",
            "+-------------+----------+-----+------+---+-----+\n",
            "|James        |Sales     |NY   |90000 |34 |10000|\n",
            "|Michael      |Sales     |NY   |86000 |56 |20000|\n",
            "|Robert       |Sales     |CA   |81000 |30 |23000|\n",
            "|Maria        |Finance   |CA   |90000 |24 |23000|\n",
            "|Raman        |Finance   |CA   |99000 |40 |24000|\n",
            "|Scott        |Finance   |NY   |83000 |36 |19000|\n",
            "|Jen          |Finance   |NY   |79000 |53 |15000|\n",
            "|Jeff         |Marketing |CA   |80000 |25 |18000|\n",
            "|Kumar        |Marketing |NY   |91000 |50 |21000|\n",
            "+-------------+----------+-----+------+---+-----+\n",
            "\n"
          ]
        }
      ]
    },
    {
      "cell_type": "code",
      "metadata": {
        "colab": {
          "base_uri": "https://localhost:8080/"
        },
        "id": "aZOo6MoR9JVe",
        "outputId": "5675c7e5-2a96-4f50-ca39-68481012f383"
      },
      "source": [
        "#count(), mean(), max(), min(), sum(), avg()\n",
        "df5.groupBy(\"department\").sum(\"salary\").show(truncate=False)"
      ],
      "execution_count": 24,
      "outputs": [
        {
          "output_type": "stream",
          "name": "stdout",
          "text": [
            "+----------+-----------+\n",
            "|department|sum(salary)|\n",
            "+----------+-----------+\n",
            "|Sales     |257000     |\n",
            "|Finance   |351000     |\n",
            "|Marketing |171000     |\n",
            "+----------+-----------+\n",
            "\n"
          ]
        }
      ]
    },
    {
      "cell_type": "code",
      "metadata": {
        "colab": {
          "base_uri": "https://localhost:8080/"
        },
        "id": "5v_2fg4J9li3",
        "outputId": "2c532fb3-6891-49de-def2-fc0de031dde8"
      },
      "source": [
        "df5.groupBy(\"department\",\"state\").sum(\"salary\",\"bonus\").show(truncate=False)"
      ],
      "execution_count": 25,
      "outputs": [
        {
          "output_type": "stream",
          "name": "stdout",
          "text": [
            "+----------+-----+-----------+----------+\n",
            "|department|state|sum(salary)|sum(bonus)|\n",
            "+----------+-----+-----------+----------+\n",
            "|Sales     |CA   |81000      |23000     |\n",
            "|Finance   |CA   |189000     |47000     |\n",
            "|Sales     |NY   |176000     |30000     |\n",
            "|Finance   |NY   |162000     |34000     |\n",
            "|Marketing |NY   |91000      |21000     |\n",
            "|Marketing |CA   |80000      |18000     |\n",
            "+----------+-----+-----------+----------+\n",
            "\n"
          ]
        }
      ]
    },
    {
      "cell_type": "code",
      "metadata": {
        "colab": {
          "base_uri": "https://localhost:8080/"
        },
        "id": "zdqgKu5u93dV",
        "outputId": "d0a00e6c-f7f6-4d02-a44a-1356edbd4e4f"
      },
      "source": [
        "df5.groupBy(\"department\"). \\\n",
        "                          agg(sum(\"salary\").alias(\"sum_salary\"), \\\n",
        "                              avg(\"salary\").alias(\"avg_salary\"), \\\n",
        "                              sum(\"bonus\").alias(\"sum_bonus\"), \\\n",
        "                              max(\"bonus\").alias(\"max_bonus\")). \\\n",
        "                          show(truncate=False)"
      ],
      "execution_count": 26,
      "outputs": [
        {
          "output_type": "stream",
          "name": "stdout",
          "text": [
            "+----------+----------+-----------------+---------+---------+\n",
            "|department|sum_salary|avg_salary       |sum_bonus|max_bonus|\n",
            "+----------+----------+-----------------+---------+---------+\n",
            "|Sales     |257000    |85666.66666666667|53000    |23000    |\n",
            "|Finance   |351000    |87750.0          |81000    |24000    |\n",
            "|Marketing |171000    |85500.0          |39000    |21000    |\n",
            "+----------+----------+-----------------+---------+---------+\n",
            "\n"
          ]
        }
      ]
    },
    {
      "cell_type": "markdown",
      "metadata": {
        "id": "NoGQoVjV_STl"
      },
      "source": [
        "### PySpark Join types"
      ]
    },
    {
      "cell_type": "code",
      "metadata": {
        "colab": {
          "base_uri": "https://localhost:8080/"
        },
        "id": "gWOkR79K-piG",
        "outputId": "4ba6859e-e968-48eb-e77f-01a558a9a60f"
      },
      "source": [
        "data6 = [(1,\"Smith\",-1,\"2018\",\"10\",\"M\",3000), \\\n",
        "    (2,\"Rose\",1,\"2010\",\"20\",\"M\",4000), \\\n",
        "    (3,\"Williams\",1,\"2010\",\"10\",\"M\",1000), \\\n",
        "    (4,\"Jones\",2,\"2005\",\"10\",\"F\",2000), \\\n",
        "    (5,\"Brown\",2,\"2010\",\"40\",\"\",-1), \\\n",
        "      (6,\"Brown\",2,\"2010\",\"50\",\"\",-1) \\\n",
        "  ]\n",
        "columns6 = [\"emp_id\",\"name\",\"superior_emp_id\",\"year_joined\", \\\n",
        "       \"emp_dept_id\",\"gender\",\"salary\"]\n",
        "\n",
        "df6 = spark.createDataFrame(data=data6, schema = columns6)\n",
        "df6.printSchema()\n",
        "df6.show(truncate=False)\n",
        "\n",
        "data7 = [(\"Finance\",10), \\\n",
        "    (\"Marketing\",20), \\\n",
        "    (\"Sales\",30), \\\n",
        "    (\"IT\",40) \\\n",
        "  ]\n",
        "columns7 = [\"dept_name\",\"dept_id\"]\n",
        "df7 = spark.createDataFrame(data=data7, schema = columns7)\n",
        "df7.printSchema()\n",
        "df7.show(truncate=False)"
      ],
      "execution_count": 27,
      "outputs": [
        {
          "output_type": "stream",
          "name": "stdout",
          "text": [
            "root\n",
            " |-- emp_id: long (nullable = true)\n",
            " |-- name: string (nullable = true)\n",
            " |-- superior_emp_id: long (nullable = true)\n",
            " |-- year_joined: string (nullable = true)\n",
            " |-- emp_dept_id: string (nullable = true)\n",
            " |-- gender: string (nullable = true)\n",
            " |-- salary: long (nullable = true)\n",
            "\n",
            "+------+--------+---------------+-----------+-----------+------+------+\n",
            "|emp_id|name    |superior_emp_id|year_joined|emp_dept_id|gender|salary|\n",
            "+------+--------+---------------+-----------+-----------+------+------+\n",
            "|1     |Smith   |-1             |2018       |10         |M     |3000  |\n",
            "|2     |Rose    |1              |2010       |20         |M     |4000  |\n",
            "|3     |Williams|1              |2010       |10         |M     |1000  |\n",
            "|4     |Jones   |2              |2005       |10         |F     |2000  |\n",
            "|5     |Brown   |2              |2010       |40         |      |-1    |\n",
            "|6     |Brown   |2              |2010       |50         |      |-1    |\n",
            "+------+--------+---------------+-----------+-----------+------+------+\n",
            "\n",
            "root\n",
            " |-- dept_name: string (nullable = true)\n",
            " |-- dept_id: long (nullable = true)\n",
            "\n",
            "+---------+-------+\n",
            "|dept_name|dept_id|\n",
            "+---------+-------+\n",
            "|Finance  |10     |\n",
            "|Marketing|20     |\n",
            "|Sales    |30     |\n",
            "|IT       |40     |\n",
            "+---------+-------+\n",
            "\n"
          ]
        }
      ]
    },
    {
      "cell_type": "code",
      "metadata": {
        "colab": {
          "base_uri": "https://localhost:8080/"
        },
        "id": "yGyo3FlLACbV",
        "outputId": "ec5a1c34-ed4a-4590-fa51-45ab7955f2f5"
      },
      "source": [
        "df6.join(df7,df6.emp_dept_id ==  df7.dept_id,\"left\").show(truncate=False)"
      ],
      "execution_count": 28,
      "outputs": [
        {
          "output_type": "stream",
          "name": "stdout",
          "text": [
            "+------+--------+---------------+-----------+-----------+------+------+---------+-------+\n",
            "|emp_id|name    |superior_emp_id|year_joined|emp_dept_id|gender|salary|dept_name|dept_id|\n",
            "+------+--------+---------------+-----------+-----------+------+------+---------+-------+\n",
            "|1     |Smith   |-1             |2018       |10         |M     |3000  |Finance  |10     |\n",
            "|3     |Williams|1              |2010       |10         |M     |1000  |Finance  |10     |\n",
            "|4     |Jones   |2              |2005       |10         |F     |2000  |Finance  |10     |\n",
            "|2     |Rose    |1              |2010       |20         |M     |4000  |Marketing|20     |\n",
            "|5     |Brown   |2              |2010       |40         |      |-1    |IT       |40     |\n",
            "|6     |Brown   |2              |2010       |50         |      |-1    |null     |null   |\n",
            "+------+--------+---------------+-----------+-----------+------+------+---------+-------+\n",
            "\n"
          ]
        }
      ]
    },
    {
      "cell_type": "markdown",
      "metadata": {
        "id": "GW5UgEqSA7sO"
      },
      "source": [
        "### Dataframe union and unionByName (if two dataframes with different columns or schema)"
      ]
    },
    {
      "cell_type": "code",
      "metadata": {
        "colab": {
          "base_uri": "https://localhost:8080/"
        },
        "id": "FMDN57i7A_tm",
        "outputId": "1b906978-c4d3-4783-e964-25866fb9a32c"
      },
      "source": [
        "data8 = [(\"James\",\"Sales\",\"NY\",90000,34,10000), \\\n",
        "    (\"Maria\",\"Finance\",\"CA\",90000,24,23000) \\\n",
        "  ]\n",
        "\n",
        "columns8= [\"employee_name\",\"department\",\"state\",\"salary\",\"age\",\"bonus\"]\n",
        "df8 = spark.createDataFrame(data = data8, schema = columns8)\n",
        "df8.printSchema()\n",
        "df8.show(truncate=False)\n",
        "\n",
        "\n",
        "data9 = [(\"James\",\"Sales\",\"NY\",90000,34,10000), \\\n",
        "    (\"Robert\",\"Sales\",\"CA\",81000,30,23000), \\\n",
        "    (\"Maria\",\"Finance\",\"CA\",90000,24,23000) \\\n",
        "  ]\n",
        "\n",
        "columns9= [\"employee_name\",\"department\",\"state\",\"salary\",\"age\",\"bonus\"]\n",
        "df9 = spark.createDataFrame(data = data9, schema = columns9)\n",
        "df9.printSchema()\n",
        "df9.show(truncate=False)\n"
      ],
      "execution_count": 29,
      "outputs": [
        {
          "output_type": "stream",
          "name": "stdout",
          "text": [
            "root\n",
            " |-- employee_name: string (nullable = true)\n",
            " |-- department: string (nullable = true)\n",
            " |-- state: string (nullable = true)\n",
            " |-- salary: long (nullable = true)\n",
            " |-- age: long (nullable = true)\n",
            " |-- bonus: long (nullable = true)\n",
            "\n",
            "+-------------+----------+-----+------+---+-----+\n",
            "|employee_name|department|state|salary|age|bonus|\n",
            "+-------------+----------+-----+------+---+-----+\n",
            "|James        |Sales     |NY   |90000 |34 |10000|\n",
            "|Maria        |Finance   |CA   |90000 |24 |23000|\n",
            "+-------------+----------+-----+------+---+-----+\n",
            "\n",
            "root\n",
            " |-- employee_name: string (nullable = true)\n",
            " |-- department: string (nullable = true)\n",
            " |-- state: string (nullable = true)\n",
            " |-- salary: long (nullable = true)\n",
            " |-- age: long (nullable = true)\n",
            " |-- bonus: long (nullable = true)\n",
            "\n",
            "+-------------+----------+-----+------+---+-----+\n",
            "|employee_name|department|state|salary|age|bonus|\n",
            "+-------------+----------+-----+------+---+-----+\n",
            "|James        |Sales     |NY   |90000 |34 |10000|\n",
            "|Robert       |Sales     |CA   |81000 |30 |23000|\n",
            "|Maria        |Finance   |CA   |90000 |24 |23000|\n",
            "+-------------+----------+-----+------+---+-----+\n",
            "\n"
          ]
        }
      ]
    },
    {
      "cell_type": "code",
      "metadata": {
        "colab": {
          "base_uri": "https://localhost:8080/"
        },
        "id": "NI8lJRk9BteV",
        "outputId": "beadf8a0-6713-421e-ce92-4fdb8f89d8e0"
      },
      "source": [
        "df10 = df8.union(df9).distinct()\n",
        "df10.show(truncate=False)"
      ],
      "execution_count": 30,
      "outputs": [
        {
          "output_type": "stream",
          "name": "stdout",
          "text": [
            "+-------------+----------+-----+------+---+-----+\n",
            "|employee_name|department|state|salary|age|bonus|\n",
            "+-------------+----------+-----+------+---+-----+\n",
            "|James        |Sales     |NY   |90000 |34 |10000|\n",
            "|Maria        |Finance   |CA   |90000 |24 |23000|\n",
            "|Robert       |Sales     |CA   |81000 |30 |23000|\n",
            "+-------------+----------+-----+------+---+-----+\n",
            "\n"
          ]
        }
      ]
    },
    {
      "cell_type": "markdown",
      "metadata": {
        "id": "qhTjAZvgECBG"
      },
      "source": [
        "### PySpark UDF"
      ]
    },
    {
      "cell_type": "code",
      "metadata": {
        "colab": {
          "base_uri": "https://localhost:8080/"
        },
        "id": "5S4CYad9EMWe",
        "outputId": "e66ab304-6ff4-456d-c269-ebe8638618f4"
      },
      "source": [
        "data11 = [(\"1\", \"john jones\"),\n",
        "    (\"2\", \"tracey smith\"),\n",
        "    (\"3\", \"amy sanders\")]\n",
        "\n",
        "columns11 = [\"User_id\",\"Name\"]\n",
        "\n",
        "df11 = spark.createDataFrame(data=data11,schema=columns11)\n",
        "df11.show(truncate=False)"
      ],
      "execution_count": 31,
      "outputs": [
        {
          "output_type": "stream",
          "name": "stdout",
          "text": [
            "+-------+------------+\n",
            "|User_id|Name        |\n",
            "+-------+------------+\n",
            "|1      |john jones  |\n",
            "|2      |tracey smith|\n",
            "|3      |amy sanders |\n",
            "+-------+------------+\n",
            "\n"
          ]
        }
      ]
    },
    {
      "cell_type": "code",
      "metadata": {
        "id": "ZSDTfGFUFeYV"
      },
      "source": [
        "def convertCase(str):\n",
        "    resStr=\"\"\n",
        "    arr = str.split(\" \")\n",
        "    for x in arr:\n",
        "       resStr= resStr + x[0:1].upper() + x[1:len(x)] + \" \"\n",
        "    return resStr "
      ],
      "execution_count": 32,
      "outputs": []
    },
    {
      "cell_type": "code",
      "metadata": {
        "id": "fzq2LgAMFuDG"
      },
      "source": [
        "convertUDF = udf(lambda z: convertCase(z),StringType())"
      ],
      "execution_count": 33,
      "outputs": []
    },
    {
      "cell_type": "code",
      "metadata": {
        "colab": {
          "base_uri": "https://localhost:8080/"
        },
        "id": "ynDVZmgcF0JW",
        "outputId": "ec153d80-b7aa-42fa-c9aa-347168f31933"
      },
      "source": [
        "df11.select(col(\"User_id\"),convertUDF(col(\"Name\")).alias(\"Name\")).show(truncate=False)"
      ],
      "execution_count": 34,
      "outputs": [
        {
          "output_type": "stream",
          "name": "stdout",
          "text": [
            "+-------+-------------+\n",
            "|User_id|Name         |\n",
            "+-------+-------------+\n",
            "|1      |John Jones   |\n",
            "|2      |Tracey Smith |\n",
            "|3      |Amy Sanders  |\n",
            "+-------+-------------+\n",
            "\n"
          ]
        }
      ]
    },
    {
      "cell_type": "markdown",
      "metadata": {
        "id": "2Rws81cnIoAY"
      },
      "source": [
        "### Pivot dataframe"
      ]
    },
    {
      "cell_type": "code",
      "metadata": {
        "colab": {
          "base_uri": "https://localhost:8080/"
        },
        "id": "jNdlV8gxInro",
        "outputId": "fb8d0498-640e-42f6-87e6-f46857c514c4"
      },
      "source": [
        "data12 = [(\"Banana\",1000,\"USA\"), (\"Carrots\",1500,\"USA\"), (\"Beans\",1600,\"USA\"), \\\n",
        "      (\"Orange\",2000,\"USA\"),(\"Orange\",2000,\"USA\"),(\"Banana\",400,\"China\"), \\\n",
        "      (\"Carrots\",1200,\"China\"),(\"Beans\",1500,\"China\"),(\"Orange\",4000,\"China\"), \\\n",
        "      (\"Banana\",2000,\"Canada\"),(\"Carrots\",2000,\"Canada\"),(\"Beans\",2000,\"Mexico\")]\n",
        "\n",
        "columns12 = [\"Product\",\"Amount\",\"Country\"]\n",
        "df12 = spark.createDataFrame(data = data12, schema = columns12)\n",
        "df12.printSchema()\n",
        "df12.show(truncate=False)"
      ],
      "execution_count": 35,
      "outputs": [
        {
          "output_type": "stream",
          "name": "stdout",
          "text": [
            "root\n",
            " |-- Product: string (nullable = true)\n",
            " |-- Amount: long (nullable = true)\n",
            " |-- Country: string (nullable = true)\n",
            "\n",
            "+-------+------+-------+\n",
            "|Product|Amount|Country|\n",
            "+-------+------+-------+\n",
            "|Banana |1000  |USA    |\n",
            "|Carrots|1500  |USA    |\n",
            "|Beans  |1600  |USA    |\n",
            "|Orange |2000  |USA    |\n",
            "|Orange |2000  |USA    |\n",
            "|Banana |400   |China  |\n",
            "|Carrots|1200  |China  |\n",
            "|Beans  |1500  |China  |\n",
            "|Orange |4000  |China  |\n",
            "|Banana |2000  |Canada |\n",
            "|Carrots|2000  |Canada |\n",
            "|Beans  |2000  |Mexico |\n",
            "+-------+------+-------+\n",
            "\n"
          ]
        }
      ]
    },
    {
      "cell_type": "code",
      "metadata": {
        "colab": {
          "base_uri": "https://localhost:8080/"
        },
        "id": "7jJJcpiSIz6G",
        "outputId": "cd636cb3-47d6-4ba5-d63d-726ecd179f82"
      },
      "source": [
        "countries = [\"USA\",\"China\",\"Canada\"]\n",
        "pivot_df12 = df12.groupBy(\"Product\").pivot(\"Country\",countries).sum(\"Amount\")\n",
        "pivot_df12.printSchema()\n",
        "pivot_df12.show(truncate=False)"
      ],
      "execution_count": 36,
      "outputs": [
        {
          "output_type": "stream",
          "name": "stdout",
          "text": [
            "root\n",
            " |-- Product: string (nullable = true)\n",
            " |-- USA: long (nullable = true)\n",
            " |-- China: long (nullable = true)\n",
            " |-- Canada: long (nullable = true)\n",
            "\n",
            "+-------+----+-----+------+\n",
            "|Product|USA |China|Canada|\n",
            "+-------+----+-----+------+\n",
            "|Orange |4000|4000 |null  |\n",
            "|Beans  |1600|1500 |null  |\n",
            "|Banana |1000|400  |2000  |\n",
            "|Carrots|1500|1200 |2000  |\n",
            "+-------+----+-----+------+\n",
            "\n"
          ]
        }
      ]
    },
    {
      "cell_type": "code",
      "metadata": {
        "colab": {
          "base_uri": "https://localhost:8080/"
        },
        "id": "9Dxifu6LJq3e",
        "outputId": "26f0d62e-17ba-486f-af60-e3185c1e5045"
      },
      "source": [
        "pivot_df12.na.fill(value=0).show()"
      ],
      "execution_count": 37,
      "outputs": [
        {
          "output_type": "stream",
          "name": "stdout",
          "text": [
            "+-------+----+-----+------+\n",
            "|Product| USA|China|Canada|\n",
            "+-------+----+-----+------+\n",
            "| Orange|4000| 4000|     0|\n",
            "|  Beans|1600| 1500|     0|\n",
            "| Banana|1000|  400|  2000|\n",
            "|Carrots|1500| 1200|  2000|\n",
            "+-------+----+-----+------+\n",
            "\n"
          ]
        }
      ]
    },
    {
      "cell_type": "markdown",
      "metadata": {
        "id": "43Qa2b-WKifJ"
      },
      "source": [
        "### PySpark partitionBy"
      ]
    },
    {
      "cell_type": "code",
      "metadata": {
        "id": "i81hGewFOcbl"
      },
      "source": [
        "# Удаление созданного каталога \n",
        "# !rm -Rf /content/tmp"
      ],
      "execution_count": 38,
      "outputs": []
    },
    {
      "cell_type": "code",
      "metadata": {
        "id": "DZRJvl8gKm5m"
      },
      "source": [
        "df12.write.option(\"header\",True) \\\n",
        "        .partitionBy(\"Product\") \\\n",
        "        .mode(\"overwrite\") \\\n",
        "        .csv(\"/content/tmp/sales_product\")"
      ],
      "execution_count": 39,
      "outputs": []
    },
    {
      "cell_type": "code",
      "metadata": {
        "colab": {
          "base_uri": "https://localhost:8080/"
        },
        "id": "oLpghLb5LsLP",
        "outputId": "e6cc864d-6cee-4f1c-cf52-5b216fd4ec2d"
      },
      "source": [
        "df12_=spark.read.option(\"header\",True).csv(\"/content/tmp/sales_product\")\n",
        "df12_.printSchema()\n",
        "df12_.show()"
      ],
      "execution_count": 40,
      "outputs": [
        {
          "output_type": "stream",
          "name": "stdout",
          "text": [
            "root\n",
            " |-- Amount: string (nullable = true)\n",
            " |-- Country: string (nullable = true)\n",
            " |-- Product: string (nullable = true)\n",
            "\n",
            "+------+-------+-------+\n",
            "|Amount|Country|Product|\n",
            "+------+-------+-------+\n",
            "|  1200|  China|Carrots|\n",
            "|  2000| Canada|Carrots|\n",
            "|  1500|  China|  Beans|\n",
            "|  2000| Mexico|  Beans|\n",
            "|  1000|    USA| Banana|\n",
            "|   400|  China| Banana|\n",
            "|  2000|    USA| Orange|\n",
            "|  2000|    USA| Orange|\n",
            "|  2000| Canada| Banana|\n",
            "|  4000|  China| Orange|\n",
            "|  1500|    USA|Carrots|\n",
            "|  1600|    USA|  Beans|\n",
            "+------+-------+-------+\n",
            "\n"
          ]
        }
      ]
    },
    {
      "cell_type": "markdown",
      "metadata": {
        "id": "W0Ya13V-O5Ee"
      },
      "source": [
        "### Read and write parquet file"
      ]
    },
    {
      "cell_type": "code",
      "metadata": {
        "id": "6wSg82xNO8wQ"
      },
      "source": [
        "df12.write.option(\"header\",True) \\\n",
        "            .partitionBy(\"Product\") \\\n",
        "            .mode('overwrite') \\\n",
        "            .parquet(\"/content/tmp/parquet/sales.parquet\")"
      ],
      "execution_count": 41,
      "outputs": []
    },
    {
      "cell_type": "code",
      "metadata": {
        "colab": {
          "base_uri": "https://localhost:8080/"
        },
        "id": "iedniHgfSWvH",
        "outputId": "a359a224-a20c-40e9-feb4-18ea8800781f"
      },
      "source": [
        "df12_par=spark.read.parquet(\"/content/tmp/parquet/sales.parquet\")\n",
        "df12_par.show(truncate=False)"
      ],
      "execution_count": 42,
      "outputs": [
        {
          "output_type": "stream",
          "name": "stdout",
          "text": [
            "+------+-------+-------+\n",
            "|Amount|Country|Product|\n",
            "+------+-------+-------+\n",
            "|2000  |USA    |Orange |\n",
            "|2000  |USA    |Orange |\n",
            "|2000  |Canada |Banana |\n",
            "|1200  |China  |Carrots|\n",
            "|2000  |Canada |Carrots|\n",
            "|1500  |China  |Beans  |\n",
            "|2000  |Mexico |Beans  |\n",
            "|4000  |China  |Orange |\n",
            "|1000  |USA    |Banana |\n",
            "|400   |China  |Banana |\n",
            "|1500  |USA    |Carrots|\n",
            "|1600  |USA    |Beans  |\n",
            "+------+-------+-------+\n",
            "\n"
          ]
        }
      ]
    },
    {
      "cell_type": "code",
      "metadata": {
        "colab": {
          "base_uri": "https://localhost:8080/"
        },
        "id": "ju50zp48SgqO",
        "outputId": "d3a1ef0d-853f-4270-ccd0-29a7e5543868"
      },
      "source": [
        "spark.sql(\"DROP VIEW IF EXISTS SALES\")\n",
        "spark.sql(\"CREATE TEMPORARY VIEW SALES USING parquet OPTIONS (path \\\"/content/tmp/parquet/sales.parquet\\\")\")\n",
        "spark.sql(\"SELECT * FROM SALES\" ).show()"
      ],
      "execution_count": 44,
      "outputs": [
        {
          "output_type": "stream",
          "name": "stdout",
          "text": [
            "+------+-------+-------+\n",
            "|Amount|Country|Product|\n",
            "+------+-------+-------+\n",
            "|  2000|    USA| Orange|\n",
            "|  2000|    USA| Orange|\n",
            "|  2000| Canada| Banana|\n",
            "|  1200|  China|Carrots|\n",
            "|  2000| Canada|Carrots|\n",
            "|  1500|  China|  Beans|\n",
            "|  2000| Mexico|  Beans|\n",
            "|  4000|  China| Orange|\n",
            "|  1000|    USA| Banana|\n",
            "|   400|  China| Banana|\n",
            "|  1500|    USA|Carrots|\n",
            "|  1600|    USA|  Beans|\n",
            "+------+-------+-------+\n",
            "\n"
          ]
        }
      ]
    }
  ]
}
