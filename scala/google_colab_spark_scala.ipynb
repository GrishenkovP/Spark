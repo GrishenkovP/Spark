{
  "nbformat": 4,
  "nbformat_minor": 0,
  "metadata": {
    "colab": {
      "provenance": []
    },
    "kernelspec": {
      "name": "python3",
      "display_name": "Python 3"
    },
    "language_info": {
      "name": "python"
    }
  },
  "cells": [
    {
      "cell_type": "markdown",
      "source": [
        "### Установка JVM"
      ],
      "metadata": {
        "id": "v_CI8Yvuu2Ap"
      }
    },
    {
      "cell_type": "code",
      "execution_count": null,
      "metadata": {
        "id": "OiwnH8bDhdU0"
      },
      "outputs": [],
      "source": [
        "%%capture\n",
        "!sudo apt-get update\n",
        "!sudo apt-get upgrade\n",
        "!sudo apt-get install default-jre\n",
        "#!java -version"
      ]
    },
    {
      "cell_type": "markdown",
      "source": [
        "### Установка Apache Spark"
      ],
      "metadata": {
        "id": "dKuMaXV1u77-"
      }
    },
    {
      "cell_type": "code",
      "source": [
        "!wget -q https://archive.apache.org/dist/spark/spark-3.4.1/spark-3.4.1-bin-hadoop3-scala2.13.tgz\n",
        "!tar -xzf /content/spark-3.4.1-bin-hadoop3-scala2.13.tgz\n",
        "!mv /content/spark-3.4.1-bin-hadoop3-scala2.13 /content/spark\n",
        "!rm /content/spark-3.4.1-bin-hadoop3-scala2.13.tgz"
      ],
      "metadata": {
        "id": "M35zwV69iIjK"
      },
      "execution_count": null,
      "outputs": []
    },
    {
      "cell_type": "markdown",
      "source": [
        "### Проверка версии Apache Spark и Scala"
      ],
      "metadata": {
        "id": "T3NLsLLFvN4X"
      }
    },
    {
      "cell_type": "code",
      "source": [
        "!/content/spark/bin/spark-shell --version"
      ],
      "metadata": {
        "colab": {
          "base_uri": "https://localhost:8080/"
        },
        "id": "ZDyZ401svVD8",
        "outputId": "fbd9e209-edfe-4436-a0d6-4e3364cff987"
      },
      "execution_count": null,
      "outputs": [
        {
          "output_type": "stream",
          "name": "stdout",
          "text": [
            "Welcome to\n",
            "      ____              __\n",
            "     / __/__  ___ _____/ /__\n",
            "    _\\ \\/ _ \\/ _ `/ __/  '_/\n",
            "   /___/ .__/\\_,_/_/ /_/\\_\\   version 3.4.1\n",
            "      /_/\n",
            "                        \n",
            "Using Scala version 2.13.8, OpenJDK 64-Bit Server VM, 11.0.20.1\n",
            "Branch HEAD\n",
            "Compiled by user centos on 2023-06-19T22:21:01Z\n",
            "Revision 6b1ff22dde1ead51cbf370be6e48a802daae58b6\n",
            "Url https://github.com/apache/spark\n",
            "Type --help for more information.\n"
          ]
        }
      ]
    },
    {
      "cell_type": "markdown",
      "source": [
        "### Создание структуры папок/файлов проекта"
      ],
      "metadata": {
        "id": "u82mdjeRvrKU"
      }
    },
    {
      "cell_type": "code",
      "source": [
        "!mkdir -p /content/SparkProject/src/{main,test}/{java,resources,scala}\n",
        "!mkdir /content/SparkProject/{project,target}"
      ],
      "metadata": {
        "id": "PxsPzWSdkbnn"
      },
      "execution_count": null,
      "outputs": []
    },
    {
      "cell_type": "code",
      "source": [
        "!touch /content/SparkProject/build.sbt\n",
        "!touch /content/SparkProject/src/main/scala/SimpleApp.scala"
      ],
      "metadata": {
        "id": "iQlSlXScqXo2"
      },
      "execution_count": null,
      "outputs": []
    },
    {
      "cell_type": "markdown",
      "source": [
        "### Заполнение файлов build.sbt и SimpleApp.scala"
      ],
      "metadata": {
        "id": "kuhkU6WvwH9v"
      }
    },
    {
      "cell_type": "markdown",
      "source": [
        "**Содержимое файла build.sbt**\n",
        "\n",
        "```\n",
        "name := \"Simple Project\"\n",
        "\n",
        "version := \"1.0\"\n",
        "\n",
        "scalaVersion := \"2.13.8\"\n",
        "\n",
        "val sparkVersion = \"3.4.1\"\n",
        "\n",
        "libraryDependencies ++= Seq(\n",
        "  \"org.apache.spark\" %% \"spark-core\" % sparkVersion,\n",
        "  \"org.apache.spark\" %% \"spark-sql\" % sparkVersion\n",
        ")\n",
        "```"
      ],
      "metadata": {
        "id": "0yrBhxFAswHY"
      }
    },
    {
      "cell_type": "markdown",
      "source": [
        "**Содержимое файла SimpleApp.scala**\n",
        "```\n",
        "import org.apache.spark.sql.SparkSession\n",
        "\n",
        "object SimpleApp {\n",
        "  def main(args: Array[String]) {\n",
        "    val logFile = \"/content/spark/README.md\"\n",
        "    val spark = SparkSession.builder\n",
        "                           .master(\"local[*]\")\n",
        "                           .appName(\"Simple Application\")\n",
        "                           .getOrCreate()\n",
        "    val logData = spark.read.textFile(logFile).cache()\n",
        "    val numAs = logData.filter(line => line.contains(\"a\")).count()\n",
        "    val numBs = logData.filter(line => line.contains(\"b\")).count()\n",
        "    println(\"*****\")\n",
        "    println(s\"Lines with a: $numAs, Lines with b: $numBs\")\n",
        "    println(\"*****\")\n",
        "    spark.stop()\n",
        "  }\n",
        "}\n",
        "```"
      ],
      "metadata": {
        "id": "-saG8K5rtU-A"
      }
    },
    {
      "cell_type": "markdown",
      "source": [
        "### Установка SBT"
      ],
      "metadata": {
        "id": "GpltikZcwpNn"
      }
    },
    {
      "cell_type": "code",
      "source": [
        "%%capture\n",
        "!echo \"deb https://repo.scala-sbt.org/scalasbt/debian all main\" | sudo tee /etc/apt/sources.list.d/sbt.list\n",
        "!echo \"deb https://repo.scala-sbt.org/scalasbt/debian /\" | sudo tee /etc/apt/sources.list.d/sbt_old.list\n",
        "!curl -sL \"https://keyserver.ubuntu.com/pks/lookup?op=get&search=0x2EE0EA64E40A89B84B2DF73499E82A75642AC823\" | sudo apt-key add\n",
        "!sudo apt-get update\n",
        "!sudo apt-get install sbt"
      ],
      "metadata": {
        "id": "QymH4XaPIKSm"
      },
      "execution_count": null,
      "outputs": []
    },
    {
      "cell_type": "markdown",
      "source": [
        "### Смена рабочей папки"
      ],
      "metadata": {
        "id": "f7x_Ua4-xR3f"
      }
    },
    {
      "cell_type": "code",
      "source": [
        "%cd /content/SparkProject"
      ],
      "metadata": {
        "colab": {
          "base_uri": "https://localhost:8080/"
        },
        "id": "vwbZ-3LsxW4_",
        "outputId": "5371a5a4-7855-46d7-b00d-e6b69246834f"
      },
      "execution_count": null,
      "outputs": [
        {
          "output_type": "stream",
          "name": "stdout",
          "text": [
            "/content/SparkProject\n"
          ]
        }
      ]
    },
    {
      "cell_type": "markdown",
      "source": [
        "### Сборка"
      ],
      "metadata": {
        "id": "SYGh2RylxnQG"
      }
    },
    {
      "cell_type": "code",
      "source": [
        "!sbt package"
      ],
      "metadata": {
        "id": "X7C8TrC_uBTd"
      },
      "execution_count": null,
      "outputs": []
    },
    {
      "cell_type": "markdown",
      "source": [
        "### Вывод результата"
      ],
      "metadata": {
        "id": "t7ucIz46yuXe"
      }
    },
    {
      "cell_type": "code",
      "source": [
        "!/content/spark/bin/spark-submit \\\n",
        "                --class \"SimpleApp\" \\\n",
        "                --master local[*] \\\n",
        "                /content/SparkProject/target/scala-2.13/simple-project_2.13-1.0.jar"
      ],
      "metadata": {
        "id": "zPDxWyaapPEP"
      },
      "execution_count": null,
      "outputs": []
    }
  ]
}