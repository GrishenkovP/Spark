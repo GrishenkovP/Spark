{
  "nbformat": 4,
  "nbformat_minor": 0,
  "metadata": {
    "colab": {
      "name": "google_colab_spark_postgresql.ipynb",
      "provenance": [],
      "collapsed_sections": []
    },
    "kernelspec": {
      "name": "python3",
      "display_name": "Python 3"
    },
    "language_info": {
      "name": "python"
    }
  },
  "cells": [
    {
      "cell_type": "code",
      "execution_count": 1,
      "metadata": {
        "id": "tNyvGDdqK4Lx"
      },
      "outputs": [],
      "source": [
        "%%capture\n",
        "# Install postgresql server\n",
        "!sudo apt-get -y -qq update\n",
        "!sudo apt-get -y -qq install postgresql\n",
        "!sudo service postgresql start\n",
        "\n",
        "# Setup a password `postgres` for username `postgres`\n",
        "!sudo -u postgres psql -U postgres -c \"ALTER USER postgres PASSWORD 'postgres';\"\n",
        "\n",
        "# Setup a database with name `tfio_demo` to be used\n",
        "!sudo -u postgres psql -U postgres -c 'DROP DATABASE IF EXISTS db;'\n",
        "!sudo -u postgres psql -U postgres -c 'CREATE DATABASE db;'"
      ]
    },
    {
      "cell_type": "code",
      "source": [
        "import pandas as pd\n",
        "from sqlalchemy import create_engine"
      ],
      "metadata": {
        "id": "el9sI2-ULUju"
      },
      "execution_count": 2,
      "outputs": []
    },
    {
      "cell_type": "code",
      "source": [
        "user = 'postgres'\n",
        "password = 'postgres'\n",
        "host = 'localhost'\n",
        "post = 5432\n",
        "name = 'db'"
      ],
      "metadata": {
        "id": "nlZWOPPaLWdm"
      },
      "execution_count": 3,
      "outputs": []
    },
    {
      "cell_type": "code",
      "source": [
        "point = 'postgresql://{}:{}@{}:{}/{}'.format(user, password, host, post, name)"
      ],
      "metadata": {
        "id": "5vAYP1FYLYQV"
      },
      "execution_count": 4,
      "outputs": []
    },
    {
      "cell_type": "code",
      "source": [
        "con = create_engine(point)"
      ],
      "metadata": {
        "colab": {
          "base_uri": "https://localhost:8080/"
        },
        "id": "SO8ZFjfoLZz9",
        "outputId": "0adcc8f1-8ab3-4b54-900f-d2a8e776cc16"
      },
      "execution_count": 5,
      "outputs": [
        {
          "output_type": "stream",
          "name": "stderr",
          "text": [
            "/usr/local/lib/python3.7/dist-packages/psycopg2/__init__.py:144: UserWarning: The psycopg2 wheel package will be renamed from release 2.8; in order to keep installing from binary please use \"pip install psycopg2-binary\" instead. For details see: <http://initd.org/psycopg/docs/install.html#binary-install-from-pypi>.\n",
            "  \"\"\")\n"
          ]
        }
      ]
    },
    {
      "cell_type": "code",
      "source": [
        "df_test = pd.read_csv('/content/data_two_columns.csv')"
      ],
      "metadata": {
        "id": "cWce-Yy7Lbjd"
      },
      "execution_count": 7,
      "outputs": []
    },
    {
      "cell_type": "code",
      "source": [
        "df_test.to_sql(\"sales_test\", con, if_exists='replace', index=False, method='multi')"
      ],
      "metadata": {
        "id": "yN1ZbZ9pLdm-"
      },
      "execution_count": 8,
      "outputs": []
    },
    {
      "cell_type": "code",
      "source": [
        "def select_postgresql(sql):\n",
        "    return pd.read_sql(sql, con)"
      ],
      "metadata": {
        "id": "YqyjXFo6LfvW"
      },
      "execution_count": 9,
      "outputs": []
    },
    {
      "cell_type": "code",
      "source": [
        "sql = \"\"\"select s.* from sales_test as s limit 10\"\"\""
      ],
      "metadata": {
        "id": "DskkNaN4LhXN"
      },
      "execution_count": 10,
      "outputs": []
    },
    {
      "cell_type": "code",
      "source": [
        "print(select_postgresql(sql))"
      ],
      "metadata": {
        "colab": {
          "base_uri": "https://localhost:8080/"
        },
        "id": "aQ8XLeV-Liye",
        "outputId": "8d155357-697a-465b-eeb5-d49ebfbdea18"
      },
      "execution_count": 11,
      "outputs": [
        {
          "output_type": "stream",
          "name": "stdout",
          "text": [
            "  invoiceno stockcode\n",
            "0    536365    85123A\n",
            "1    536365     71053\n",
            "2    536365    84406B\n",
            "3    536365    84029G\n",
            "4    536365    84029E\n",
            "5    536365     22752\n",
            "6    536365     21730\n",
            "7    536366     22633\n",
            "8    536366     22632\n",
            "9    536367     84879\n"
          ]
        }
      ]
    },
    {
      "cell_type": "code",
      "source": [
        "%%capture\n",
        "!pip install pyspark"
      ],
      "metadata": {
        "id": "Zemn3NdkMCre"
      },
      "execution_count": 12,
      "outputs": []
    },
    {
      "cell_type": "code",
      "source": [
        "from pyspark.sql import SparkSession"
      ],
      "metadata": {
        "id": "qh-ZMGVRNMn9"
      },
      "execution_count": 13,
      "outputs": []
    },
    {
      "cell_type": "code",
      "source": [
        "!wget https://jdbc.postgresql.org/download/postgresql-42.3.3.jar"
      ],
      "metadata": {
        "colab": {
          "base_uri": "https://localhost:8080/"
        },
        "id": "if_kfmZnPCq0",
        "outputId": "ddaf8334-7fed-4045-ec73-130162e1de46"
      },
      "execution_count": 14,
      "outputs": [
        {
          "output_type": "stream",
          "name": "stdout",
          "text": [
            "--2022-03-21 11:54:30--  https://jdbc.postgresql.org/download/postgresql-42.3.3.jar\n",
            "Resolving jdbc.postgresql.org (jdbc.postgresql.org)... 72.32.157.228, 2001:4800:3e1:1::228\n",
            "Connecting to jdbc.postgresql.org (jdbc.postgresql.org)|72.32.157.228|:443... connected.\n",
            "HTTP request sent, awaiting response... 200 OK\n",
            "Length: 1039047 (1015K) [application/java-archive]\n",
            "Saving to: ‘postgresql-42.3.3.jar’\n",
            "\n",
            "postgresql-42.3.3.j 100%[===================>]   1015K  --.-KB/s    in 0.1s    \n",
            "\n",
            "2022-03-21 11:54:31 (6.62 MB/s) - ‘postgresql-42.3.3.jar’ saved [1039047/1039047]\n",
            "\n"
          ]
        }
      ]
    },
    {
      "cell_type": "code",
      "source": [
        "spark = SparkSession \\\n",
        "    .builder \\\n",
        "    .appName(\"Postgresql\") \\\n",
        "    .config(\"spark.jars\", \"/content/postgresql-42.3.3.jar\") \\\n",
        "    .getOrCreate()"
      ],
      "metadata": {
        "id": "lerJW0XwNTiU"
      },
      "execution_count": 15,
      "outputs": []
    },
    {
      "cell_type": "code",
      "source": [
        "# df = spark.read \\\n",
        "#     .format(\"jdbc\") \\\n",
        "#     .option(\"url\", \"jdbc:postgresql://localhost:5432/db\")\\\n",
        "#     .option(\"dbtable\", \"sales_test\") \\\n",
        "#     .option(\"user\", \"postgres\") \\\n",
        "#     .option(\"password\", \"postgres\") \\\n",
        "#     .option(\"driver\", \"org.postgresql.Driver\") \\\n",
        "#     .load()"
      ],
      "metadata": {
        "id": "HqX9Bz-qXs2h"
      },
      "execution_count": null,
      "outputs": []
    },
    {
      "cell_type": "code",
      "source": [
        "df = spark.read.jdbc(url = \"jdbc:postgresql://localhost:5432/db\", \n",
        "                     table = \"(SELECT s.* FROM sales_test as s) as tbl\",\n",
        "                     properties={\"user\": \"postgres\", \"password\": \"postgres\", \"driver\": 'org.postgresql.Driver'}).createTempView('tbl')"
      ],
      "metadata": {
        "id": "Y2VQhmHWVwYq"
      },
      "execution_count": 19,
      "outputs": []
    },
    {
      "cell_type": "code",
      "source": [
        "spark.sql(\"\"\"select t.invoiceno, count(distinct t.stockcode) as count_stockcode\n",
        "           from tbl as t \n",
        "           group by t.invoiceno\n",
        "           order by count(distinct t.stockcode) desc\n",
        "           limit 10\"\"\").show() "
      ],
      "metadata": {
        "colab": {
          "base_uri": "https://localhost:8080/"
        },
        "id": "sas3-8DCSUqU",
        "outputId": "cbe29787-2562-4755-97e7-2adfed0610c3"
      },
      "execution_count": 24,
      "outputs": [
        {
          "output_type": "stream",
          "name": "stdout",
          "text": [
            "+---------+---------------+\n",
            "|invoiceno|count_stockcode|\n",
            "+---------+---------------+\n",
            "|   573585|           1110|\n",
            "|   581219|            749|\n",
            "|   581492|            731|\n",
            "|   580729|            721|\n",
            "|   558475|            704|\n",
            "|   579777|            687|\n",
            "|   581217|            676|\n",
            "|   537434|            674|\n",
            "|   580730|            661|\n",
            "|   580367|            650|\n",
            "+---------+---------------+\n",
            "\n"
          ]
        }
      ]
    }
  ]
}