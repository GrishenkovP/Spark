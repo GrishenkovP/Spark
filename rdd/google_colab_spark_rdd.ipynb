{
  "nbformat": 4,
  "nbformat_minor": 0,
  "metadata": {
    "colab": {
      "provenance": [],
      "collapsed_sections": []
    },
    "kernelspec": {
      "name": "python3",
      "display_name": "Python 3"
    },
    "language_info": {
      "name": "python"
    }
  },
  "cells": [
    {
      "cell_type": "code",
      "execution_count": 1,
      "metadata": {
        "id": "biW6-Ps3Ivc9"
      },
      "outputs": [],
      "source": [
        "%%capture\n",
        "!pip install pyspark"
      ]
    },
    {
      "cell_type": "code",
      "source": [
        "from pyspark.sql import SparkSession"
      ],
      "metadata": {
        "id": "toz5X9iXI_CC"
      },
      "execution_count": 2,
      "outputs": []
    },
    {
      "cell_type": "code",
      "source": [
        "spark = SparkSession.builder.master('local[1]').appName(\"SparkTestRDD\").getOrCreate()"
      ],
      "metadata": {
        "id": "2hnXIuHzJBfx"
      },
      "execution_count": 3,
      "outputs": []
    },
    {
      "cell_type": "markdown",
      "source": [
        "## Basic Information"
      ],
      "metadata": {
        "id": "s-ICTHxuWJrz"
      }
    },
    {
      "cell_type": "code",
      "source": [
        "data = [1,2,3,4,5,6,7,8,9,10,11,12]"
      ],
      "metadata": {
        "id": "10sO0is1JYXS"
      },
      "execution_count": 4,
      "outputs": []
    },
    {
      "cell_type": "code",
      "source": [
        "rdd=spark.sparkContext.parallelize(data)"
      ],
      "metadata": {
        "id": "hoNgyrbeOEhT"
      },
      "execution_count": 5,
      "outputs": []
    },
    {
      "cell_type": "code",
      "source": [
        "rdd.collect()"
      ],
      "metadata": {
        "colab": {
          "base_uri": "https://localhost:8080/"
        },
        "id": "xs72fClHOK0a",
        "outputId": "c61d3c74-89cb-4980-a1f6-bc138dcda170"
      },
      "execution_count": 6,
      "outputs": [
        {
          "output_type": "execute_result",
          "data": {
            "text/plain": [
              "[1, 2, 3, 4, 5, 6, 7, 8, 9, 10, 11, 12]"
            ]
          },
          "metadata": {},
          "execution_count": 6
        }
      ]
    },
    {
      "cell_type": "code",
      "source": [
        "print(f'Count RDD instances - {rdd.count()}')\n",
        "print(f'Sum of RDD elements - {rdd.sum()}')\n",
        "print(f'Maximum value of RDD elements - {rdd.max()}')\n",
        "print(f'Minimum value of RDD elements - {rdd.min()}')\n",
        "print(f'Mean value of RDD elements - {rdd.mean()}')\n",
        "print(f'Standard value of RDD elements - {rdd.stdev()}')\n",
        "print(f'Compute variance of RDD elements - {rdd.variance()}')\n",
        "print(f'Compute histogram by bins - {rdd.histogram(2)}')\n",
        "print(f'Summary statistics - {rdd.stats()}')"
      ],
      "metadata": {
        "colab": {
          "base_uri": "https://localhost:8080/"
        },
        "id": "cEbnS-ewOeIR",
        "outputId": "ddc5f9b0-ebdb-49b4-aa4b-0dd54e2006e2"
      },
      "execution_count": 7,
      "outputs": [
        {
          "output_type": "stream",
          "name": "stdout",
          "text": [
            "Count RDD instances - 12\n",
            "Sum of RDD elements - 78\n",
            "Maximum value of RDD elements - 12\n",
            "Minimum value of RDD elements - 1\n",
            "Mean value of RDD elements - 6.5\n",
            "Standard value of RDD elements - 3.452052529534663\n",
            "Compute variance of RDD elements - 11.916666666666666\n",
            "Compute histogram by bins - ([1.0, 6.5, 12], [6, 6])\n",
            "Summary statistics - (count: 12, mean: 6.5, stdev: 3.452052529534663, max: 12.0, min: 1.0)\n"
          ]
        }
      ]
    },
    {
      "cell_type": "code",
      "source": [
        "data2 = [('a',7), ('a', 2), ('b', 2), ('b',4), ('c',1), ('c',2), ('c',3), ('c',4)]"
      ],
      "metadata": {
        "id": "lms0Mm08RmNq"
      },
      "execution_count": 8,
      "outputs": []
    },
    {
      "cell_type": "code",
      "source": [
        "rdd2=spark.sparkContext.parallelize(data2)"
      ],
      "metadata": {
        "id": "3MCS_VZ1RrRp"
      },
      "execution_count": 9,
      "outputs": []
    },
    {
      "cell_type": "code",
      "source": [
        "rdd2.collect()"
      ],
      "metadata": {
        "colab": {
          "base_uri": "https://localhost:8080/"
        },
        "id": "a5D1WL0ER1Ji",
        "outputId": "98340bf6-e85d-42e7-d86a-2c93b5c2cb1b"
      },
      "execution_count": 10,
      "outputs": [
        {
          "output_type": "execute_result",
          "data": {
            "text/plain": [
              "[('a', 7),\n",
              " ('a', 2),\n",
              " ('b', 2),\n",
              " ('b', 4),\n",
              " ('c', 1),\n",
              " ('c', 2),\n",
              " ('c', 3),\n",
              " ('c', 4)]"
            ]
          },
          "metadata": {},
          "execution_count": 10
        }
      ]
    },
    {
      "cell_type": "code",
      "source": [
        "print(f'Count RDD instances by key - {rdd2.countByKey()}')\n",
        "print(f'Count RDD instances by value - {rdd2.countByValue()}')\n",
        "print(f'Return (key, value) pairs as a dictionary - {rdd2.collectAsMap()}')"
      ],
      "metadata": {
        "colab": {
          "base_uri": "https://localhost:8080/"
        },
        "id": "TSAimcTcSjcq",
        "outputId": "86dc2183-2932-4b98-c745-845dccde4fdb"
      },
      "execution_count": 11,
      "outputs": [
        {
          "output_type": "stream",
          "name": "stdout",
          "text": [
            "Count RDD instances by key - defaultdict(<class 'int'>, {'a': 2, 'b': 2, 'c': 4})\n",
            "Count RDD instances by value - defaultdict(<class 'int'>, {('a', 7): 1, ('a', 2): 1, ('b', 2): 1, ('b', 4): 1, ('c', 1): 1, ('c', 2): 1, ('c', 3): 1, ('c', 4): 1})\n",
            "Return (key, value) pairs as a dictionary - {'a': 2, 'b': 4, 'c': 4}\n"
          ]
        }
      ]
    },
    {
      "cell_type": "markdown",
      "source": [
        "## Selecting Data"
      ],
      "metadata": {
        "id": "xYw2fw1EWW66"
      }
    },
    {
      "cell_type": "code",
      "source": [
        "print(f'Take first 2 RDD elements - {rdd.take(2)}')\n",
        "print(f'Take first RDD element - {rdd.first()}')\n",
        "print(f'Take top 2 RDD elements - {rdd.top(2)}')\n",
        "print(f'Filter the RDD - {rdd.filter(lambda x: x>=5).collect()}')\n",
        "print(f'Return RDD keys - {rdd2.keys().collect()}')\n",
        "print(f'Return distinct RDD values{rdd2.distinct().collect()}')"
      ],
      "metadata": {
        "colab": {
          "base_uri": "https://localhost:8080/"
        },
        "id": "9ZjHccvQTcyS",
        "outputId": "d60ebae8-6ff2-4379-afbe-d6a8c6437c2a"
      },
      "execution_count": 12,
      "outputs": [
        {
          "output_type": "stream",
          "name": "stdout",
          "text": [
            "Take first 2 RDD elements - [1, 2]\n",
            "Take first RDD element - 1\n",
            "Take top 2 RDD elements - [12, 11]\n",
            "Filter the RDD - [5, 6, 7, 8, 9, 10, 11, 12]\n",
            "Return RDD keys - ['a', 'a', 'b', 'b', 'c', 'c', 'c', 'c']\n",
            "Return distinct RDD values[('a', 7), ('a', 2), ('b', 2), ('b', 4), ('c', 1), ('c', 2), ('c', 3), ('c', 4)]\n"
          ]
        }
      ]
    },
    {
      "cell_type": "markdown",
      "source": [
        "## Applying Functions"
      ],
      "metadata": {
        "id": "JbeBrCegYRjb"
      }
    },
    {
      "cell_type": "code",
      "source": [
        "#Apply a function to each RDD element\n",
        "rdd.map(lambda x: x**2).collect()"
      ],
      "metadata": {
        "colab": {
          "base_uri": "https://localhost:8080/"
        },
        "id": "R596Esn9YU0r",
        "outputId": "20566dc1-2fba-4179-a458-333582192980"
      },
      "execution_count": 13,
      "outputs": [
        {
          "output_type": "execute_result",
          "data": {
            "text/plain": [
              "[1, 4, 9, 16, 25, 36, 49, 64, 81, 100, 121, 144]"
            ]
          },
          "metadata": {},
          "execution_count": 13
        }
      ]
    },
    {
      "cell_type": "code",
      "source": [
        "rdd2.map(lambda x: x+(x[1]**2,x[0]*2)).collect()"
      ],
      "metadata": {
        "colab": {
          "base_uri": "https://localhost:8080/"
        },
        "id": "ocPqVJwRZyq8",
        "outputId": "5698a598-843d-48eb-b0e1-3907c17780c3"
      },
      "execution_count": 14,
      "outputs": [
        {
          "output_type": "execute_result",
          "data": {
            "text/plain": [
              "[('a', 7, 49, 'aa'),\n",
              " ('a', 2, 4, 'aa'),\n",
              " ('b', 2, 4, 'bb'),\n",
              " ('b', 4, 16, 'bb'),\n",
              " ('c', 1, 1, 'cc'),\n",
              " ('c', 2, 4, 'cc'),\n",
              " ('c', 3, 9, 'cc'),\n",
              " ('c', 4, 16, 'cc')]"
            ]
          },
          "metadata": {},
          "execution_count": 14
        }
      ]
    },
    {
      "cell_type": "code",
      "source": [
        "data3 = [(\"a\", [\"x\", \"y\", \"z\"]), (\"b\", [\"p\", \"r\"])]"
      ],
      "metadata": {
        "id": "hkGkXG9Abd-V"
      },
      "execution_count": 15,
      "outputs": []
    },
    {
      "cell_type": "code",
      "source": [
        "rdd3 = spark.sparkContext.parallelize(data3)"
      ],
      "metadata": {
        "id": "cMMEeD68c0x6"
      },
      "execution_count": 16,
      "outputs": []
    },
    {
      "cell_type": "code",
      "source": [
        "# Apply a flatMap fucntion to each (key,value) pair of rdd without changing the keys\n",
        "rdd3.flatMapValues(lambda x: x).collect()"
      ],
      "metadata": {
        "colab": {
          "base_uri": "https://localhost:8080/"
        },
        "id": "t5OVeJqDbXlx",
        "outputId": "7d776717-7b68-41c5-8764-b0cbda5b1141"
      },
      "execution_count": 17,
      "outputs": [
        {
          "output_type": "execute_result",
          "data": {
            "text/plain": [
              "[('a', 'x'), ('a', 'y'), ('a', 'z'), ('b', 'p'), ('b', 'r')]"
            ]
          },
          "metadata": {},
          "execution_count": 17
        }
      ]
    },
    {
      "cell_type": "markdown",
      "source": [
        "## Sort"
      ],
      "metadata": {
        "id": "RNIid1XXhXxK"
      }
    },
    {
      "cell_type": "code",
      "source": [
        "# Sort RDD by given fucntion\n",
        "rdd2.sortBy(lambda x: x[1]).collect()"
      ],
      "metadata": {
        "colab": {
          "base_uri": "https://localhost:8080/"
        },
        "id": "aILjmS3ShZ3S",
        "outputId": "fad3a2c2-6fff-4e9a-bc81-bdc41915514c"
      },
      "execution_count": 18,
      "outputs": [
        {
          "output_type": "execute_result",
          "data": {
            "text/plain": [
              "[('c', 1),\n",
              " ('a', 2),\n",
              " ('b', 2),\n",
              " ('c', 2),\n",
              " ('c', 3),\n",
              " ('b', 4),\n",
              " ('c', 4),\n",
              " ('a', 7)]"
            ]
          },
          "metadata": {},
          "execution_count": 18
        }
      ]
    },
    {
      "cell_type": "code",
      "source": [
        "# Sort (key, value) RDD by key\n",
        "rdd2.sortByKey(ascending=False).collect()"
      ],
      "metadata": {
        "colab": {
          "base_uri": "https://localhost:8080/"
        },
        "id": "Cj_1CIImhzJW",
        "outputId": "72c602de-8c62-499d-ce80-2fcb6232f9dd"
      },
      "execution_count": 19,
      "outputs": [
        {
          "output_type": "execute_result",
          "data": {
            "text/plain": [
              "[('c', 1),\n",
              " ('c', 2),\n",
              " ('c', 3),\n",
              " ('c', 4),\n",
              " ('b', 2),\n",
              " ('b', 4),\n",
              " ('a', 7),\n",
              " ('a', 2)]"
            ]
          },
          "metadata": {},
          "execution_count": 19
        }
      ]
    },
    {
      "cell_type": "markdown",
      "source": [
        "## Reshaping Data"
      ],
      "metadata": {
        "id": "RRs8jYO4ilGU"
      }
    },
    {
      "cell_type": "code",
      "source": [
        "# Merge the rdd values for each key\n",
        "rdd2.reduceByKey(lambda x,y: x+y).collect()"
      ],
      "metadata": {
        "colab": {
          "base_uri": "https://localhost:8080/"
        },
        "id": "uTO8tRdYipUy",
        "outputId": "a0468bce-c677-4979-a51a-4872e5c0df62"
      },
      "execution_count": 20,
      "outputs": [
        {
          "output_type": "execute_result",
          "data": {
            "text/plain": [
              "[('a', 9), ('b', 6), ('c', 10)]"
            ]
          },
          "metadata": {},
          "execution_count": 20
        }
      ]
    },
    {
      "cell_type": "code",
      "source": [
        "# Merge the RDD values\n",
        "rdd.reduce(lambda x,y: x+y)"
      ],
      "metadata": {
        "colab": {
          "base_uri": "https://localhost:8080/"
        },
        "id": "CiU1duVGjKTD",
        "outputId": "25e1b50a-fbf8-47c0-d256-27d4a903c8d0"
      },
      "execution_count": 21,
      "outputs": [
        {
          "output_type": "execute_result",
          "data": {
            "text/plain": [
              "78"
            ]
          },
          "metadata": {},
          "execution_count": 21
        }
      ]
    },
    {
      "cell_type": "code",
      "source": [
        "# Return RDD of grouped values\n",
        "rdd.groupBy(lambda x:x%2).mapValues(list).collect()"
      ],
      "metadata": {
        "colab": {
          "base_uri": "https://localhost:8080/"
        },
        "id": "syj20ZEWjiMU",
        "outputId": "60582a3e-99df-4c8b-fb80-31904d7fcb0f"
      },
      "execution_count": 22,
      "outputs": [
        {
          "output_type": "execute_result",
          "data": {
            "text/plain": [
              "[(1, [1, 3, 5, 7, 9, 11]), (0, [2, 4, 6, 8, 10, 12])]"
            ]
          },
          "metadata": {},
          "execution_count": 22
        }
      ]
    },
    {
      "cell_type": "code",
      "source": [
        "# Group RDD by key\n",
        "rdd2.groupByKey().mapValues(list).collect()"
      ],
      "metadata": {
        "colab": {
          "base_uri": "https://localhost:8080/"
        },
        "id": "5BDeDL86j-ei",
        "outputId": "9bd5c1cb-3223-4c95-8a99-cd2ee76a51c9"
      },
      "execution_count": 23,
      "outputs": [
        {
          "output_type": "execute_result",
          "data": {
            "text/plain": [
              "[('a', [7, 2]), ('b', [2, 4]), ('c', [1, 2, 3, 4])]"
            ]
          },
          "metadata": {},
          "execution_count": 23
        }
      ]
    },
    {
      "cell_type": "markdown",
      "source": [
        "## Mathematical Operations"
      ],
      "metadata": {
        "id": "KsATFc1ZksFz"
      }
    },
    {
      "cell_type": "code",
      "source": [
        "data4 = [1,2,3,4,5,6]"
      ],
      "metadata": {
        "id": "dpf-heRcs8e1"
      },
      "execution_count": 24,
      "outputs": []
    },
    {
      "cell_type": "code",
      "source": [
        "rdd4 = spark.sparkContext.parallelize(data4)"
      ],
      "metadata": {
        "id": "eI5EzaBRtFYq"
      },
      "execution_count": 25,
      "outputs": []
    },
    {
      "cell_type": "code",
      "source": [
        "rdd.subtract(rdd4).collect()"
      ],
      "metadata": {
        "colab": {
          "base_uri": "https://localhost:8080/"
        },
        "id": "RhZ9wv2Zk4H2",
        "outputId": "c07c35aa-b853-45bb-85a8-3a2b37d1d29e"
      },
      "execution_count": 26,
      "outputs": [
        {
          "output_type": "execute_result",
          "data": {
            "text/plain": [
              "[8, 10, 12, 7, 9, 11]"
            ]
          },
          "metadata": {},
          "execution_count": 26
        }
      ]
    },
    {
      "cell_type": "code",
      "source": [
        "rdd.intersection(rdd4).collect()"
      ],
      "metadata": {
        "colab": {
          "base_uri": "https://localhost:8080/"
        },
        "id": "USBNRXkNtjWz",
        "outputId": "9d0397d5-420d-4b3d-f532-ce298d01b4b9"
      },
      "execution_count": 27,
      "outputs": [
        {
          "output_type": "execute_result",
          "data": {
            "text/plain": [
              "[2, 4, 6, 1, 3, 5]"
            ]
          },
          "metadata": {},
          "execution_count": 27
        }
      ]
    },
    {
      "cell_type": "code",
      "source": [
        "rdd.union(rdd4).collect()"
      ],
      "metadata": {
        "colab": {
          "base_uri": "https://localhost:8080/"
        },
        "id": "FE74MQiGtvea",
        "outputId": "dac96efb-c9a0-4b52-c9f9-fd7c9f2d1380"
      },
      "execution_count": 28,
      "outputs": [
        {
          "output_type": "execute_result",
          "data": {
            "text/plain": [
              "[1, 2, 3, 4, 5, 6, 7, 8, 9, 10, 11, 12, 1, 2, 3, 4, 5, 6]"
            ]
          },
          "metadata": {},
          "execution_count": 28
        }
      ]
    },
    {
      "cell_type": "markdown",
      "source": [
        "## Join"
      ],
      "metadata": {
        "id": "W3YlcLVUuJNd"
      }
    },
    {
      "cell_type": "code",
      "source": [
        "data5 = [('a',10), ('a', 11), ('b', 20), ('c',30)]\n",
        "data6 = [('a',12), ('b', 21), ('c',31)]"
      ],
      "metadata": {
        "id": "EghMnTH0uKu7"
      },
      "execution_count": 29,
      "outputs": []
    },
    {
      "cell_type": "code",
      "source": [
        "rdd5 = spark.sparkContext.parallelize(data5)\n",
        "rdd6 = spark.sparkContext.parallelize(data6)"
      ],
      "metadata": {
        "id": "G5GEHFFNu0Fj"
      },
      "execution_count": 30,
      "outputs": []
    },
    {
      "cell_type": "code",
      "source": [
        "rdd5.join(rdd6).collect()"
      ],
      "metadata": {
        "colab": {
          "base_uri": "https://localhost:8080/"
        },
        "id": "ezFtzHfju3mK",
        "outputId": "68484032-9ec2-4518-ffb5-310a2862af28"
      },
      "execution_count": 31,
      "outputs": [
        {
          "output_type": "execute_result",
          "data": {
            "text/plain": [
              "[('b', (20, 21)), ('c', (30, 31)), ('a', (10, 12)), ('a', (11, 12))]"
            ]
          },
          "metadata": {},
          "execution_count": 31
        }
      ]
    }
  ]
}