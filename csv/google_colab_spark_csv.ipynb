{
  "nbformat": 4,
  "nbformat_minor": 0,
  "metadata": {
    "colab": {
      "name": "google_colab_pyspark_csv.ipynb",
      "provenance": [],
      "collapsed_sections": []
    },
    "kernelspec": {
      "name": "python3",
      "display_name": "Python 3"
    },
    "language_info": {
      "name": "python"
    }
  },
  "cells": [
    {
      "cell_type": "code",
      "execution_count": 1,
      "metadata": {
        "id": "9WGCpiKB_Wuc"
      },
      "outputs": [],
      "source": [
        "%%capture\n",
        "%%bash\n",
        "pip install pyspark"
      ]
    },
    {
      "cell_type": "code",
      "source": [
        "from pyspark.sql import SparkSession\n",
        "from pyspark.sql.window import Window\n",
        "from pyspark.sql.functions import cume_dist,row_number,col,avg,sum,min,max"
      ],
      "metadata": {
        "id": "kI5CoJgR_fhH"
      },
      "execution_count": 2,
      "outputs": []
    },
    {
      "cell_type": "code",
      "source": [
        "spark = SparkSession.builder.master('local[*]').appName(\"SparkTest\").getOrCreate()"
      ],
      "metadata": {
        "id": "BZLCzsYV_gBV"
      },
      "execution_count": 3,
      "outputs": []
    },
    {
      "cell_type": "code",
      "source": [
        "file_path = '/content/files'"
      ],
      "metadata": {
        "id": "dayDaEgDAIFV"
      },
      "execution_count": 4,
      "outputs": []
    },
    {
      "cell_type": "code",
      "source": [
        "spark.sql(f\"create table sales using csv location '{file_path}/*.csv' options(header 'true', inferSchema 'true', sep ';')\")"
      ],
      "metadata": {
        "colab": {
          "base_uri": "https://localhost:8080/"
        },
        "id": "GtcRMpTRAM-t",
        "outputId": "83dd8973-0d3c-4ad8-ccaf-d0b272af6bf5"
      },
      "execution_count": 6,
      "outputs": [
        {
          "output_type": "execute_result",
          "data": {
            "text/plain": [
              "DataFrame[]"
            ]
          },
          "metadata": {},
          "execution_count": 6
        }
      ]
    },
    {
      "cell_type": "code",
      "source": [
        "df  = spark.sql(\"select input_file_name() as filename, count(*) from sales group by filename\")"
      ],
      "metadata": {
        "id": "Zc9xhD7EAbyH"
      },
      "execution_count": 7,
      "outputs": []
    },
    {
      "cell_type": "code",
      "source": [
        "df.show()"
      ],
      "metadata": {
        "colab": {
          "base_uri": "https://localhost:8080/"
        },
        "id": "tNCYZBHLAjn-",
        "outputId": "a2a0f4a2-a833-4f28-e3b9-8e9a8f9b2669"
      },
      "execution_count": 8,
      "outputs": [
        {
          "output_type": "stream",
          "name": "stdout",
          "text": [
            "+--------------------+--------+\n",
            "|            filename|count(1)|\n",
            "+--------------------+--------+\n",
            "|file:///content/f...|       9|\n",
            "|file:///content/f...|       9|\n",
            "|file:///content/f...|       9|\n",
            "+--------------------+--------+\n",
            "\n"
          ]
        }
      ]
    },
    {
      "cell_type": "code",
      "source": [
        "df_sales = spark.sql(\"select region_id, manager_id, val from sales\")"
      ],
      "metadata": {
        "id": "We6oSgKnAs0O"
      },
      "execution_count": 9,
      "outputs": []
    },
    {
      "cell_type": "code",
      "source": [
        "df_sales.show(50)"
      ],
      "metadata": {
        "colab": {
          "base_uri": "https://localhost:8080/"
        },
        "id": "d0SXfBvlBP-t",
        "outputId": "fd86e2ef-5ece-4589-9c80-05e33fd5ece4"
      },
      "execution_count": 10,
      "outputs": [
        {
          "output_type": "stream",
          "name": "stdout",
          "text": [
            "+---------+----------+---+\n",
            "|region_id|manager_id|val|\n",
            "+---------+----------+---+\n",
            "|       r1|        m6|  5|\n",
            "|       r4|        m3|  3|\n",
            "|       r1|        m7| 10|\n",
            "|       r4|        m3|  2|\n",
            "|       r2|        m2|  1|\n",
            "|       r2|        m6|  5|\n",
            "|       r1|        m6|  6|\n",
            "|       r4|        m2|  2|\n",
            "|       r3|        m1|  2|\n",
            "|       r4|        m4|  9|\n",
            "|       r1|        m4|  3|\n",
            "|       r2|        m4|  3|\n",
            "|       r2|        m5|  1|\n",
            "|       r5|        m7|  4|\n",
            "|       r3|        m5| 10|\n",
            "|       r2|        m3|  4|\n",
            "|       r5|        m5|  8|\n",
            "|       r2|        m7|  4|\n",
            "|       r5|        m3|  2|\n",
            "|       r1|        m1|  4|\n",
            "|       r2|        m7|  4|\n",
            "|       r1|        m1|  5|\n",
            "|       r1|        m2|  5|\n",
            "|       r5|        m4|  6|\n",
            "|       r1|        m3|  9|\n",
            "|       r1|        m4|  8|\n",
            "|       r1|        m7|  7|\n",
            "+---------+----------+---+\n",
            "\n"
          ]
        }
      ]
    },
    {
      "cell_type": "code",
      "source": [
        "w_rm = Window.partitionBy(\"region_id\").orderBy(\"manager_id\")\n",
        "w_r = Window.partitionBy(\"region_id\")"
      ],
      "metadata": {
        "id": "v7iqUen1CSXu"
      },
      "execution_count": 11,
      "outputs": []
    },
    {
      "cell_type": "code",
      "source": [
        "df_sales.withColumn(\"row\",row_number().over(w_rm)) \\\n",
        "       .withColumn(\"cume_dist\",cume_dist().over(w_rm)) \\\n",
        "       .withColumn(\"avg\", avg(col(\"val\")).over(w_r)) \\\n",
        "       .withColumn(\"sum\", sum(col(\"val\")).over(w_r)) \\\n",
        "       .withColumn(\"min\", min(col(\"val\")).over(w_r)) \\\n",
        "       .withColumn(\"max\", max(col(\"val\")).over(w_r)) \\\n",
        "       .show()"
      ],
      "metadata": {
        "colab": {
          "base_uri": "https://localhost:8080/"
        },
        "id": "8unk2rb9Cdz-",
        "outputId": "a5f16c7c-bbc4-4ea3-ed22-b87a1c86f2d2"
      },
      "execution_count": 12,
      "outputs": [
        {
          "output_type": "stream",
          "name": "stdout",
          "text": [
            "+---------+----------+---+---+-------------------+-----------------+---+---+---+\n",
            "|region_id|manager_id|val|row|          cume_dist|              avg|sum|min|max|\n",
            "+---------+----------+---+---+-------------------+-----------------+---+---+---+\n",
            "|       r1|        m1|  4|  1|                0.2|              6.2| 62|  3| 10|\n",
            "|       r1|        m1|  5|  2|                0.2|              6.2| 62|  3| 10|\n",
            "|       r1|        m2|  5|  3|                0.3|              6.2| 62|  3| 10|\n",
            "|       r1|        m3|  9|  4|                0.4|              6.2| 62|  3| 10|\n",
            "|       r1|        m4|  3|  5|                0.6|              6.2| 62|  3| 10|\n",
            "|       r1|        m4|  8|  6|                0.6|              6.2| 62|  3| 10|\n",
            "|       r1|        m6|  5|  7|                0.8|              6.2| 62|  3| 10|\n",
            "|       r1|        m6|  6|  8|                0.8|              6.2| 62|  3| 10|\n",
            "|       r1|        m7| 10|  9|                1.0|              6.2| 62|  3| 10|\n",
            "|       r1|        m7|  7| 10|                1.0|              6.2| 62|  3| 10|\n",
            "|       r2|        m2|  1|  1|0.14285714285714285|3.142857142857143| 22|  1|  5|\n",
            "|       r2|        m3|  4|  2| 0.2857142857142857|3.142857142857143| 22|  1|  5|\n",
            "|       r2|        m4|  3|  3|0.42857142857142855|3.142857142857143| 22|  1|  5|\n",
            "|       r2|        m5|  1|  4| 0.5714285714285714|3.142857142857143| 22|  1|  5|\n",
            "|       r2|        m6|  5|  5| 0.7142857142857143|3.142857142857143| 22|  1|  5|\n",
            "|       r2|        m7|  4|  6|                1.0|3.142857142857143| 22|  1|  5|\n",
            "|       r2|        m7|  4|  7|                1.0|3.142857142857143| 22|  1|  5|\n",
            "|       r3|        m1|  2|  1|                0.5|              6.0| 12|  2| 10|\n",
            "|       r3|        m5| 10|  2|                1.0|              6.0| 12|  2| 10|\n",
            "|       r4|        m2|  2|  1|               0.25|              4.0| 16|  2|  9|\n",
            "+---------+----------+---+---+-------------------+-----------------+---+---+---+\n",
            "only showing top 20 rows\n",
            "\n"
          ]
        }
      ]
    }
  ]
}