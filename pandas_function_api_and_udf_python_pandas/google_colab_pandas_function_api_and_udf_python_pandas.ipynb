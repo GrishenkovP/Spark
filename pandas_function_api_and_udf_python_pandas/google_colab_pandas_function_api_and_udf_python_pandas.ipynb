{
  "nbformat": 4,
  "nbformat_minor": 0,
  "metadata": {
    "colab": {
      "name": "google_colab_pandas_function_api_and_udf_python_pandas.ipynb",
      "provenance": [],
      "collapsed_sections": []
    },
    "kernelspec": {
      "name": "python3",
      "display_name": "Python 3"
    },
    "language_info": {
      "name": "python"
    }
  },
  "cells": [
    {
      "cell_type": "code",
      "metadata": {
        "id": "HvcIMJ4-WRxa"
      },
      "source": [
        "%%capture\n",
        "!pip install pyspark"
      ],
      "execution_count": 1,
      "outputs": []
    },
    {
      "cell_type": "code",
      "metadata": {
        "id": "lHfuUAxXWieG"
      },
      "source": [
        "import pandas as pd\n",
        "from pyspark.sql import SparkSession\n",
        "from pyspark.sql.functions import col, pandas_udf\n",
        "from pyspark.sql import Window\n",
        "from pyspark.sql.types import LongType"
      ],
      "execution_count": 2,
      "outputs": []
    },
    {
      "cell_type": "code",
      "metadata": {
        "id": "OKtZgkn4Wjk6"
      },
      "source": [
        "spark = SparkSession.builder.master('local[*]').appName(\"SparkTest\").getOrCreate()"
      ],
      "execution_count": 3,
      "outputs": []
    },
    {
      "cell_type": "markdown",
      "metadata": {
        "id": "3aIV526shW1R"
      },
      "source": [
        "#pandas_function_api"
      ]
    },
    {
      "cell_type": "markdown",
      "metadata": {
        "id": "fjrmMvUqWFEj"
      },
      "source": [
        "### Grouped map"
      ]
    },
    {
      "cell_type": "code",
      "metadata": {
        "colab": {
          "base_uri": "https://localhost:8080/"
        },
        "id": "In-LnyOyVegb",
        "outputId": "f698df74-ad3e-45af-817c-910e45230715"
      },
      "source": [
        "df1 = spark.createDataFrame(\n",
        "    [(1, 10), (1, 20), (2, 30), (2, 50), (2, 10)],\n",
        "    (\"id\", \"v\"))\n",
        "\n",
        "def subtract_mean(pdf):\n",
        "    # pdf is a pandas.DataFrame\n",
        "    v = pdf.v\n",
        "    return pdf.assign(v=v - v.mean())\n",
        "\n",
        "df1.groupby(\"id\").applyInPandas(subtract_mean, schema=\"id integer, v integer\").show()"
      ],
      "execution_count": 4,
      "outputs": [
        {
          "output_type": "stream",
          "name": "stdout",
          "text": [
            "+---+---+\n",
            "| id|  v|\n",
            "+---+---+\n",
            "|  1| -5|\n",
            "|  1|  5|\n",
            "|  2|  0|\n",
            "|  2| 20|\n",
            "|  2|-20|\n",
            "+---+---+\n",
            "\n"
          ]
        }
      ]
    },
    {
      "cell_type": "markdown",
      "metadata": {
        "id": "yGXIwe4TXH9c"
      },
      "source": [
        "### Map"
      ]
    },
    {
      "cell_type": "code",
      "metadata": {
        "colab": {
          "base_uri": "https://localhost:8080/"
        },
        "id": "S-6K-NaHXJdB",
        "outputId": "399a53a4-70c0-4600-a742-018dc7ef9fc1"
      },
      "source": [
        "df2 = spark.createDataFrame([(1, 21), (2, 30)], (\"id\", \"age\"))\n",
        "\n",
        "def filter_func(iterator):\n",
        "    for pdf in iterator:\n",
        "        yield pdf[pdf.id == 1]\n",
        "\n",
        "df2.mapInPandas(filter_func, schema=df2.schema).show()"
      ],
      "execution_count": 6,
      "outputs": [
        {
          "output_type": "stream",
          "name": "stdout",
          "text": [
            "+---+---+\n",
            "| id|age|\n",
            "+---+---+\n",
            "|  1| 21|\n",
            "+---+---+\n",
            "\n"
          ]
        }
      ]
    },
    {
      "cell_type": "markdown",
      "metadata": {
        "id": "6El1eEb1Xhdq"
      },
      "source": [
        "### Cogrouped map"
      ]
    },
    {
      "cell_type": "code",
      "metadata": {
        "colab": {
          "base_uri": "https://localhost:8080/"
        },
        "id": "zZAetVA2XmnB",
        "outputId": "7ca2e71a-20cd-4d25-bfb1-b330de2f20f9"
      },
      "source": [
        "df3 = spark.createDataFrame(\n",
        "    [(20000101, 1, 1.0), (20000101, 2, 2.0), (20000102, 1, 3.0), (20000102, 2, 4.0)],\n",
        "    (\"time\", \"id\", \"v1\"))\n",
        "\n",
        "df4 = spark.createDataFrame(\n",
        "    [(20000101, 1, \"x\"), (20000101, 2, \"y\")],\n",
        "    (\"time\", \"id\", \"v2\"))\n",
        "\n",
        "def asof_join(l, r):\n",
        "    return pd.merge_asof(l, r, on=\"time\", by=\"id\")\n",
        "\n",
        "df3.groupby(\"id\").cogroup(df4.groupby(\"id\")).applyInPandas(\n",
        "    asof_join, schema=\"time int, id int, v1 double, v2 string\").show()"
      ],
      "execution_count": 7,
      "outputs": [
        {
          "output_type": "stream",
          "name": "stdout",
          "text": [
            "+--------+---+---+---+\n",
            "|    time| id| v1| v2|\n",
            "+--------+---+---+---+\n",
            "|20000101|  1|1.0|  x|\n",
            "|20000102|  1|3.0|  x|\n",
            "|20000101|  2|2.0|  y|\n",
            "|20000102|  2|4.0|  y|\n",
            "+--------+---+---+---+\n",
            "\n"
          ]
        }
      ]
    },
    {
      "cell_type": "markdown",
      "metadata": {
        "id": "dnnAGwKDhanB"
      },
      "source": [
        "#udf_python_pandas"
      ]
    },
    {
      "cell_type": "markdown",
      "metadata": {
        "id": "M8Ha1RZjhf1L"
      },
      "source": [
        "### Series to Series UDF"
      ]
    },
    {
      "cell_type": "code",
      "metadata": {
        "id": "mCbXJlM8hfZ0"
      },
      "source": [
        "def multiply_func(a: pd.Series, b: pd.Series) -> pd.Series:\n",
        "    return a * b"
      ],
      "execution_count": 8,
      "outputs": []
    },
    {
      "cell_type": "code",
      "metadata": {
        "id": "QGcv_b5Vhb25"
      },
      "source": [
        "multiply = pandas_udf(multiply_func, returnType=LongType())"
      ],
      "execution_count": 9,
      "outputs": []
    },
    {
      "cell_type": "code",
      "metadata": {
        "colab": {
          "base_uri": "https://localhost:8080/"
        },
        "id": "6i7nhWmMhroB",
        "outputId": "50e0a607-bb48-4e15-8dbd-9d425bab72cf"
      },
      "source": [
        "x = pd.Series([1, 2, 3])\n",
        "print(multiply_func(x, x))"
      ],
      "execution_count": 10,
      "outputs": [
        {
          "output_type": "stream",
          "name": "stdout",
          "text": [
            "0    1\n",
            "1    4\n",
            "2    9\n",
            "dtype: int64\n"
          ]
        }
      ]
    },
    {
      "cell_type": "code",
      "metadata": {
        "id": "A8IETmCChsiQ"
      },
      "source": [
        "df5 = spark.createDataFrame(pd.DataFrame(x, columns=[\"x\"]))"
      ],
      "execution_count": 11,
      "outputs": []
    },
    {
      "cell_type": "code",
      "metadata": {
        "colab": {
          "base_uri": "https://localhost:8080/"
        },
        "id": "ZP53aeN0h7ap",
        "outputId": "6ffb31fd-2cea-4fc3-93de-400d769181df"
      },
      "source": [
        "df5.select(multiply(col(\"x\"), col(\"x\"))).show()"
      ],
      "execution_count": 12,
      "outputs": [
        {
          "output_type": "stream",
          "name": "stdout",
          "text": [
            "+-------------------+\n",
            "|multiply_func(x, x)|\n",
            "+-------------------+\n",
            "|                  1|\n",
            "|                  4|\n",
            "|                  9|\n",
            "+-------------------+\n",
            "\n"
          ]
        }
      ]
    },
    {
      "cell_type": "markdown",
      "metadata": {
        "id": "sMsBJpo5iFYo"
      },
      "source": [
        "### Series to scalar UDF"
      ]
    },
    {
      "cell_type": "code",
      "metadata": {
        "id": "mZpBnqzriGnQ"
      },
      "source": [
        "df6 = spark.createDataFrame(\n",
        "    [(1, 1.0), (1, 2.0), (2, 3.0), (2, 5.0), (2, 10.0)],\n",
        "    (\"id\", \"v\"))"
      ],
      "execution_count": 13,
      "outputs": []
    },
    {
      "cell_type": "code",
      "metadata": {
        "id": "EsFaw5i_iQBY"
      },
      "source": [
        "@pandas_udf(\"double\")\n",
        "def mean_udf(v: pd.Series) -> float:\n",
        "    return v.mean()"
      ],
      "execution_count": 14,
      "outputs": []
    },
    {
      "cell_type": "code",
      "metadata": {
        "colab": {
          "base_uri": "https://localhost:8080/"
        },
        "id": "k1DaYGuSiREg",
        "outputId": "a46ef379-8787-4bb9-d708-3bd28edf1f0f"
      },
      "source": [
        "df6.select(mean_udf(df6['v'])).show()"
      ],
      "execution_count": 15,
      "outputs": [
        {
          "output_type": "stream",
          "name": "stdout",
          "text": [
            "+-----------+\n",
            "|mean_udf(v)|\n",
            "+-----------+\n",
            "|        4.2|\n",
            "+-----------+\n",
            "\n"
          ]
        }
      ]
    },
    {
      "cell_type": "code",
      "metadata": {
        "colab": {
          "base_uri": "https://localhost:8080/"
        },
        "id": "JlaB3AtUiXDY",
        "outputId": "1f7a22b9-251c-4a5a-e297-00b5b5fd8fd4"
      },
      "source": [
        "df6.groupby(\"id\").agg(mean_udf(df6['v'])).show()"
      ],
      "execution_count": 16,
      "outputs": [
        {
          "output_type": "stream",
          "name": "stdout",
          "text": [
            "+---+-----------+\n",
            "| id|mean_udf(v)|\n",
            "+---+-----------+\n",
            "|  1|        1.5|\n",
            "|  2|        6.0|\n",
            "+---+-----------+\n",
            "\n"
          ]
        }
      ]
    },
    {
      "cell_type": "code",
      "metadata": {
        "colab": {
          "base_uri": "https://localhost:8080/"
        },
        "id": "r0Vv-LayiboI",
        "outputId": "a4b1f556-227c-4acd-f2ef-f78b43100e21"
      },
      "source": [
        "w = Window \\\n",
        "    .partitionBy('id') \\\n",
        "    .rowsBetween(Window.unboundedPreceding, Window.unboundedFollowing)\n",
        "df6.withColumn('mean_v', mean_udf(df6['v']).over(w)).show()"
      ],
      "execution_count": 17,
      "outputs": [
        {
          "output_type": "stream",
          "name": "stdout",
          "text": [
            "+---+----+------+\n",
            "| id|   v|mean_v|\n",
            "+---+----+------+\n",
            "|  1| 1.0|   1.5|\n",
            "|  1| 2.0|   1.5|\n",
            "|  2| 3.0|   6.0|\n",
            "|  2| 5.0|   6.0|\n",
            "|  2|10.0|   6.0|\n",
            "+---+----+------+\n",
            "\n"
          ]
        }
      ]
    }
  ]
}
